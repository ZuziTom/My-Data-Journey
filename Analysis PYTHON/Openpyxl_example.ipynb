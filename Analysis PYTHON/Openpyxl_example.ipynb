{
 "cells": [
  {
   "cell_type": "markdown",
   "metadata": {},
   "source": [
    "## Exercise 1\n",
    "\n",
    "The exercise consist in installing the `openpyxl` library, and than taking some information from the prepared worksheet. Part of the code is already written and only needs to be completed."
   ]
  },
  {
   "cell_type": "code",
   "execution_count": 2,
   "metadata": {},
   "outputs": [
    {
     "name": "stdout",
     "output_type": "stream",
     "text": [
      "Requirement already satisfied: openpyxl in c:\\users\\praha\\anaconda3\\lib\\site-packages (3.0.10)\n",
      "Requirement already satisfied: et_xmlfile in c:\\users\\praha\\anaconda3\\lib\\site-packages (from openpyxl) (1.1.0)\n"
     ]
    }
   ],
   "source": [
    "# put the command here that installs the openpyxl library\n",
    "\n",
    "!pip install openpyxl"
   ]
  },
  {
   "cell_type": "code",
   "execution_count": 2,
   "metadata": {},
   "outputs": [],
   "source": [
    "from openpyxl import load_workbook\n",
    "demo = load_workbook(filename='demo.xlsx', read_only=True)\n",
    "sheet = demo['Sheet1']"
   ]
  },
  {
   "cell_type": "code",
   "execution_count": 4,
   "metadata": {},
   "outputs": [
    {
     "name": "stdout",
     "output_type": "stream",
     "text": [
      "Become\n",
      "an expert in\n",
      "analysis\n",
      "data\n",
      "by\n",
      "learning\n",
      "Python!\n"
     ]
    }
   ],
   "source": [
    "# here, to the \"cells\" list, add the strings: A1, B4, C2, A2, B3, C1, A3\n",
    "cells = [\"A1\", \"B4\", \"C2\", \"A2\", \"B3\", \"C1\", \"A3\"]\n",
    "\n",
    "for cell in cells:\n",
    "    print(sheet[cell].value)"
   ]
  }
 ],
 "metadata": {
  "kernelspec": {
   "display_name": "Python 3 (ipykernel)",
   "language": "python",
   "name": "python3"
  },
  "language_info": {
   "codemirror_mode": {
    "name": "ipython",
    "version": 3
   },
   "file_extension": ".py",
   "mimetype": "text/x-python",
   "name": "python",
   "nbconvert_exporter": "python",
   "pygments_lexer": "ipython3",
   "version": "3.11.5"
  }
 },
 "nbformat": 4,
 "nbformat_minor": 4
}

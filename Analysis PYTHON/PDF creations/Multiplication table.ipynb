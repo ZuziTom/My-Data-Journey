{
 "cells": [
  {
   "cell_type": "markdown",
   "id": "national-prospect",
   "metadata": {},
   "source": [
    "With the `reportlab` library generate a PDF with a multiplication table of the numbers from0 to 10 (inclusive). Make the row and column headers - factors - in bold font; do not use bold for the multiplication products.\n",
    "\n",
    "Hint: Create nested **for** loops: outer one with the `x` variable and the inner one with `y` (or the other way round if you want). Use these variables both to calculate the results of multiplication and to calculate where on the page this number should appear."
   ]
  },
  {
   "cell_type": "code",
   "execution_count": 7,
   "id": "dynamic-location",
   "metadata": {},
   "outputs": [
    {
     "name": "stdout",
     "output_type": "stream",
     "text": [
      "Multiplication table PDF saved at: multiplication_table.pdf\n"
     ]
    }
   ],
   "source": [
    "from reportlab.pdfgen import canvas\n",
    "\n",
    "def generate_multiplication_table(pdf_path):\n",
    "    # Create a PDF document\n",
    "    c = canvas.Canvas(pdf_path)\n",
    "\n",
    "    # Set font style for headers (bold)\n",
    "    c.setFont(\"Helvetica-Bold\", 12)\n",
    "\n",
    "    # Calculate the center of the page\n",
    "    page_center_x = c._pagesize[0] / 2\n",
    "    page_center_y = c._pagesize[1] / 2\n",
    "\n",
    "    # Calculate the starting point for the table to center it and move one column to the right\n",
    "    table_start_x = page_center_x - (10 * 40) / 2 + 40  # Move one column to the right\n",
    "    table_start_y = page_center_y + 230  # Adjust vertically based on your preference\n",
    "\n",
    "    # Draw row headers (factors)\n",
    "    for i in range(1, 11):\n",
    "        row_header_x = table_start_x - 50\n",
    "        row_header_y = table_start_y - (i-1) * 40\n",
    "        c.drawString(row_header_x, row_header_y, str(i))\n",
    "\n",
    "    # Draw column headers (factors)\n",
    "    for i in range(1, 11):\n",
    "        col_header_x = table_start_x + (i-1) * 40\n",
    "        col_header_y = table_start_y + 40\n",
    "        c.drawString(col_header_x, col_header_y, str(i))\n",
    "\n",
    "    # Set font style for multiplication products\n",
    "    c.setFont(\"Helvetica\", 12)\n",
    "\n",
    "    # Draw multiplication table\n",
    "    for i in range(1, 11):\n",
    "        for j in range(1, 11):\n",
    "            result = i * j\n",
    "            result_x = table_start_x + (j-1) * 40\n",
    "            result_y = table_start_y - (i-1) * 40\n",
    "            c.drawString(result_x, result_y, str(result))\n",
    "\n",
    "    # Save the PDF\n",
    "    c.save()\n",
    "\n",
    "# Specify the path where you want to save the PDF\n",
    "pdf_path = \"multiplication_table.pdf\"\n",
    "\n",
    "# Generate and save the multiplication table PDF\n",
    "generate_multiplication_table(pdf_path)\n",
    "\n",
    "print(f\"Multiplication table PDF saved at: {pdf_path}\")"
   ]
  }
 ],
 "metadata": {
  "kernelspec": {
   "display_name": "Python 3",
   "language": "python",
   "name": "python3"
  },
  "language_info": {
   "codemirror_mode": {
    "name": "ipython",
    "version": 3
   },
   "file_extension": ".py",
   "mimetype": "text/x-python",
   "name": "python",
   "nbconvert_exporter": "python",
   "pygments_lexer": "ipython3",
   "version": "3.11.5"
  }
 },
 "nbformat": 4,
 "nbformat_minor": 5
}

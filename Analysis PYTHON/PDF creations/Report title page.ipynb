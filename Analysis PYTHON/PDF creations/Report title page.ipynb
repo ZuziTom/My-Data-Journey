{
 "cells": [
  {
   "cell_type": "markdown",
   "id": "orange-shelf",
   "metadata": {},
   "source": [
    "Use the `reportlab` library to generate the PDF with the title page of the report:\n",
    "- in a larger font, in 1/3 of the page height and with a margin on the left, place the title of the report (if you don't have an idea for it, just put \"Report Title\"),\n",
    "- in 2/3 of the page height and with the same margin as the title, put your name,\n",
    "- just below the name and surname, in smaller font, add \"Copyright `[YEAR]` Company Name. All rights reserved.\" Do not enter a fixed year, use the `datetime` module to get the current year instead.\n",
    "\n",
    "As before, each caption should be created with a separate call to the 'drawString' method."
   ]
  },
  {
   "cell_type": "code",
   "execution_count": 1,
   "id": "impressed-trout",
   "metadata": {},
   "outputs": [],
   "source": [
    "from reportlab.pdfgen import canvas\n",
    "from reportlab.lib.pagesizes import letter\n",
    "from reportlab.lib import colors\n",
    "from datetime import datetime\n",
    "\n",
    "def generate_pdf(file_path):\n",
    "    # Create a PDF canvas with the specified file path and page size (letter size in this case)\n",
    "    c = canvas.Canvas(file_path, pagesize=letter)\n",
    "\n",
    "    # Set font details for the title\n",
    "    title_font_name = \"Helvetica-Bold\"\n",
    "    title_font_size = 20\n",
    "\n",
    "    # Set font details for the name and copyright information\n",
    "    content_font_name = \"Helvetica\"\n",
    "    content_font_size = 12\n",
    "\n",
    "    # Calculate page dimensions\n",
    "    page_width, page_height = letter\n",
    "    margin_left = 50  # You can adjust the margin as needed\n",
    "\n",
    "    # Title\n",
    "    title_text = \"Report Title\"\n",
    "    title_y_position = page_height * 2 / 3  # 2/3 of the page height\n",
    "    c.setFont(title_font_name, title_font_size)\n",
    "    c.drawString(margin_left, title_y_position, title_text)\n",
    "\n",
    "    # Name\n",
    "    name_text = \"Zuzana Tomcik\"\n",
    "    name_y_position = page_height / 3  # 1/3 of the page height\n",
    "    c.setFont(content_font_name, content_font_size)\n",
    "    c.drawString(margin_left, name_y_position, name_text)\n",
    "\n",
    "    # Copyright information with dynamic year\n",
    "    current_year = datetime.now().year\n",
    "    copyright_text = f\"Copyright {current_year} Company Name. All rights reserved.\"\n",
    "    copyright_y_position = name_y_position - content_font_size - 5  # Adjusting position below the name\n",
    "    c.drawString(margin_left, copyright_y_position, copyright_text)\n",
    "\n",
    "    # Save the canvas to the PDF file\n",
    "    c.save()\n",
    "\n",
    "# Specify the file path for the generated PDF\n",
    "pdf_file_path = \"report.pdf\"\n",
    "\n",
    "# Generate the PDF with the title page\n",
    "generate_pdf(pdf_file_path)"
   ]
  }
 ],
 "metadata": {
  "kernelspec": {
   "display_name": "Python 3",
   "language": "python",
   "name": "python3"
  },
  "language_info": {
   "codemirror_mode": {
    "name": "ipython",
    "version": 3
   },
   "file_extension": ".py",
   "mimetype": "text/x-python",
   "name": "python",
   "nbconvert_exporter": "python",
   "pygments_lexer": "ipython3",
   "version": "3.11.5"
  }
 },
 "nbformat": 4,
 "nbformat_minor": 5
}

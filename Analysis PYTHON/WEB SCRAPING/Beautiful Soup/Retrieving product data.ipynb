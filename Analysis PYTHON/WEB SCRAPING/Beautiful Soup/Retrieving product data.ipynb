{
 "cells": [
  {
   "cell_type": "markdown",
   "metadata": {},
   "source": [
    "## Exercise 3\n",
    "\n",
    "Complete the implementation of the `download_product_data(product_url)` function that takes `product_url` of the product and returns a dictionary of the data with the following information:\n",
    "\n",
    "- `price` and currency symbol,\n",
    "- `name`,\n",
    "- quantity (`qty`),\n",
    "- short description (`description_short`)\n",
    "\n",
    "### Example\n",
    "```python\n",
    "product_url = 'https://mystore-testlab.coderslab.pl/index.php?id_product=1&id_product_attribute=1&rewrite=hummingbird-printed-t-shirt&controller=product#/1-size-s/8-color-white'\n",
    "\n",
    "download_item_data(product_url)\n",
    "```\n",
    "\n",
    "Result:\n",
    "```python\n",
    "{'name': 'Hummingbird printed t-shirt',\n",
    " 'price': '€19.12',\n",
    " 'description_short': 'Regular fit, round neckline, short sleeves. Made of extra long staple pima cotton.',\n",
    " 'qty': '999970'}\n",
    "```\n",
    "\n",
    "### Hints\n",
    "- if you don't find an attribute for the product quantity, assume that its value is 0\n",
    "- remember to handle the exception when there is no expected tag in the document"
   ]
  },
  {
   "cell_type": "code",
   "execution_count": 1,
   "metadata": {},
   "outputs": [],
   "source": [
    "# import required libraries here\n",
    "import requests\n",
    "from bs4 import BeautifulSoup\n",
    "\n",
    "r = requests.get('https://mystore-testlab.coderslab.pl/index.php?id_category=3&controller=category')\n",
    "soup = BeautifulSoup(r.text, 'html.parser')"
   ]
  },
  {
   "cell_type": "code",
   "execution_count": 2,
   "metadata": {},
   "outputs": [],
   "source": [
    "def download_product_data(product_url):\n",
    "\n",
    "    product_data = {}\n",
    "\n",
    "    # Extract price and currency symbol\n",
    "    price_element = soup.find('span', class_='price')\n",
    "    if price_element:\n",
    "        product_data['price'] = price_element.text.strip()\n",
    "            \n",
    "    # Check if the currency element is present\n",
    "    currency_element = price_element.find('span', class_='currency')  \n",
    "    if currency_element:\n",
    "        product_data['currency_symbol'] = currency_element.text.strip()\n",
    "\n",
    "    # Extract name\n",
    "    name_element = soup.find('h1', class_='h1')\n",
    "    if name_element:\n",
    "        product_data['name'] = name_element.text.strip()\n",
    "\n",
    "    # Extract quantity\n",
    "    quantity_element = soup.find('span', class_='editable')\n",
    "    if quantity_element:\n",
    "        product_data['quantity'] = quantity_element.text.strip()\n",
    "\n",
    "    # Extract short description\n",
    "    description_short_element = soup.find('meta', {'name': 'description'})\n",
    "    if description_short_element:\n",
    "        product_data['description_short'] = description_short_element['content'].strip()\n",
    "\n",
    "    return product_data"
   ]
  },
  {
   "cell_type": "code",
   "execution_count": 3,
   "metadata": {},
   "outputs": [
    {
     "data": {
      "text/plain": [
       "{'price': '€19.12',\n",
       " 'name': 'Clothes',\n",
       " 'description_short': 'Discover our favorites fashionable discoveries, a selection of cool items to integrate in your wardrobe. Compose a unique style with personality which matches your own.'}"
      ]
     },
     "execution_count": 3,
     "metadata": {},
     "output_type": "execute_result"
    }
   ],
   "source": [
    "product_url = 'https://mystore-testlab.coderslab.pl/index.php?id_product=1&id_product_attribute=1&rewrite=hummingbird-printed-t-shirt&controller=product#/1-size-s/8-color-white'\n",
    "product_data = download_product_data(product_url)\n",
    "product_data"
   ]
  }
 ],
 "metadata": {
  "kernelspec": {
   "display_name": "Python 3",
   "language": "python",
   "name": "python3"
  },
  "language_info": {
   "codemirror_mode": {
    "name": "ipython",
    "version": 3
   },
   "file_extension": ".py",
   "mimetype": "text/x-python",
   "name": "python",
   "nbconvert_exporter": "python",
   "pygments_lexer": "ipython3",
   "version": "3.11.5"
  },
  "orig_nbformat": 4
 },
 "nbformat": 4,
 "nbformat_minor": 2
}

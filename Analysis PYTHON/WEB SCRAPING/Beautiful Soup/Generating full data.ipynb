{
 "cells": [
  {
   "cell_type": "markdown",
   "metadata": {},
   "source": [
    "## Exercise 4\n",
    "Using the solutions from the previous exercises, write a script that retrieves the data from all categories and saves it into a csv file named `coderslab-shop-data.csv`.\n",
    "\n",
    "The file should be a table with the following headings:\n",
    "```\n",
    "name | price | description_short | qty | category\n",
    "```\n",
    "\n",
    "Set `|` as the column separator \n",
    "\n",
    "### Hint\n",
    "- if you want to track the progress of retrieving category data you can use the `tqdm` library (not discussed in class - [click](https://pypi.org/project/tqdm/)),\n",
    "- change the default file encoding to write the currency symbol correctly (unless it has been removed earlier),\n",
    "- it may be useful to set the appropriate new line character when opening the file."
   ]
  },
  {
   "cell_type": "code",
   "execution_count": 1,
   "metadata": {},
   "outputs": [],
   "source": [
    "# import required libraries here\n",
    "import requests\n",
    "from bs4 import BeautifulSoup\n",
    "from tqdm import tqdm\n",
    "\n",
    "r = requests.get('https://mystore-testlab.coderslab.pl/index.php?id_category=3&controller=category')\n",
    "soup = BeautifulSoup(r.text, 'html.parser')"
   ]
  },
  {
   "cell_type": "code",
   "execution_count": 2,
   "metadata": {},
   "outputs": [],
   "source": [
    "# copy-paste the previous functions definitions here\n",
    "\n",
    "def get_categories_urls(url):\n",
    "    # URL of the website to scrape\n",
    "#     url = \"https://mystore-testlab.coderslab.pl/index.php\"\n",
    "\n",
    "    # Fetch the HTML content\n",
    "    response = requests.get(url)\n",
    "    soup = BeautifulSoup(response.content, 'html.parser')\n",
    "\n",
    "    # Find the panel with category names\n",
    "    categories_panel = soup.find('ul', id='top-menu')\n",
    "#     print(categories_panel)\n",
    "\n",
    "    # Extract category names and URLs\n",
    "    categories = []\n",
    "    for link in categories_panel.find_all('a', {\"data-depth\": \"0\"}):\n",
    "        name = link.get_text().replace('\\ue313\\n\\ue316\\n\\n\\n', '').strip()\n",
    "        href = link.get('href')\n",
    "        categories.append({\"url\": href, \"name\": name})\n",
    "\n",
    "    return categories\n",
    "\n",
    "def download_category_items(category_url):\n",
    "    # Fetch the HTML content of the category page\n",
    "    response = requests.get(category_url)\n",
    "    soup = BeautifulSoup(response.content, 'html.parser')\n",
    "\n",
    "    # Find all product elements\n",
    "    products_panel = soup.find_all('article', class_='product-miniature')\n",
    "\n",
    "    # Extract product URLs\n",
    "    product_urls = []\n",
    "    for product in products_panel:\n",
    "        product_link = product.find('a', class_='thumbnail')['href']\n",
    "        product_urls.append(product_link)\n",
    "\n",
    "    return product_urls\n",
    "\n",
    "def download_product_data(product_url):\n",
    "    # Fetch the HTML content of the product page\n",
    "    response = requests.get(product_url)\n",
    "    soup = BeautifulSoup(response.content, 'html.parser')\n",
    "\n",
    "    # Extract product name\n",
    "    name_tag = soup.find('h1', class_='h1')\n",
    "    name = name_tag.get_text().strip() if name_tag else 'N/A'\n",
    "\n",
    "    # Extract price and currency\n",
    "    price_tag = soup.find('span', class_='current-price-value')\n",
    "    price = price_tag.get_text().strip() if price_tag else 'N/A'\n",
    "\n",
    "    # Extract short description\n",
    "    description_short_tag = soup.find('div', {'id': 'product-description-short-1'})\n",
    "    description_short = description_short_tag.get_text().strip() if description_short_tag else 'N/A'\n",
    "\n",
    "    # Extract quantity - Assuming default to 0 if not found\n",
    "    qty_tag = soup.find('span', {'data-stock': True})\n",
    "    qty = qty_tag['data-stock'] if qty_tag else '0'\n",
    "\n",
    "    # Return the extracted data\n",
    "    return {\n",
    "        'name': name,\n",
    "        'price': price,\n",
    "        'description_short': description_short,\n",
    "        'qty': qty\n",
    "    }"
   ]
  },
  {
   "cell_type": "code",
   "execution_count": 3,
   "metadata": {},
   "outputs": [],
   "source": [
    "# get the list of available categories here\n",
    "base_url = 'https://prod-kurs.coderslab.pl/index.php'\n",
    "category_urls = get_categories_urls(base_url)"
   ]
  },
  {
   "cell_type": "code",
   "execution_count": 4,
   "metadata": {},
   "outputs": [
    {
     "name": "stderr",
     "output_type": "stream",
     "text": [
      "Processing categories:   0%|          | 0/3 [00:00<?, ?it/s]"
     ]
    },
    {
     "name": "stderr",
     "output_type": "stream",
     "text": [
      "Processing products in Clothes: 100%|██████████| 5/5 [00:03<00:00,  1.47it/s]\n",
      "Processing products in Accessories: 100%|██████████| 12/12 [00:08<00:00,  1.42it/s]\n",
      "Processing products in Art: 100%|██████████| 7/7 [00:04<00:00,  1.50it/s]\n",
      "Processing categories: 100%|██████████| 3/3 [00:19<00:00,  6.66s/it]\n"
     ]
    }
   ],
   "source": [
    "# get product information here\n",
    "all_products_data = []\n",
    "\n",
    "for category in tqdm(category_urls, desc=\"Processing categories\"):\n",
    "    category_url = category['url']\n",
    "    category_name = category['name']\n",
    "    \n",
    "    product_urls = download_category_items(category_url)  # Passing the URL string\n",
    "\n",
    "    for product_url in tqdm(product_urls, desc=f\"Processing products in {category_name}\"):\n",
    "        product_data = download_product_data(product_url)  # Passing the URL string\n",
    "        product_data['category'] = category_name\n",
    "        all_products_data.append(product_data)"
   ]
  },
  {
   "cell_type": "code",
   "execution_count": 5,
   "metadata": {},
   "outputs": [],
   "source": [
    "# save results to CSV file here\n",
    "\n",
    "with open('coderslab-shop-data.csv', mode='w', newline='', encoding='utf-8-sig') as file:\n",
    "    # Write headers\n",
    "    file.write('name|price|description_short|qty|category\\n')\n",
    "\n",
    "    for product in all_products_data:\n",
    "        file.write(f\"{product['name']}|{product['price']}|{product['description_short']}|{product['qty']}|{product['category']}\\n\")"
   ]
  }
 ],
 "metadata": {
  "kernelspec": {
   "display_name": "Python 3",
   "language": "python",
   "name": "python3"
  },
  "language_info": {
   "codemirror_mode": {
    "name": "ipython",
    "version": 3
   },
   "file_extension": ".py",
   "mimetype": "text/x-python",
   "name": "python",
   "nbconvert_exporter": "python",
   "pygments_lexer": "ipython3",
   "version": "3.11.5"
  },
  "orig_nbformat": 4
 },
 "nbformat": 4,
 "nbformat_minor": 2
}

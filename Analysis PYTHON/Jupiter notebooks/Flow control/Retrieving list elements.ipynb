{
 "cells": [
  {
   "cell_type": "code",
   "execution_count": 6,
   "id": "6d184a6e",
   "metadata": {},
   "outputs": [
    {
     "name": "stdout",
     "output_type": "stream",
     "text": [
      "Python\n",
      "is\n",
      "dough\n",
      "Python\n",
      "is\n",
      "dough\n"
     ]
    }
   ],
   "source": [
    "words = ['is', 'wrong', 'dough', 'correspondence', 'Python', 'snake', 'tolerate', 'conflict', 'chase', 'begin', 'fun','confidence', 'beat']\n",
    "\n",
    "# Display the fifth array element\n",
    "print(words[4])\n",
    "\n",
    "# Display the first array element\n",
    "print (words[0])\n",
    "\n",
    "# Display the third array element\n",
    "print(words[2])\n",
    "\n",
    "\n",
    "# Reverse indexing\n",
    "print(words[-9])\n",
    "print(words[-13])\n",
    "print(words[-11])"
   ]
  },
  {
   "cell_type": "code",
   "execution_count": null,
   "id": "08698cd4",
   "metadata": {},
   "outputs": [],
   "source": []
  }
 ],
 "metadata": {
  "kernelspec": {
   "display_name": "Python 3 (ipykernel)",
   "language": "python",
   "name": "python3"
  },
  "language_info": {
   "codemirror_mode": {
    "name": "ipython",
    "version": 3
   },
   "file_extension": ".py",
   "mimetype": "text/x-python",
   "name": "python",
   "nbconvert_exporter": "python",
   "pygments_lexer": "ipython3",
   "version": "3.11.5"
  }
 },
 "nbformat": 4,
 "nbformat_minor": 5
}

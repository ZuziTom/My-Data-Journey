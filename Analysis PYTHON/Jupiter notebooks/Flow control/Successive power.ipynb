{
 "cells": [
  {
   "cell_type": "code",
   "execution_count": 9,
   "id": "aaffd38f",
   "metadata": {},
   "outputs": [
    {
     "name": "stdout",
     "output_type": "stream",
     "text": [
      "2^0 = 1\n",
      "2^1 = 2\n",
      "2^2 = 4\n",
      "2^3 = 8\n",
      "2^4 = 16\n",
      "2^5 = 32\n",
      "2^6 = 64\n",
      "2^7 = 128\n",
      "2^8 = 256\n",
      "2^9 = 512\n",
      "2^10 = 1024\n"
     ]
    }
   ],
   "source": [
    "# For loop - successive powers of the number 2 for an exponent between 0 and 10 inclusive, as:\n",
    "\n",
    "exponent = 0\n",
    "for exponent in range (11):\n",
    "    result = 2 ** exponent\n",
    "    print(f\"2^{exponent} = {result}\")"
   ]
  },
  {
   "cell_type": "code",
   "execution_count": null,
   "id": "d1142031",
   "metadata": {},
   "outputs": [],
   "source": []
  }
 ],
 "metadata": {
  "kernelspec": {
   "display_name": "Python 3 (ipykernel)",
   "language": "python",
   "name": "python3"
  },
  "language_info": {
   "codemirror_mode": {
    "name": "ipython",
    "version": 3
   },
   "file_extension": ".py",
   "mimetype": "text/x-python",
   "name": "python",
   "nbconvert_exporter": "python",
   "pygments_lexer": "ipython3",
   "version": "3.11.5"
  }
 },
 "nbformat": 4,
 "nbformat_minor": 5
}

{
 "cells": [
  {
   "cell_type": "code",
   "execution_count": 19,
   "id": "10970947",
   "metadata": {},
   "outputs": [
    {
     "name": "stdout",
     "output_type": "stream",
     "text": [
      "Enter any real number: 6\n",
      "Sum using loop: 21\n"
     ]
    }
   ],
   "source": [
    "# Calculates the sum of all numbers from 0 to n, where n is any natural number\n",
    "\n",
    "# Calculation with a loop\n",
    "\n",
    "n = int(input(\"Enter any real number: \"))\n",
    "\n",
    "def sum_loop(n):\n",
    "    result_loop = 0\n",
    "    for i in range(n + 1):\n",
    "        result_loop +=i\n",
    "    return result_loop\n",
    "\n",
    "print(f\"Sum using loop: {sum_loop(n)}\")"
   ]
  },
  {
   "cell_type": "code",
   "execution_count": 21,
   "id": "830ed2ac",
   "metadata": {},
   "outputs": [
    {
     "name": "stdout",
     "output_type": "stream",
     "text": [
      "Enter any real number: 6\n",
      "The sum of all numbers from 0 to 'n' range is 21.\n"
     ]
    }
   ],
   "source": [
    "# Calculation with range and sum functions\n",
    "\n",
    "n = int(input(\"Enter any real number: \"))\n",
    "\n",
    "result_range = 0\n",
    "for i in range (n + 1):\n",
    "    result_range += i\n",
    "\n",
    "    \n",
    "print(f\"The sum of all numbers from 0 to 'n' range is {result_range}.\")"
   ]
  },
  {
   "cell_type": "code",
   "execution_count": null,
   "id": "a361fa3a",
   "metadata": {},
   "outputs": [],
   "source": []
  }
 ],
 "metadata": {
  "kernelspec": {
   "display_name": "Python 3 (ipykernel)",
   "language": "python",
   "name": "python3"
  },
  "language_info": {
   "codemirror_mode": {
    "name": "ipython",
    "version": 3
   },
   "file_extension": ".py",
   "mimetype": "text/x-python",
   "name": "python",
   "nbconvert_exporter": "python",
   "pygments_lexer": "ipython3",
   "version": "3.11.5"
  }
 },
 "nbformat": 4,
 "nbformat_minor": 5
}

{
 "cells": [
  {
   "cell_type": "code",
   "execution_count": 6,
   "id": "c5aabeaa",
   "metadata": {},
   "outputs": [
    {
     "name": "stdout",
     "output_type": "stream",
     "text": [
      "The equation: a*x**2 + b*x + c == 0\n",
      "Enter variable 'a': 2\n",
      "Enter variable 'b': 3\n",
      "Enter variable 'c': 0\n",
      "The equation has 2 different roots. Roots of quadratic equation:\n",
      "x_1 = 0.0\n",
      "x_2 = -1.5\n"
     ]
    }
   ],
   "source": [
    "# Program, that will help high school students count the roots of quadratic equations\n",
    "\n",
    "# The program: is to display a message on the screen: The equation: a*x**2 + b*x + c == 0, (as a markdown cell)\n",
    "# takes from the user, and appropriately stores the values for variables: a, b, c, \n",
    "# calculates delta,\n",
    "# if delta > 0, calculates the x_1 and x_2 values and displays them\n",
    "# if delta = 0, calculates the x_1 and x_2 values and displays them\n",
    "# if the delta is negative, it will print the corresponding information on the screen\n",
    "\n",
    "# Display markdown cell = the quadratic equation template\n",
    "\n",
    "print(\"The equation: a*x**2 + b*x + c == 0\")\n",
    "\n",
    "# Variables from user \n",
    "\n",
    "a = float(input(\"Enter variable 'a': \"))\n",
    "b = float(input(\"Enter variable 'b': \"))\n",
    "c = float(input(\"Enter variable 'c': \"))\n",
    "\n",
    "# Calculate delta\n",
    "\n",
    "delta = b**2 - 4*a*c\n",
    "\n",
    "# Check outcome of delta and calculate the roots\n",
    "\n",
    "if delta > 0: # Calculate real roots\n",
    "    x_1 = (-b + (delta**0.5)) / (2*a)\n",
    "    x_2 = (-b - (delta**0.5)) / (2*a)\n",
    "    print(\"The equation has 2 different roots. Roots of quadratic equation:\")\n",
    "    print(f\"x_1 = {x_1}\")\n",
    "    print(f\"x_2 = {x_2}\")\n",
    "elif delta == 0:  # Calculate equal roots\n",
    "    x = -b / (2*a)\n",
    "    print(\"The equation has one double root. Root of the quadratic equation:\")\n",
    "    print(f\"x_1 = x_2 = {x}\")\n",
    "else:\n",
    "    print(\"The equation has no solution in real numbers\")\n"
   ]
  },
  {
   "cell_type": "code",
   "execution_count": null,
   "id": "f996abcc",
   "metadata": {},
   "outputs": [],
   "source": []
  }
 ],
 "metadata": {
  "kernelspec": {
   "display_name": "Python 3 (ipykernel)",
   "language": "python",
   "name": "python3"
  },
  "language_info": {
   "codemirror_mode": {
    "name": "ipython",
    "version": 3
   },
   "file_extension": ".py",
   "mimetype": "text/x-python",
   "name": "python",
   "nbconvert_exporter": "python",
   "pygments_lexer": "ipython3",
   "version": "3.11.5"
  }
 },
 "nbformat": 4,
 "nbformat_minor": 5
}

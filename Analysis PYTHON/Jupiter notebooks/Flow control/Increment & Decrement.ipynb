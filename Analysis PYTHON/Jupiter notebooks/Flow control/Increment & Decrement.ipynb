{
 "cells": [
  {
   "cell_type": "code",
   "execution_count": 8,
   "id": "517ad817",
   "metadata": {},
   "outputs": [
    {
     "name": "stdout",
     "output_type": "stream",
     "text": [
      "Initial number of counter: 145\n",
      "After incrementing, counter is now: 146\n",
      "After decrementing, counter is now: 145\n"
     ]
    }
   ],
   "source": [
    "# Create a variable named counter\n",
    "\n",
    "counter = 145\n",
    "print(\"Initial number of counter:\", counter)\n",
    "\n",
    "# Increment the value of counter by 1\n",
    "counter +=1\n",
    "print(\"After incrementing, counter is now:\", counter)\n",
    "\n",
    "# Decrement the value of counter by 1\n",
    "counter -=1\n",
    "print(\"After decrementing, counter is now:\", counter)\n",
    "\n"
   ]
  },
  {
   "cell_type": "code",
   "execution_count": 1,
   "id": "e4b45e25",
   "metadata": {},
   "outputs": [
    {
     "name": "stdout",
     "output_type": "stream",
     "text": [
      "*\n",
      "**\n",
      "***\n",
      "****\n",
      "*****\n",
      "******\n",
      "*******\n",
      "********\n",
      "*********\n",
      "**********\n",
      "***********\n",
      "************\n",
      "*************\n",
      "**************\n"
     ]
    }
   ],
   "source": [
    "\n",
    "for i in range(1,15):\n",
    "    i = '*' *i \n",
    "    print(i)"
   ]
  }
 ],
 "metadata": {
  "kernelspec": {
   "display_name": "Python 3 (ipykernel)",
   "language": "python",
   "name": "python3"
  },
  "language_info": {
   "codemirror_mode": {
    "name": "ipython",
    "version": 3
   },
   "file_extension": ".py",
   "mimetype": "text/x-python",
   "name": "python",
   "nbconvert_exporter": "python",
   "pygments_lexer": "ipython3",
   "version": "3.11.5"
  }
 },
 "nbformat": 4,
 "nbformat_minor": 5
}

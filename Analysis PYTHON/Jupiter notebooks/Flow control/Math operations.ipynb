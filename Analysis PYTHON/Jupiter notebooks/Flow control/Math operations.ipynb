{
 "cells": [
  {
   "cell_type": "code",
   "execution_count": 4,
   "id": "35fb12b4",
   "metadata": {},
   "outputs": [
    {
     "name": "stdout",
     "output_type": "stream",
     "text": [
      "a: 10, type: int\n",
      "b: 15, type: int\n",
      "sum_value: 25, type: int\n",
      "quotus: 0.6666666666666666, type: float\n",
      "int_quotus: 0, type: int\n"
     ]
    }
   ],
   "source": [
    "# Variables\n",
    "\n",
    "a = 10\n",
    "b = 15\n",
    "sum_value = 10 + 15\n",
    "quotus = 10 / 15\n",
    "int_quotus = int(quotus)\n",
    "\n",
    "# Display values and types\n",
    "\n",
    "print(f\"a: {a}, type: {type(a).__name__}\")\n",
    "print(f\"b: {b}, type: {type(b).__name__}\")\n",
    "print(f\"sum_value: {sum_value}, type: {type(sum_value).__name__}\")\n",
    "print(f\"quotus: {quotus}, type: {type(quotus).__name__}\")\n",
    "print(f\"int_quotus: {int_quotus}, type: {type(int_quotus).__name__}\")"
   ]
  },
  {
   "cell_type": "code",
   "execution_count": null,
   "id": "4a1575d3",
   "metadata": {},
   "outputs": [],
   "source": []
  }
 ],
 "metadata": {
  "kernelspec": {
   "display_name": "Python 3 (ipykernel)",
   "language": "python",
   "name": "python3"
  },
  "language_info": {
   "codemirror_mode": {
    "name": "ipython",
    "version": 3
   },
   "file_extension": ".py",
   "mimetype": "text/x-python",
   "name": "python",
   "nbconvert_exporter": "python",
   "pygments_lexer": "ipython3",
   "version": "3.11.5"
  }
 },
 "nbformat": 4,
 "nbformat_minor": 5
}

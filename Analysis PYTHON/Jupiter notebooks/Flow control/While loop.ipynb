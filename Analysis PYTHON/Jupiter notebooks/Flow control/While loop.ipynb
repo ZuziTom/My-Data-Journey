{
 "cells": [
  {
   "cell_type": "code",
   "execution_count": 2,
   "id": "eccd5e8a",
   "metadata": {},
   "outputs": [
    {
     "name": "stdout",
     "output_type": "stream",
     "text": [
      "I'm a Pyth0n pr0gramm3r!\n",
      "I'm a Pyth0n pr0gramm3r!\n",
      "I'm a Pyth0n pr0gramm3r!\n",
      "I'm a Pyth0n pr0gramm3r!\n",
      "I'm a Pyth0n pr0gramm3r!\n",
      "I'm a Pyth0n pr0gramm3r!\n",
      "I'm a Pyth0n pr0gramm3r!\n",
      "I'm a Pyth0n pr0gramm3r!\n",
      "I'm a Pyth0n pr0gramm3r!\n",
      "I'm a Pyth0n pr0gramm3r!\n"
     ]
    }
   ],
   "source": [
    "# Using a while loop, write a program that displays the folling message 10 times\n",
    "\n",
    "# 1. variable to keep track of the number of times the message is displayed\n",
    "\n",
    "i = 0\n",
    "\n",
    "# 2. define the message\n",
    "\n",
    "message = \"I'm a Pyth0n pr0gramm3r!\"\n",
    "\n",
    "# 3. while loop to displaz the message 10x\n",
    "\n",
    "while i < 10:\n",
    "    print(message)\n",
    "    i += 1"
   ]
  },
  {
   "cell_type": "code",
   "execution_count": null,
   "id": "63213abd",
   "metadata": {},
   "outputs": [],
   "source": []
  }
 ],
 "metadata": {
  "kernelspec": {
   "display_name": "Python 3 (ipykernel)",
   "language": "python",
   "name": "python3"
  },
  "language_info": {
   "codemirror_mode": {
    "name": "ipython",
    "version": 3
   },
   "file_extension": ".py",
   "mimetype": "text/x-python",
   "name": "python",
   "nbconvert_exporter": "python",
   "pygments_lexer": "ipython3",
   "version": "3.11.5"
  }
 },
 "nbformat": 4,
 "nbformat_minor": 5
}

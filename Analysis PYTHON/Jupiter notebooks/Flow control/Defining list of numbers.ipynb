{
 "cells": [
  {
   "cell_type": "code",
   "execution_count": 18,
   "id": "084604b4",
   "metadata": {},
   "outputs": [
    {
     "name": "stdout",
     "output_type": "stream",
     "text": [
      "Number: 2\n",
      "Number: 4\n",
      "Number: 6\n",
      "Number: 8\n",
      "Number: 10\n",
      "Number: 12\n",
      "Number: 14\n",
      "Number: 16\n",
      "Number: 18\n",
      "Number: 20\n",
      "Number: 22\n",
      "Number: 24\n",
      "Number: 26\n",
      "Number: 28\n",
      "Number: 30\n",
      "Number: 32\n",
      "Number: 34\n",
      "Number: 36\n",
      "Number: 38\n",
      "Number: 40\n",
      "Number: 42\n",
      "Number: 44\n",
      "Number: 46\n",
      "Number: 48\n",
      "Number: 50\n",
      "Number: 52\n",
      "Number: 54\n",
      "Number: 56\n",
      "Number: 58\n",
      "Number: 60\n",
      "Number: 62\n",
      "Number: 64\n",
      "Number: 66\n",
      "Number: 68\n",
      "Number: 70\n",
      "Number: 72\n",
      "Number: 74\n",
      "Number: 76\n",
      "Number: 78\n",
      "Number: 80\n",
      "Number: 82\n",
      "Number: 84\n",
      "Number: 86\n",
      "Number: 88\n",
      "Number: 90\n",
      "Number: 92\n",
      "Number: 94\n",
      "Number: 96\n",
      "Number: 98\n"
     ]
    }
   ],
   "source": [
    "# Define a list consisting of even numbers from 2 to 98 \n",
    "# in specific format using range function\n",
    "\n",
    "\n",
    "for i in range (2, 99, 2):\n",
    "    print(f\"Number: {i}\")\n",
    "    "
   ]
  },
  {
   "cell_type": "code",
   "execution_count": null,
   "id": "d06283e0",
   "metadata": {},
   "outputs": [],
   "source": []
  }
 ],
 "metadata": {
  "kernelspec": {
   "display_name": "Python 3 (ipykernel)",
   "language": "python",
   "name": "python3"
  },
  "language_info": {
   "codemirror_mode": {
    "name": "ipython",
    "version": 3
   },
   "file_extension": ".py",
   "mimetype": "text/x-python",
   "name": "python",
   "nbconvert_exporter": "python",
   "pygments_lexer": "ipython3",
   "version": "3.11.5"
  }
 },
 "nbformat": 4,
 "nbformat_minor": 5
}

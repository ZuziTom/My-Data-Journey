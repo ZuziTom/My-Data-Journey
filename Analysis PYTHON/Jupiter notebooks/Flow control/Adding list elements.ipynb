{
 "cells": [
  {
   "cell_type": "code",
   "execution_count": 14,
   "id": "f0108604",
   "metadata": {},
   "outputs": [
    {
     "name": "stdout",
     "output_type": "stream",
     "text": [
      "Empty list:  []\n",
      "List after adding 1. fairy tale animal Dragon:  ['Dragon']\n",
      "List after adding 2. fairy tale animal Unicorn:  ['Dragon', 'Unicorn']\n",
      "List after adding 3. fairy tale animal Phoenix:  ['Dragon', 'Unicorn', 'Phoenix']\n"
     ]
    }
   ],
   "source": [
    "# Create an empty list\n",
    "animals = []\n",
    "print(\"Empty list: \", animals)\n",
    "\n",
    "# Add fairy tale animals\n",
    "animals.append(\"Dragon\")\n",
    "print(\"List after adding 1. fairy tale animal Dragon: \", animals)\n",
    "\n",
    "animals.append(\"Unicorn\")\n",
    "print(\"List after adding 2. fairy tale animal Unicorn: \", animals)\n",
    "\n",
    "animals.append(\"Phoenix\")\n",
    "print(\"List after adding 3. fairy tale animal Phoenix: \", animals)"
   ]
  },
  {
   "cell_type": "code",
   "execution_count": null,
   "id": "c596e10c",
   "metadata": {},
   "outputs": [],
   "source": []
  }
 ],
 "metadata": {
  "kernelspec": {
   "display_name": "Python 3 (ipykernel)",
   "language": "python",
   "name": "python3"
  },
  "language_info": {
   "codemirror_mode": {
    "name": "ipython",
    "version": 3
   },
   "file_extension": ".py",
   "mimetype": "text/x-python",
   "name": "python",
   "nbconvert_exporter": "python",
   "pygments_lexer": "ipython3",
   "version": "3.11.5"
  }
 },
 "nbformat": 4,
 "nbformat_minor": 5
}

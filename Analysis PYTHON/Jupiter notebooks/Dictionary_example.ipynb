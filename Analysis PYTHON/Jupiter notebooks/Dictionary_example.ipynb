{
 "cells": [
  {
   "cell_type": "markdown",
   "metadata": {},
   "source": [
    "# Exercise 1\n",
    "\n",
    "Write a `user_data(first_name, last_name)` function that takes a name and surname as an argument and returns a dictionary based on the given keys and values:\n",
    "- `\"first_name\"` - as in the argument,\n",
    "- `\"last_name\"` - as in the argument,\n",
    "- `\"full_name\"` - composed of both arguments separated with space,\n",
    "- `\"initials\"` - first letters of both arguments followed by dots; both parts separated with space.\n",
    "\n",
    "Example:\n",
    "```python\n",
    "user_data('John', 'Connor')\n",
    "```\n",
    "\n",
    "Result:\n",
    "```\n",
    "{\"first_name\": \"John\", \"last_name\": \"Connor\", \"full_name\": \"John Connor\", \"initials\": \"J. C.\"}\n",
    "```"
   ]
  },
  {
   "cell_type": "code",
   "execution_count": 1,
   "metadata": {},
   "outputs": [],
   "source": [
    "# Write the \"user_data\" function here \n",
    "\n",
    "\n",
    "def user_data(first_name, last_name):\n",
    "    return {\n",
    "    \"first_name\": first_name,\n",
    "    'last_name': last_name,\n",
    "    'full_name': first_name + \" \" + last_name,\n",
    "    \"initials\": first_name[0] + \". \" + last_name[0] + \".\"\n",
    "}\n"
   ]
  },
  {
   "cell_type": "code",
   "execution_count": 4,
   "metadata": {},
   "outputs": [
    {
     "data": {
      "text/plain": [
       "{'first_name': 'John',\n",
       " 'last_name': 'Connor',\n",
       " 'full_name': 'John Connor',\n",
       " 'initials': 'J. C.'}"
      ]
     },
     "execution_count": 4,
     "metadata": {},
     "output_type": "execute_result"
    }
   ],
   "source": [
    "user_data(\"John\", \"Connor\")"
   ]
  },
  {
   "cell_type": "code",
   "execution_count": 3,
   "metadata": {},
   "outputs": [
    {
     "name": "stdout",
     "output_type": "stream",
     "text": [
      "Passed!\n",
      "Passed!\n"
     ]
    }
   ],
   "source": [
    "if user_data('John', 'Connor') == {\n",
    "        \"first_name\": \"John\",\n",
    "        \"last_name\": \"Connor\",\n",
    "        \"full_name\": \"John Connor\",\n",
    "        \"initials\": \"J. C.\"\n",
    "}:\n",
    "    print('Passed!')\n",
    "else:\n",
    "    print('user_data function did not return expected result. Expected:')\n",
    "    print('{\"first_name\": \"John\", \"last_name\": \"Connor\", \"full_name\": \"John Connor\", \"initials\": \"J. C.\"}')\n",
    "    print('Function returned:')\n",
    "    print(user_data('John', 'Connor'))\n",
    "\n",
    "if user_data('Anna', 'Newman') == {\n",
    "        \"first_name\": \"Anna\",\n",
    "        \"last_name\": \"Newman\",\n",
    "        \"full_name\": \"Anna Newman\",\n",
    "        \"initials\": \"A. N.\"\n",
    "}:\n",
    "    print('Passed!')\n",
    "else:\n",
    "    print('user_data function did not return expected result. Expected:')\n",
    "    print('{\"first_name\": \"Anna\", \"last_name\": \"Newman\", \"full_name\": \"Anna Newman\", \"initials\": \"A. N.\"}')\n",
    "    print('Function returned:')\n",
    "    print(user_data('Anna', 'Newman'))"
   ]
  }
 ],
 "metadata": {
  "kernelspec": {
   "display_name": "Python 3",
   "language": "python",
   "name": "python3"
  },
  "language_info": {
   "codemirror_mode": {
    "name": "ipython",
    "version": 3
   },
   "file_extension": ".py",
   "mimetype": "text/x-python",
   "name": "python",
   "nbconvert_exporter": "python",
   "pygments_lexer": "ipython3",
   "version": "3.11.5"
  }
 },
 "nbformat": 4,
 "nbformat_minor": 4
}

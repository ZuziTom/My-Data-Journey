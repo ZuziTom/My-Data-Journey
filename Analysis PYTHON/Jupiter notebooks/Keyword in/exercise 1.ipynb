{
 "cells": [
  {
   "cell_type": "markdown",
   "metadata": {},
   "source": [
    "# Exercise 1\n",
    "\n",
    "Write a `wordfinder(list_of_words, word)` function, that as arguments takes a list of strings and one string to find in that list.\n",
    "\n",
    "If the `word` string is in the `list_of_words`, add `\"Found\"` to the end of the list.\n",
    "\n",
    "Example:\n",
    "\n",
    "```python\n",
    "words = ['Twinkle', 'twinkle', 'little', 'star']\n",
    "print('words BEFORE:', words)\n",
    "wordfinder(words, 'twinkle')\n",
    "print('words AFTER:', words)\n",
    "```\n",
    "\n",
    "```\n",
    "words BEFORE: ['Twinkle', 'twinkle', 'little', 'star']\n",
    "words AFTER: ['Twinkle', 'twinkle', 'little', 'star', 'Found']\n",
    "```"
   ]
  },
  {
   "cell_type": "code",
   "execution_count": 9,
   "metadata": {},
   "outputs": [],
   "source": [
    "# Write the \"wordfinder\" function here\n",
    "\n",
    "def wordfinder(list_of_words, word):\n",
    "    if word in list_of_words:\n",
    "        return list_of_words.append(\"FOUND\")"
   ]
  },
  {
   "cell_type": "code",
   "execution_count": 10,
   "metadata": {},
   "outputs": [
    {
     "name": "stdout",
     "output_type": "stream",
     "text": [
      "words BEFORE: ['Twinkle', 'twinkle', 'little', 'star']\n",
      "words AFTER: ['Twinkle', 'twinkle', 'little', 'star', 'FOUND']\n"
     ]
    }
   ],
   "source": [
    "words = ['Twinkle', 'twinkle', 'little', 'star']\n",
    "print('words BEFORE:', words)\n",
    "\n",
    "wordfinder(words, 'Twinkle')\n",
    "print('words AFTER:', words)"
   ]
  },
  {
   "cell_type": "code",
   "execution_count": 11,
   "metadata": {},
   "outputs": [
    {
     "name": "stdout",
     "output_type": "stream",
     "text": [
      "The function did not add \"Found\" to the end of the list!\n",
      "Passed!\n"
     ]
    }
   ],
   "source": [
    "test_words = ['Cats', 'coffee', 'cheesecake', 'unite']\n",
    "wordfinder(test_words, 'coffee')\n",
    "if test_words == ['Cats', 'coffee', 'cheesecake', 'pie', 'Found']:\n",
    "    print('Passed!')\n",
    "else:\n",
    "    print('The function did not add \"Found\" to the end of the list!')\n",
    "\n",
    "test_words = ['Delights', 'to', 'cherish', 'hearts', 'unbound']\n",
    "wordfinder(test_words, 'coffee')\n",
    "if test_words == ['Delights', 'to', 'cherish', 'hearts', 'unbound']:\n",
    "    print('Passed!')\n",
    "else:\n",
    "    print('The function made unnecessary modification to the list!')"
   ]
  },
  {
   "cell_type": "markdown",
   "metadata": {},
   "source": [
    "Dictionary with IN\n"
   ]
  },
  {
   "cell_type": "code",
   "execution_count": 12,
   "metadata": {},
   "outputs": [
    {
     "name": "stdout",
     "output_type": "stream",
     "text": [
      "cat\n",
      "dog\n",
      "mouse\n"
     ]
    }
   ],
   "source": [
    "animals = [\"cat\", \"dog\", \"mouse\"]\n",
    "for animal in animals:\n",
    "    print(animal)"
   ]
  },
  {
   "cell_type": "code",
   "execution_count": 13,
   "metadata": {},
   "outputs": [
    {
     "name": "stdout",
     "output_type": "stream",
     "text": [
      "name cat\n",
      "breed moggy\n",
      "owner Baba Yaga\n"
     ]
    }
   ],
   "source": [
    "animal = {\n",
    "    \"name\": \"cat\",\n",
    "    \"breed\": \"moggy\",\n",
    "    \"owner\": \"Baba Yaga\"\n",
    "}\n",
    "for feature in animal:\n",
    "    print(feature, animal[feature])"
   ]
  },
  {
   "cell_type": "code",
   "execution_count": 14,
   "metadata": {},
   "outputs": [
    {
     "data": {
      "text/plain": [
       "True"
      ]
     },
     "execution_count": 14,
     "metadata": {},
     "output_type": "execute_result"
    }
   ],
   "source": [
    "animals = [\"cat\", \"dog\", \"mouse\"]\n",
    "\"dog\" in animals\n"
   ]
  },
  {
   "cell_type": "code",
   "execution_count": 15,
   "metadata": {},
   "outputs": [
    {
     "data": {
      "text/plain": [
       "False"
      ]
     },
     "execution_count": 15,
     "metadata": {},
     "output_type": "execute_result"
    }
   ],
   "source": [
    "animals = [\"cat\", \"dog\", \"mouse\"]\n",
    "\"chicken\" in animals"
   ]
  },
  {
   "cell_type": "markdown",
   "metadata": {},
   "source": [
    "Keyword in dictionary checks if the key exists\n"
   ]
  },
  {
   "cell_type": "code",
   "execution_count": 16,
   "metadata": {},
   "outputs": [
    {
     "data": {
      "text/plain": [
       "True"
      ]
     },
     "execution_count": 16,
     "metadata": {},
     "output_type": "execute_result"
    }
   ],
   "source": [
    "animal = {\n",
    "    \"name\": \"cat\",\n",
    "    \"breed\": \"moggy\",\n",
    "    \"owner\": \"Baba Yaga\"\n",
    "}\n",
    "\"breed\" in animal\n"
   ]
  },
  {
   "cell_type": "code",
   "execution_count": 17,
   "metadata": {},
   "outputs": [
    {
     "data": {
      "text/plain": [
       "False"
      ]
     },
     "execution_count": 17,
     "metadata": {},
     "output_type": "execute_result"
    }
   ],
   "source": [
    "animal = {\n",
    "    \"name\": \"cat\",\n",
    "    \"breed\": \"moggy\",\n",
    "    \"owner\": \"Baba Yaga\"\n",
    "}\n",
    "\"color\" in animal"
   ]
  },
  {
   "cell_type": "code",
   "execution_count": 18,
   "metadata": {},
   "outputs": [
    {
     "data": {
      "text/plain": [
       "False"
      ]
     },
     "execution_count": 18,
     "metadata": {},
     "output_type": "execute_result"
    }
   ],
   "source": [
    "phrase = \"The qųičk břoŵń fox ʝūmƥś ŏvēŕ țhę łāżȳ đőģ.\"\n",
    "\"fox\" in phrase  # True\n",
    "\"dog\" in phrase  # False"
   ]
  }
 ],
 "metadata": {
  "kernelspec": {
   "display_name": "Python 3",
   "language": "python",
   "name": "python3"
  },
  "language_info": {
   "codemirror_mode": {
    "name": "ipython",
    "version": 3
   },
   "file_extension": ".py",
   "mimetype": "text/x-python",
   "name": "python",
   "nbconvert_exporter": "python",
   "pygments_lexer": "ipython3",
   "version": "3.11.5"
  }
 },
 "nbformat": 4,
 "nbformat_minor": 4
}

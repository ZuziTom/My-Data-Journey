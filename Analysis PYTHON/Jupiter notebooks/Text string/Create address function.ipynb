{
 "cells": [
  {
   "cell_type": "markdown",
   "metadata": {},
   "source": [
    "# Exercise 1\n",
    "\n",
    "Write a `create_address(first_name, last_name, street, number, city, zipcode)` function, that generates a nicely formatted address – see the example below:\n",
    "\n",
    "Example:\n",
    "```python\n",
    "print(create_address('John', 'Connor', 'Hayvenhurst Drive', 12, 'Van Nyus', '14329'))\n",
    "```\n",
    "\n",
    "Result:\n",
    "```\n",
    "Hand- Deliver to John Connor\n",
    "Hayvenhurst Drive Apt. 12\n",
    "14329 Van Nyus\n",
    "```\n",
    "\n",
    "**Use the f-string syntax to do the exercise**\n",
    "\n",
    "Hint: You can write a newline character as `\\\\n`:\n",
    "```python\n",
    "print(\"Line 1\\nLine 2\")\n",
    "```\n",
    "\n",
    "```\n",
    "Line 1\n",
    "Line 2\n",
    "```"
   ]
  },
  {
   "cell_type": "code",
   "execution_count": 1,
   "metadata": {},
   "outputs": [
    {
     "name": "stdout",
     "output_type": "stream",
     "text": [
      "Hand- deliver to: John Connor\n",
      "Hayvenhurst Drive Apt. 12\n",
      "14329 Van Nyus\n"
     ]
    }
   ],
   "source": [
    "# Write the \"create_address\" function here\n",
    "\n",
    "def create_address(first_name, last_name, street, number, city, zipcode):\n",
    "    return f\"Hand- deliver to: {first_name} {last_name}\\n{street} Apt. {number}\\n{zipcode} {city}\"\n",
    "\n",
    "print(create_address('John', 'Connor', 'Hayvenhurst Drive', 12, 'Van Nyus', '14329'))\n",
    "            "
   ]
  },
  {
   "cell_type": "code",
   "execution_count": 26,
   "metadata": {},
   "outputs": [
    {
     "name": "stdout",
     "output_type": "stream",
     "text": [
      "Passed!\n",
      "For arguments \"Anna\" and \"Newman\" expected the function to return:\n",
      "Hand- Deliver to: Anna Newman\n",
      " Elm Street Apt. 77\n",
      "00666 Ravenwood\n",
      "Your function returned: Hand- deliver to: Anna Newman\n",
      " Elm Street Apt. 77\n",
      "00666 Ravenwood\n"
     ]
    }
   ],
   "source": [
    "if create_address('John', 'Connor', 'Hayvenhurst Drive', 12, 'Van Nyus', '14329') == 'Hand- deliver to: John Connor\\n Hayvenhurst Drive Apt. 12\\n14329 Van Nyus':\n",
    "    print('Passed!')\n",
    "else:\n",
    "    print('For arguments \"John\" and \"Connor\" expected the function to return:')\n",
    "    print('Hand- deliver to: John Connor\\n Hayvenhurst Drive Apt. 12\\n14329 Van Nyus')\n",
    "    print('Your function returned:', create_address('John', 'Connor', 'Hayvenhurst Drive', 12, 'Van Nyus', '14329'))\n",
    "\n",
    "if create_address('Anna', 'Newman', 'Elm Street', 77, 'Ravenwood', '00666') == 'Hand- Deliver to: Anna Newman\\n Elm Street Apt. 77\\n00666 Ravenwood':\n",
    "    print('Passed!')\n",
    "else:\n",
    "    print('For arguments \"Anna\" and \"Newman\" expected the function to return:')\n",
    "    print('Hand- Deliver to: Anna Newman\\n Elm Street Apt. 77\\n00666 Ravenwood')\n",
    "    print('Your function returned:', create_address('Anna', 'Newman', 'Elm Street', 77, 'Ravenwood', '00666'))\n"
   ]
  }
 ],
 "metadata": {
  "kernelspec": {
   "display_name": "Python 3 (ipykernel)",
   "language": "python",
   "name": "python3"
  },
  "language_info": {
   "codemirror_mode": {
    "name": "ipython",
    "version": 3
   },
   "file_extension": ".py",
   "mimetype": "text/x-python",
   "name": "python",
   "nbconvert_exporter": "python",
   "pygments_lexer": "ipython3",
   "version": "3.11.5"
  }
 },
 "nbformat": 4,
 "nbformat_minor": 4
}

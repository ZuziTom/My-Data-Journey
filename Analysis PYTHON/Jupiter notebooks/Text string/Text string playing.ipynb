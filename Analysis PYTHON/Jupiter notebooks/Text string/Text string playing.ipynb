{
 "cells": [
  {
   "cell_type": "markdown",
   "metadata": {},
   "source": [
    "# Exercise 4\n",
    "\n",
    "Write a `reverse_str(text)` function that takes a string argument and returns it written in reverse order.\n",
    "\n",
    "Example:\n",
    "```python\n",
    "reverse_str('Test')\n",
    "```\n",
    "\n",
    "```\n",
    "tseT```"
   ]
  },
  {
   "cell_type": "code",
   "execution_count": 1,
   "metadata": {},
   "outputs": [
    {
     "data": {
      "text/plain": [
       "'kitylana yvotaD'"
      ]
     },
     "execution_count": 1,
     "metadata": {},
     "output_type": "execute_result"
    }
   ],
   "source": [
    "# Write the \"reverse_str\" function here\n",
    "\n",
    "def reverse_str(text):\n",
    "    return text[::-1]\n",
    "\n",
    "reverse_str('Datovy analytik')"
   ]
  },
  {
   "cell_type": "code",
   "execution_count": 2,
   "metadata": {},
   "outputs": [
    {
     "name": "stdout",
     "output_type": "stream",
     "text": [
      "Passed!\n",
      "Passed!\n"
     ]
    }
   ],
   "source": [
    "if reverse_str('ABCDefg') == 'gfeDCBA':\n",
    "    print('Passed!')\n",
    "else:\n",
    "    print('For argument \"ABCDefg\" expected the function to return gfeDCBA')\n",
    "    print('Your function returned:', reverse_str('ABCDefg'))\n",
    "if reverse_str('12345') == '54321':\n",
    "    print('Passed!')\n",
    "else:\n",
    "    print('For argument \"12345\" expected the function to return 54321')\n",
    "    print('Your function returned:', reverse_str('12345'))"
   ]
  },
  {
   "cell_type": "code",
   "execution_count": null,
   "metadata": {},
   "outputs": [],
   "source": [
    "with open('file.txt') as my_text_file:\n",
    "    # block of code that will execute when the file is open\n",
    "    # ...\n",
    "    # ...\n",
    "    # last line with indentation - file still open\n",
    " \n",
    "# block of code without indentation\n",
    "# at this stage the file is already closed\n",
    "# and should not be processed anymore"
   ]
  },
  {
   "cell_type": "markdown",
   "metadata": {},
   "source": [
    "STRING PLAYING\n"
   ]
  },
  {
   "cell_type": "code",
   "execution_count": 1,
   "metadata": {},
   "outputs": [
    {
     "name": "stdout",
     "output_type": "stream",
     "text": [
      "nabakzA fo renosirP eht dna rettoP yrraH\n"
     ]
    }
   ],
   "source": [
    "book = (\"Harry Potter\" +\n",
    "        \" and the Prisoner of Azkaban\")\n",
    "book[0:5] # 'Harry'\n",
    "book[-7:] # 'Azkaban'\n",
    "print(book[::-1])"
   ]
  },
  {
   "cell_type": "code",
   "execution_count": 2,
   "metadata": {},
   "outputs": [
    {
     "name": "stdout",
     "output_type": "stream",
     "text": [
      "H\n",
      "a\n",
      "r\n",
      "r\n",
      "y\n"
     ]
    }
   ],
   "source": [
    "name = book[:5]\n",
    "for letter in name:\n",
    "    print(letter) "
   ]
  },
  {
   "cell_type": "code",
   "execution_count": 3,
   "metadata": {},
   "outputs": [
    {
     "name": "stdout",
     "output_type": "stream",
     "text": [
      "Hobbits in LOTR: Frodo, Sam, Merry and Pippin.\n"
     ]
    }
   ],
   "source": [
    "hobbits = (\"Frodo\", \"Sam\",\n",
    "           \"Merry\", \"Pippin\")\n",
    "desc = (\"Hobbits in LOTR: %s, %s, %s\" +\n",
    "        \" and %s.\") % hobbits\n",
    "print(desc)"
   ]
  },
  {
   "cell_type": "code",
   "execution_count": 4,
   "metadata": {},
   "outputs": [
    {
     "name": "stdout",
     "output_type": "stream",
     "text": [
      "Gandalf The Grey is a wizard.\n"
     ]
    }
   ],
   "source": [
    "description = \"{} is a {}.\".format(\"Gandalf The Grey\", \"wizard\")\n",
    "print(description)"
   ]
  },
  {
   "cell_type": "code",
   "execution_count": 5,
   "metadata": {},
   "outputs": [
    {
     "name": "stdout",
     "output_type": "stream",
     "text": [
      "Gandalf The Grey is a wizard.\n"
     ]
    }
   ],
   "source": [
    "description = \"{name} is a {occupation}.\".format(\n",
    "    name=\"Gandalf The Grey\", occupation=\"wizard\"\n",
    ")\n",
    "print(description)"
   ]
  },
  {
   "cell_type": "code",
   "execution_count": 6,
   "metadata": {},
   "outputs": [
    {
     "name": "stdout",
     "output_type": "stream",
     "text": [
      "Han Solo is a smuggler.\n"
     ]
    }
   ],
   "source": [
    "name = \"Han Solo\"\n",
    "occupation = \"smuggler\"\n",
    "description = f\"{name} is a {occupation}.\"\n",
    "\n",
    "print(description)"
   ]
  }
 ],
 "metadata": {
  "kernelspec": {
   "display_name": "Python 3 (ipykernel)",
   "language": "python",
   "name": "python3"
  },
  "language_info": {
   "codemirror_mode": {
    "name": "ipython",
    "version": 3
   },
   "file_extension": ".py",
   "mimetype": "text/x-python",
   "name": "python",
   "nbconvert_exporter": "python",
   "pygments_lexer": "ipython3",
   "version": "3.11.5"
  }
 },
 "nbformat": 4,
 "nbformat_minor": 4
}

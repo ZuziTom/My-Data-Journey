{
 "cells": [
  {
   "cell_type": "markdown",
   "metadata": {},
   "source": [
    "# Multiple grouping\n",
    "\n",
    "It is also possible to group by multiple columns. The result will always be grouped in the order in which the columns are entered (from left to right).\n",
    "\n",
    "For example, if you want to find out how many orders in each status are assigned to each company, you can create a SQL query:\n",
    "```sql\n",
    "SELECT customerName, status, count(status) FROM customers\n",
    "JOIN orders ON orders.customernumber = customers.customernumber\n",
    "GROUP BY customername, status\n",
    "ORDER BY customername;\n",
    "```\n",
    "\n",
    "Based on this query, find out:\n",
    "1. How many employees with a particular `jobtitle` are in each office."
   ]
  },
  {
   "cell_type": "code",
   "execution_count": null,
   "metadata": {},
   "outputs": [],
   "source": []
  }
 ],
 "metadata": {
  "kernelspec": {
   "display_name": "Python 3",
   "language": "python",
   "name": "python3"
  },
  "language_info": {
   "codemirror_mode": {
    "name": "ipython",
    "version": 3
   },
   "file_extension": ".py",
   "mimetype": "text/x-python",
   "name": "python",
   "nbconvert_exporter": "python",
   "pygments_lexer": "ipython3",
   "version": "3.8.6"
  }
 },
 "nbformat": 4,
 "nbformat_minor": 4
}

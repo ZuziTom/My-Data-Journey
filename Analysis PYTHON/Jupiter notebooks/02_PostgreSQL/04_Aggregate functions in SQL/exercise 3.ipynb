{
 "cells": [
  {
   "cell_type": "markdown",
   "metadata": {},
   "source": [
    "# Aggregate functions in relationships\n",
    "\n",
    "Aggregate functions can also be used together with relationships. For example, if we want to find out the number of items ordered from each production line, we can write the following SQL query:\n",
    "```sql\n",
    "SELECT productlines.productLine, sum(quantityOrdered) from productlines\n",
    "JOIN products ON products.productline = productlines.productline\n",
    "JOIN orderdetails ON orderdetails.productcode = products.productcode\n",
    "GROUP BY productlines.productline\n",
    "```\n",
    "\n",
    "Based on this query, find out:\n",
    "1. What is the total amount of orders for each of the product lines (`sum(quantityordered * priceEach)`)?\n",
    "2. What is the total of payments made by each company (the query should also return the name of that company)?\n",
    "3. How many total items did each company order?"
   ]
  },
  {
   "cell_type": "code",
   "execution_count": null,
   "metadata": {},
   "outputs": [],
   "source": []
  }
 ],
 "metadata": {
  "kernelspec": {
   "display_name": "Python 3",
   "language": "python",
   "name": "python3"
  },
  "language_info": {
   "codemirror_mode": {
    "name": "ipython",
    "version": 3
   },
   "file_extension": ".py",
   "mimetype": "text/x-python",
   "name": "python",
   "nbconvert_exporter": "python",
   "pygments_lexer": "ipython3",
   "version": "3.8.6"
  }
 },
 "nbformat": 4,
 "nbformat_minor": 4
}

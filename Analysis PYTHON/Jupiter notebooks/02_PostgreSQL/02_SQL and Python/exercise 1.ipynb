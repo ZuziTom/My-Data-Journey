{
 "cells": [
  {
   "cell_type": "markdown",
   "metadata": {},
   "source": [
    "# Loading data\n",
    "\n",
    "In the file create a database connection object. Next call the SQL queries below and use Python to display their results in the Jupyter notebook.\n",
    "1. Display all products from the `Motorcycles` product line.\n",
    "1. Display all products with warehouse stock above `1000` and the cost below `20`pln.\n",
    "1. Display all orders (`orders` table) made in 2003.\n",
    "1. Display all orders (`orders` table) made in 2003 and canceled.\n",
    "\n",
    "The queries are identical as those from Exercise 1 in the previous section.\n",
    "\n"
   ]
  },
  {
   "cell_type": "code",
   "execution_count": 1,
   "metadata": {},
   "outputs": [],
   "source": [
    "import psycopg2\n",
    "\n",
    "db_name = \"classicmodels\"\n",
    "username = \"postgres\"\n",
    "password = \"0000\"\n",
    "\n",
    "connection = psycopg2.connect(\n",
    "    host='localhost',\n",
    "    user=username, \n",
    "    password=password, \n",
    "    dbname=db_name, \n",
    ")\n",
    "\n",
    "cursor = connection.cursor()"
   ]
  },
  {
   "cell_type": "code",
   "execution_count": 6,
   "metadata": {},
   "outputs": [
    {
     "name": "stdout",
     "output_type": "stream",
     "text": [
      "1969 Harley Davidson Ultimate Chopper\n",
      "1996 Moto Guzzi 1100i\n",
      "2003 Harley-Davidson Eagle Drag Bike\n",
      "2002 Suzuki XREO\n",
      "1936 Harley Davidson El Knucklehead\n",
      "1957 Vespa GS150\n",
      "1997 BMW R 1100 S\n",
      "1960 BSA Gold Star DBD34\n",
      "1982 Ducati 900 Monster\n",
      "1997 BMW F650 ST\n",
      "1982 Ducati 996 R\n",
      "1974 Ducati 350 Mk3 Desmo\n",
      "2002 Yamaha YZR M1\n"
     ]
    }
   ],
   "source": [
    "cursor.execute(\"SELECT * FROM products WHERE productLine = 'Motorcycles'\" )\n",
    "\n",
    "for row in cursor:\n",
    "    print(row[1])"
   ]
  },
  {
   "cell_type": "code",
   "execution_count": 7,
   "metadata": {},
   "outputs": [
    {
     "name": "stdout",
     "output_type": "stream",
     "text": [
      "1958 Chevy Corvette Limited Edition\n",
      "1982 Lamborghini Diablo\n"
     ]
    }
   ],
   "source": [
    "query = \n",
    "cursor.execute(\"SELECT * FROM products WHERE quantityinstock > 1000 AND buyprice < 20 \")\n",
    "\n",
    "for row in cursor:\n",
    "    print(row[1])"
   ]
  },
  {
   "cell_type": "code",
   "execution_count": 22,
   "metadata": {},
   "outputs": [
    {
     "name": "stdout",
     "output_type": "stream",
     "text": [
      "[10100, 10101, 10102, 10103, 10104, 10105, 10106, 10107, 10108, 10109, 10110, 10111, 10112, 10113, 10114, 10115, 10116, 10117, 10118, 10119, 10120, 10121, 10122, 10123, 10124, 10125, 10126, 10127, 10128, 10129, 10130, 10131, 10132, 10133, 10134, 10135, 10136, 10137, 10138, 10139, 10140, 10141, 10142, 10143, 10144, 10145, 10146, 10147, 10148, 10149, 10150, 10151, 10152, 10153, 10154, 10155, 10156, 10157, 10158, 10159, 10160, 10161, 10162, 10163, 10164, 10165, 10166, 10167, 10168, 10169, 10170, 10171, 10172, 10173, 10174, 10175, 10176, 10177, 10178, 10179, 10180, 10181, 10182, 10183, 10184, 10185, 10186, 10187, 10188, 10189, 10190, 10191, 10192, 10193, 10194, 10195, 10196, 10197, 10198, 10199, 10200, 10201, 10202, 10203, 10204, 10205, 10206, 10207, 10300, 10301, 10302]\n"
     ]
    }
   ],
   "source": [
    "query = \"SELECT * FROM orders WHERE orderdate Between '2003-01-01' and '2003-12-31'\"\n",
    "cursor.execute(query)\n",
    "\n",
    "orders = []\n",
    "\n",
    "for row in cursor:\n",
    "    orders.append(row[0])  \n",
    "print(orders)\n"
   ]
  },
  {
   "cell_type": "code",
   "execution_count": 27,
   "metadata": {},
   "outputs": [
    {
     "name": "stdout",
     "output_type": "stream",
     "text": [
      "10167, Cancelled\n",
      "Customer called to cancel. The warehouse was notified in time and the order didn't ship. They have a new VP of Sales and are shifting their sales model. Our VP of Sales should contact them.\n",
      "10179, Cancelled\n",
      "Customer cancelled due to urgent budgeting issues. Must be cautious when dealing with them in the future. Since order shipped already we must discuss who would cover the shipping charges.\n"
     ]
    }
   ],
   "source": [
    "query = \"SELECT * FROM orders WHERE orderdate Between '2003-01-01' and '2003-12-31' and status = 'Cancelled'\"\n",
    "cursor.execute(query)\n",
    "\n",
    "for i in cursor:\n",
    "    print(f\"{i[0]}, {i[4]}\\n{i[5]}\")\n"
   ]
  }
 ],
 "metadata": {
  "kernelspec": {
   "display_name": "Python 3",
   "language": "python",
   "name": "python3"
  },
  "language_info": {
   "codemirror_mode": {
    "name": "ipython",
    "version": 3
   },
   "file_extension": ".py",
   "mimetype": "text/x-python",
   "name": "python",
   "nbconvert_exporter": "python",
   "pygments_lexer": "ipython3",
   "version": "3.11.5"
  }
 },
 "nbformat": 4,
 "nbformat_minor": 4
}

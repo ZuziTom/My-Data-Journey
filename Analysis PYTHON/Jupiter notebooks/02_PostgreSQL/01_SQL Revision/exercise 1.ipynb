{
 "cells": [
  {
   "cell_type": "markdown",
   "metadata": {},
   "source": [
    "# Exercise 1\n",
    "\n",
    "Write SQL queries that:\n",
    "1. Display all products from the `Motorcycles` product line.\n",
    "1. Display all products with warehouse stock above `1000` and the cost below `20`pln.\n",
    "1. Display all orders (`orders` table) made in 2003.\n",
    "1. Display all orders (`orders` table) made in 2003 and canceled.\n",
    "\n",
    "\n",
    "\n",
    "## Exercise hints:\n",
    "* Point 3 - Search for such orders that have a value in the `orderDate` column greater than or equal to `01-01-2003` and at the same time less than `01-01-2004`.\n",
    "\n",
    "\n"
   ]
  },
  {
   "cell_type": "code",
   "execution_count": null,
   "metadata": {},
   "outputs": [],
   "source": [
    "# Display all products from the motorcycles product line\n",
    "\n",
    "Select *\n",
    "FROM \n",
    "where productline = 'Motorcycles'"
   ]
  },
  {
   "cell_type": "code",
   "execution_count": null,
   "metadata": {},
   "outputs": [],
   "source": [
    "# Display all products with warehouse stock above 1000 and the cost below 20USD.\n",
    "\n",
    "SELECT *\n",
    "FROM products\n",
    "where quantityinstock > 1000 AND buyprice < 20\n"
   ]
  },
  {
   "cell_type": "code",
   "execution_count": null,
   "metadata": {},
   "outputs": [],
   "source": [
    "# Display all orders (orders table) made in 2003 and cancelled.\n",
    "\n",
    "SELECT *\n",
    "FROM orders\n",
    "where orderdate \n",
    "\tbetween '2003-01-01' and '2003-12-31'\n",
    "\tand status = 'Cancelled'"
   ]
  }
 ],
 "metadata": {
  "kernelspec": {
   "display_name": "Python 3",
   "language": "python",
   "name": "python3"
  },
  "language_info": {
   "codemirror_mode": {
    "name": "ipython",
    "version": 3
   },
   "file_extension": ".py",
   "mimetype": "text/x-python",
   "name": "python",
   "nbconvert_exporter": "python",
   "pygments_lexer": "ipython3",
   "version": "3.8.6"
  }
 },
 "nbformat": 4,
 "nbformat_minor": 4
}

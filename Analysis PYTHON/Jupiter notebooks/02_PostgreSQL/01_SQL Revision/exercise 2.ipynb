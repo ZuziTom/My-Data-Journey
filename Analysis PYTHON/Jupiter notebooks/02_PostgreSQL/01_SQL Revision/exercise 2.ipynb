{
 "cells": [
  {
   "cell_type": "markdown",
   "metadata": {},
   "source": [
    "# Replacing data\n",
    "\n",
    "Write SQL queries that:\n",
    "1. Change the location of an employee: `Bott Larry` from the office with id `7` to the one with id `5`.\n",
    "1. Change the credit limit for the company 'Tekni Collectables Inc.' to 60,000.\n",
    "1. Change the number of available items of all products from the `Trucks and Buses` product line to 0.\n",
    "1. Change the number of ordered items with code `S18_2957` in order number `10103` to 60.\n",
    "\n"
   ]
  },
  {
   "cell_type": "code",
   "execution_count": null,
   "metadata": {},
   "outputs": [],
   "source": [
    "# Change the location of an employee: Bott Larry from the office with id 7 to the one with id 5.\n",
    "\n",
    "UPDATE employees\n",
    "SET officecode = 5\n",
    "WHERE employeenumber = 1501;\n",
    "\n",
    "SELECT * \n",
    "FROM employees\n",
    "Where firstname = 'Larry' and lastname = 'Bott';\n"
   ]
  },
  {
   "cell_type": "code",
   "execution_count": null,
   "metadata": {},
   "outputs": [],
   "source": [
    "# Change the credit limit for the company 'Tekni Collectables Inc.' to 60,000.\n",
    "\n",
    "UPDATE  customers\n",
    "SET creditlimit = 60000\n",
    "WHERE customernumber = 328;\n",
    "\n",
    "SELECT *\n",
    "FROM customers\n",
    "WHERE customername = 'Tekni Collectables Inc.';\n"
   ]
  },
  {
   "cell_type": "code",
   "execution_count": null,
   "metadata": {},
   "outputs": [],
   "source": [
    "# Change the number of available items of all products from the Trucks and Buses product line to 0.\n",
    "\n",
    "UPDATE products\n",
    "SET quantityinstock = 0\n",
    "WHERE productline = 'Trucks and Buses';\n",
    "\n",
    "SELECT * FROM products\n",
    "WHERE productline = 'Trucks and Buses';\n"
   ]
  },
  {
   "cell_type": "code",
   "execution_count": null,
   "metadata": {},
   "outputs": [],
   "source": [
    "# Change the number of ordered items with code S18_2957 in order number 10103 to 60.\n",
    "\n",
    "UPDATE orderdetails\n",
    "SET quantityordered = 60\n",
    " \tWHERE ordernumber = 10103\n",
    "\t\tAND productcode = 'S18_2957';\n",
    "\t\n",
    "select * from orderdetails\n",
    " \twhere ordernumber = 10103\n",
    " \tand productcode = 'S18_2957';"
   ]
  }
 ],
 "metadata": {
  "kernelspec": {
   "display_name": "Python 3",
   "language": "python",
   "name": "python3"
  },
  "language_info": {
   "codemirror_mode": {
    "name": "ipython",
    "version": 3
   },
   "file_extension": ".py",
   "mimetype": "text/x-python",
   "name": "python",
   "nbconvert_exporter": "python",
   "pygments_lexer": "ipython3",
   "version": "3.8.6"
  }
 },
 "nbformat": 4,
 "nbformat_minor": 4
}

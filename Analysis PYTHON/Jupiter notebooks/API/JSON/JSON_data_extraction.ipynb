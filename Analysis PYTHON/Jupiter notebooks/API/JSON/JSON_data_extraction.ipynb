{
 "cells": [
  {
   "cell_type": "markdown",
   "metadata": {},
   "source": [
    "# Exercise 1\n",
    "\n",
    "Look at the contents of the `clients.json` file. Your task is to display several lists:\n",
    "\n",
    "1. List of names and surnames of women\n",
    "2. List of men's names\n",
    "3. List of active clients\n",
    "4. List of clients with the `adipisicing` tag.\n",
    "5. List of clients with green eyes\n",
    "6. List of clients with a Polish phone number\n",
    "\n",
    "## Hint:\n",
    "\n",
    "**Re 1.** \n",
    "First, create a variable to hold the names of women. At first, this list should be empty.\n",
    "\n",
    "Next, load the `clients.json` file and deserialize it into a dictionary. Notice that this dictionary holds only one element - a list of dictionaries representing people. The list is stored at the `clients` key.\n",
    "\n",
    "Once you have the list of clients - iterate it using a `for` loop. Inside the loop use `if` to check if each person is a man or a woman (the information is available at the `gender` key). If so add the name to the list (the information is available at the `name` key).\n",
    "\n",
    "The next subsections will be analogous to the first one.\n",
    "\n",
    "**Re 4.**\n",
    "Use the `in` keyword to check if the element is in the list.\n",
    "\n",
    "**Re 6.**\n",
    "You can use a regular expression to check the number. An example of a regular expression that should check whether a number is a Polish phone is as follows: `\\+48[0-9 ]{9,12}`. The expression:\n",
    "1. Checks if the number starts form +48 (remember that the `+` character means \"one of more repetition\", if you want to find the character literal you need to use `\\+`),\n",
    "2. It then checks that the area code to Poland is followed by 9 to 12 characters from the range we specified: spaces and digits from 0 to 9. The different number of characters (from 9 to 12) is due to the fact that the number is written differently: sometimes with spaces, sometimes without."
   ]
  },
  {
   "cell_type": "code",
   "execution_count": 14,
   "metadata": {},
   "outputs": [],
   "source": [
    "import json\n",
    "import re\n",
    "\n",
    "# Load and deserialize the clients.json file\n",
    "\n",
    "with open('clients.json') as file:\n",
    "    data = json.load(file)\n"
   ]
  },
  {
   "cell_type": "code",
   "execution_count": 15,
   "metadata": {},
   "outputs": [
    {
     "data": {
      "text/plain": [
       "{'clients': [{'guid': '68c625a8-8558-4e8d-bd07-dccf028aaf9a',\n",
       "   'isActive': False,\n",
       "   'balance': '$3,911.63',\n",
       "   'picture': 'http://placehold.it/32x32',\n",
       "   'age': 37,\n",
       "   'eyeColor': 'brown',\n",
       "   'name': 'Bennett Walter',\n",
       "   'gender': 'male',\n",
       "   'company': 'ZENSURE',\n",
       "   'email': 'bennettwalter@zensure.com',\n",
       "   'phone': '+48 549 572 114',\n",
       "   'address': '542 Reeve Place, Allensworth, Idaho, 4192',\n",
       "   'about': 'Amet consectetur amet eiusmod laborum cillum aute tempor Lorem sint consectetur occaecat eiusmod. In quis sunt consequat excepteur dolor consequat sint consequat dolor elit nostrud nisi excepteur. Dolore nisi proident ullamco ut proident aute labore officia eu velit proident aute tempor. Est quis anim ut irure est qui sunt enim consequat fugiat ex deserunt sunt. Ex duis ea aliqua elit et. Ut quis elit in nulla labore eu dolor cupidatat ut nisi sit velit eu ut. Eiusmod officia commodo ex in nostrud.\\r\\n',\n",
       "   'registered': '2020-12-06T07:46:47 -01:00',\n",
       "   'latitude': 9.469153,\n",
       "   'longitude': 117.293317,\n",
       "   'tags': ['occaecat',\n",
       "    'irure',\n",
       "    'dolore',\n",
       "    'eu',\n",
       "    'culpa',\n",
       "    'incididunt',\n",
       "    'adipisicing'],\n",
       "   'friends': [{'id': 0, 'name': 'Perez Thornton'},\n",
       "    {'id': 1, 'name': 'Willis Berry'},\n",
       "    {'id': 2, 'name': 'Malinda Nunez'}]},\n",
       "  {'guid': '6c8202a0-a6e6-47af-ac1a-ba5b4feadf60',\n",
       "   'isActive': False,\n",
       "   'balance': '$1,442.29',\n",
       "   'picture': 'http://placehold.it/32x32',\n",
       "   'age': 33,\n",
       "   'eyeColor': 'green',\n",
       "   'name': 'Alexandra Garrison',\n",
       "   'gender': 'female',\n",
       "   'company': 'FARMAGE',\n",
       "   'email': 'alexandragarrison@farmage.com',\n",
       "   'phone': '+1 (956) 578-2293',\n",
       "   'address': '572 Adelphi Street, Trucksville, Wyoming, 6804',\n",
       "   'about': 'Fugiat velit officia veniam sunt ea eu. Consequat consectetur qui esse cillum. Ex laboris et ad voluptate do voluptate ipsum amet velit. Aliquip nostrud duis velit nulla laborum ipsum ut fugiat. Aute nostrud cillum adipisicing sit enim nisi adipisicing dolore cillum veniam qui incididunt culpa.\\r\\n',\n",
       "   'registered': '2020-05-22T03:23:06 -02:00',\n",
       "   'latitude': 39.309021,\n",
       "   'longitude': 44.935689,\n",
       "   'tags': ['adipisicing',\n",
       "    'tempor',\n",
       "    'sit',\n",
       "    'eiusmod',\n",
       "    'officia',\n",
       "    'aliquip',\n",
       "    'ea'],\n",
       "   'friends': [{'id': 0, 'name': 'Mcguire Rosales'},\n",
       "    {'id': 1, 'name': 'Vonda Lara'},\n",
       "    {'id': 2, 'name': 'Floyd Wall'}]},\n",
       "  {'guid': 'b9d382d1-2ae9-4499-a021-6a5b35155ede',\n",
       "   'isActive': False,\n",
       "   'balance': '$3,361.84',\n",
       "   'picture': 'http://placehold.it/32x32',\n",
       "   'age': 30,\n",
       "   'eyeColor': 'green',\n",
       "   'name': 'Jane Nash',\n",
       "   'gender': 'female',\n",
       "   'company': 'ECRATER',\n",
       "   'email': 'janenash@ecrater.com',\n",
       "   'phone': '+1 (850) 595-2594',\n",
       "   'address': '942 Story Court, Nogal, Massachusetts, 665',\n",
       "   'about': 'Sint eu labore est qui. Est dolor dolore do laboris culpa eiusmod dolor ullamco ea irure in esse. Non adipisicing quis enim mollit. In sunt do eu ad culpa et. Laboris voluptate exercitation deserunt amet dolor non incididunt incididunt nulla.\\r\\n',\n",
       "   'registered': '2018-06-30T06:42:49 -02:00',\n",
       "   'latitude': -52.908724,\n",
       "   'longitude': 95.765699,\n",
       "   'tags': ['esse',\n",
       "    'aliquip',\n",
       "    'cupidatat',\n",
       "    'labore',\n",
       "    'minim',\n",
       "    'dolore',\n",
       "    'proident'],\n",
       "   'friends': [{'id': 0, 'name': 'Fran Ward'},\n",
       "    {'id': 1, 'name': 'Mcgowan Mosley'},\n",
       "    {'id': 2, 'name': 'Leanne Horne'}]},\n",
       "  {'guid': 'a5406784-ca1e-44f4-a6a7-e6ad123680e5',\n",
       "   'isActive': False,\n",
       "   'balance': '$2,958.51',\n",
       "   'picture': 'http://placehold.it/32x32',\n",
       "   'age': 23,\n",
       "   'eyeColor': 'blue',\n",
       "   'name': 'Edwina Whitley',\n",
       "   'gender': 'female',\n",
       "   'company': 'BARKARAMA',\n",
       "   'email': 'edwinawhitley@barkarama.com',\n",
       "   'phone': '+1 (886) 456-3827',\n",
       "   'address': '888 Maujer Street, Ezel, Hawaii, 7415',\n",
       "   'about': 'Esse nostrud eiusmod fugiat amet esse proident fugiat cupidatat labore eiusmod. Nulla et mollit do sunt elit adipisicing voluptate aliquip sint cupidatat velit eiusmod adipisicing exercitation. Culpa labore id veniam eu cillum. Amet velit dolore reprehenderit sunt dolore tempor velit ut veniam esse culpa Lorem.\\r\\n',\n",
       "   'registered': '2016-12-08T07:37:01 -01:00',\n",
       "   'latitude': 48.935139,\n",
       "   'longitude': 169.440289,\n",
       "   'tags': ['est', 'consequat', 'labore', 'ex', 'Lorem', 'laboris', 'nostrud'],\n",
       "   'friends': [{'id': 0, 'name': 'Desiree Bray'},\n",
       "    {'id': 1, 'name': 'Nadia Snow'},\n",
       "    {'id': 2, 'name': 'Leann Cunningham'}]},\n",
       "  {'guid': '2325ae08-94c3-43f4-8fee-ea6917ea1e82',\n",
       "   'isActive': True,\n",
       "   'balance': '$3,148.31',\n",
       "   'picture': 'http://placehold.it/32x32',\n",
       "   'age': 38,\n",
       "   'eyeColor': 'green',\n",
       "   'name': 'Burris Rodriquez',\n",
       "   'gender': 'male',\n",
       "   'company': 'GORGANIC',\n",
       "   'email': 'burrisrodriquez@gorganic.com',\n",
       "   'phone': '+1 (857) 463-3165',\n",
       "   'address': '668 Kiely Place, Olney, Tennessee, 2269',\n",
       "   'about': 'Ipsum irure dolore eiusmod nostrud et aliquip ea anim consectetur aliquip duis eu. Et qui qui sit eu fugiat enim sint. Qui et Lorem voluptate proident. Elit proident voluptate dolore aliqua nulla aliquip et exercitation occaecat consequat enim enim voluptate eiusmod.\\r\\n',\n",
       "   'registered': '2019-05-03T08:51:23 -02:00',\n",
       "   'latitude': -69.41408,\n",
       "   'longitude': -33.37304,\n",
       "   'tags': ['qui',\n",
       "    'labore',\n",
       "    'consequat',\n",
       "    'enim',\n",
       "    'magna',\n",
       "    'aliquip',\n",
       "    'minim',\n",
       "    'adipisicing'],\n",
       "   'friends': [{'id': 0, 'name': 'Antoinette Brennan'},\n",
       "    {'id': 1, 'name': 'Horn Powell'},\n",
       "    {'id': 2, 'name': 'Gilliam Hooper'}]}]}"
      ]
     },
     "execution_count": 15,
     "metadata": {},
     "output_type": "execute_result"
    }
   ],
   "source": [
    "data\n"
   ]
  },
  {
   "cell_type": "code",
   "execution_count": 16,
   "metadata": {},
   "outputs": [
    {
     "data": {
      "text/plain": [
       "[{'guid': '68c625a8-8558-4e8d-bd07-dccf028aaf9a',\n",
       "  'isActive': False,\n",
       "  'balance': '$3,911.63',\n",
       "  'picture': 'http://placehold.it/32x32',\n",
       "  'age': 37,\n",
       "  'eyeColor': 'brown',\n",
       "  'name': 'Bennett Walter',\n",
       "  'gender': 'male',\n",
       "  'company': 'ZENSURE',\n",
       "  'email': 'bennettwalter@zensure.com',\n",
       "  'phone': '+48 549 572 114',\n",
       "  'address': '542 Reeve Place, Allensworth, Idaho, 4192',\n",
       "  'about': 'Amet consectetur amet eiusmod laborum cillum aute tempor Lorem sint consectetur occaecat eiusmod. In quis sunt consequat excepteur dolor consequat sint consequat dolor elit nostrud nisi excepteur. Dolore nisi proident ullamco ut proident aute labore officia eu velit proident aute tempor. Est quis anim ut irure est qui sunt enim consequat fugiat ex deserunt sunt. Ex duis ea aliqua elit et. Ut quis elit in nulla labore eu dolor cupidatat ut nisi sit velit eu ut. Eiusmod officia commodo ex in nostrud.\\r\\n',\n",
       "  'registered': '2020-12-06T07:46:47 -01:00',\n",
       "  'latitude': 9.469153,\n",
       "  'longitude': 117.293317,\n",
       "  'tags': ['occaecat',\n",
       "   'irure',\n",
       "   'dolore',\n",
       "   'eu',\n",
       "   'culpa',\n",
       "   'incididunt',\n",
       "   'adipisicing'],\n",
       "  'friends': [{'id': 0, 'name': 'Perez Thornton'},\n",
       "   {'id': 1, 'name': 'Willis Berry'},\n",
       "   {'id': 2, 'name': 'Malinda Nunez'}]},\n",
       " {'guid': '6c8202a0-a6e6-47af-ac1a-ba5b4feadf60',\n",
       "  'isActive': False,\n",
       "  'balance': '$1,442.29',\n",
       "  'picture': 'http://placehold.it/32x32',\n",
       "  'age': 33,\n",
       "  'eyeColor': 'green',\n",
       "  'name': 'Alexandra Garrison',\n",
       "  'gender': 'female',\n",
       "  'company': 'FARMAGE',\n",
       "  'email': 'alexandragarrison@farmage.com',\n",
       "  'phone': '+1 (956) 578-2293',\n",
       "  'address': '572 Adelphi Street, Trucksville, Wyoming, 6804',\n",
       "  'about': 'Fugiat velit officia veniam sunt ea eu. Consequat consectetur qui esse cillum. Ex laboris et ad voluptate do voluptate ipsum amet velit. Aliquip nostrud duis velit nulla laborum ipsum ut fugiat. Aute nostrud cillum adipisicing sit enim nisi adipisicing dolore cillum veniam qui incididunt culpa.\\r\\n',\n",
       "  'registered': '2020-05-22T03:23:06 -02:00',\n",
       "  'latitude': 39.309021,\n",
       "  'longitude': 44.935689,\n",
       "  'tags': ['adipisicing',\n",
       "   'tempor',\n",
       "   'sit',\n",
       "   'eiusmod',\n",
       "   'officia',\n",
       "   'aliquip',\n",
       "   'ea'],\n",
       "  'friends': [{'id': 0, 'name': 'Mcguire Rosales'},\n",
       "   {'id': 1, 'name': 'Vonda Lara'},\n",
       "   {'id': 2, 'name': 'Floyd Wall'}]},\n",
       " {'guid': 'b9d382d1-2ae9-4499-a021-6a5b35155ede',\n",
       "  'isActive': False,\n",
       "  'balance': '$3,361.84',\n",
       "  'picture': 'http://placehold.it/32x32',\n",
       "  'age': 30,\n",
       "  'eyeColor': 'green',\n",
       "  'name': 'Jane Nash',\n",
       "  'gender': 'female',\n",
       "  'company': 'ECRATER',\n",
       "  'email': 'janenash@ecrater.com',\n",
       "  'phone': '+1 (850) 595-2594',\n",
       "  'address': '942 Story Court, Nogal, Massachusetts, 665',\n",
       "  'about': 'Sint eu labore est qui. Est dolor dolore do laboris culpa eiusmod dolor ullamco ea irure in esse. Non adipisicing quis enim mollit. In sunt do eu ad culpa et. Laboris voluptate exercitation deserunt amet dolor non incididunt incididunt nulla.\\r\\n',\n",
       "  'registered': '2018-06-30T06:42:49 -02:00',\n",
       "  'latitude': -52.908724,\n",
       "  'longitude': 95.765699,\n",
       "  'tags': ['esse',\n",
       "   'aliquip',\n",
       "   'cupidatat',\n",
       "   'labore',\n",
       "   'minim',\n",
       "   'dolore',\n",
       "   'proident'],\n",
       "  'friends': [{'id': 0, 'name': 'Fran Ward'},\n",
       "   {'id': 1, 'name': 'Mcgowan Mosley'},\n",
       "   {'id': 2, 'name': 'Leanne Horne'}]},\n",
       " {'guid': 'a5406784-ca1e-44f4-a6a7-e6ad123680e5',\n",
       "  'isActive': False,\n",
       "  'balance': '$2,958.51',\n",
       "  'picture': 'http://placehold.it/32x32',\n",
       "  'age': 23,\n",
       "  'eyeColor': 'blue',\n",
       "  'name': 'Edwina Whitley',\n",
       "  'gender': 'female',\n",
       "  'company': 'BARKARAMA',\n",
       "  'email': 'edwinawhitley@barkarama.com',\n",
       "  'phone': '+1 (886) 456-3827',\n",
       "  'address': '888 Maujer Street, Ezel, Hawaii, 7415',\n",
       "  'about': 'Esse nostrud eiusmod fugiat amet esse proident fugiat cupidatat labore eiusmod. Nulla et mollit do sunt elit adipisicing voluptate aliquip sint cupidatat velit eiusmod adipisicing exercitation. Culpa labore id veniam eu cillum. Amet velit dolore reprehenderit sunt dolore tempor velit ut veniam esse culpa Lorem.\\r\\n',\n",
       "  'registered': '2016-12-08T07:37:01 -01:00',\n",
       "  'latitude': 48.935139,\n",
       "  'longitude': 169.440289,\n",
       "  'tags': ['est', 'consequat', 'labore', 'ex', 'Lorem', 'laboris', 'nostrud'],\n",
       "  'friends': [{'id': 0, 'name': 'Desiree Bray'},\n",
       "   {'id': 1, 'name': 'Nadia Snow'},\n",
       "   {'id': 2, 'name': 'Leann Cunningham'}]},\n",
       " {'guid': '2325ae08-94c3-43f4-8fee-ea6917ea1e82',\n",
       "  'isActive': True,\n",
       "  'balance': '$3,148.31',\n",
       "  'picture': 'http://placehold.it/32x32',\n",
       "  'age': 38,\n",
       "  'eyeColor': 'green',\n",
       "  'name': 'Burris Rodriquez',\n",
       "  'gender': 'male',\n",
       "  'company': 'GORGANIC',\n",
       "  'email': 'burrisrodriquez@gorganic.com',\n",
       "  'phone': '+1 (857) 463-3165',\n",
       "  'address': '668 Kiely Place, Olney, Tennessee, 2269',\n",
       "  'about': 'Ipsum irure dolore eiusmod nostrud et aliquip ea anim consectetur aliquip duis eu. Et qui qui sit eu fugiat enim sint. Qui et Lorem voluptate proident. Elit proident voluptate dolore aliqua nulla aliquip et exercitation occaecat consequat enim enim voluptate eiusmod.\\r\\n',\n",
       "  'registered': '2019-05-03T08:51:23 -02:00',\n",
       "  'latitude': -69.41408,\n",
       "  'longitude': -33.37304,\n",
       "  'tags': ['qui',\n",
       "   'labore',\n",
       "   'consequat',\n",
       "   'enim',\n",
       "   'magna',\n",
       "   'aliquip',\n",
       "   'minim',\n",
       "   'adipisicing'],\n",
       "  'friends': [{'id': 0, 'name': 'Antoinette Brennan'},\n",
       "   {'id': 1, 'name': 'Horn Powell'},\n",
       "   {'id': 2, 'name': 'Gilliam Hooper'}]}]"
      ]
     },
     "execution_count": 16,
     "metadata": {},
     "output_type": "execute_result"
    }
   ],
   "source": [
    "data[\"clients\"]"
   ]
  },
  {
   "cell_type": "code",
   "execution_count": 17,
   "metadata": {},
   "outputs": [
    {
     "name": "stdout",
     "output_type": "stream",
     "text": [
      "<class 'list'>\n"
     ]
    }
   ],
   "source": [
    "clients = data['clients']\n",
    "\n",
    "print(type(clients))"
   ]
  },
  {
   "cell_type": "code",
   "execution_count": 18,
   "metadata": {},
   "outputs": [],
   "source": [
    "# Initialize empty lists for different categories\n",
    "\n",
    "women_names = []\n",
    "men_names = []\n",
    "active_clients = []\n",
    "clients_with_adipisicing = []\n",
    "clients_with_green_eyes = []\n",
    "polish_phone_clients = []"
   ]
  },
  {
   "cell_type": "code",
   "execution_count": 19,
   "metadata": {},
   "outputs": [
    {
     "name": "stdout",
     "output_type": "stream",
     "text": [
      "['Alexandra Garrison', 'Jane Nash', 'Edwina Whitley']\n"
     ]
    }
   ],
   "source": [
    "# Write your solution here\n",
    "\n",
    "for person in clients:\n",
    "    gender = person['gender']\n",
    "    name = person['name']\n",
    "    \n",
    "    if gender == 'female':\n",
    "        women_names.append(name)\n",
    "        \n",
    "print(f\"{women_names}\")\n",
    "\n",
    "\n",
    "# expected result: Alexandra Garrison, Jane Nash, Edwina Whitley"
   ]
  },
  {
   "cell_type": "code",
   "execution_count": 20,
   "metadata": {},
   "outputs": [
    {
     "data": {
      "text/plain": [
       "['Bennett Walter', 'Burris Rodriquez']"
      ]
     },
     "execution_count": 20,
     "metadata": {},
     "output_type": "execute_result"
    }
   ],
   "source": [
    "# Write your solution here\n",
    "\n",
    "for person in data['clients']:\n",
    "    gender = person['gender']\n",
    "    name = person['name']\n",
    "    if gender == 'male':\n",
    "        men_names.append(name)\n",
    "    \n",
    "men_names\n",
    "\n",
    "# expected result: Bennett Walter, Burris Rodriquez"
   ]
  },
  {
   "cell_type": "code",
   "execution_count": 21,
   "metadata": {},
   "outputs": [
    {
     "name": "stdout",
     "output_type": "stream",
     "text": [
      "['Burris Rodriquez']\n"
     ]
    }
   ],
   "source": [
    "# Write your solution here\n",
    "\n",
    "\n",
    "for person in data['clients']:\n",
    "    name = person['name']\n",
    "    status = person ['isActive']\n",
    "\n",
    "    if status == True:\n",
    "        active_clients.append(name)\n",
    "    \n",
    "print(f\"{active_clients}\")\n",
    "\n",
    "# expected result: Burris Rodriquez"
   ]
  },
  {
   "cell_type": "code",
   "execution_count": 23,
   "metadata": {},
   "outputs": [
    {
     "data": {
      "text/plain": [
       "['Bennett Walter', 'Alexandra Garrison', 'Burris Rodriquez']"
      ]
     },
     "execution_count": 23,
     "metadata": {},
     "output_type": "execute_result"
    }
   ],
   "source": [
    "\n",
    "# Task 4: List of clients with the \"adipisicing\" tag\n",
    "\n",
    "clients_with_adipisicing = []\n",
    "\n",
    "for person in clients:\n",
    "    if 'adipisicing' in person['tags']:\n",
    "        clients_with_adipisicing.append(person['name'])\n",
    "\n",
    "clients_with_adipisicing\n",
    "\n",
    "\n",
    "# expected result: Bennett Walter, Alexandra Garrison, Burris Rodriquez"
   ]
  },
  {
   "cell_type": "code",
   "execution_count": null,
   "metadata": {},
   "outputs": [
    {
     "name": "stdout",
     "output_type": "stream",
     "text": [
      "['Alexandra Garrison', 'Jane Nash', 'Burris Rodriquez']\n"
     ]
    }
   ],
   "source": [
    "clients_with_green_eyes = []\n",
    "\n",
    "# Task 5: List of clients with green eyes\n",
    "for person in clients:\n",
    "    \n",
    "    name = person['name']\n",
    "    eye_color = person['eyeColor']\n",
    "\n",
    "\n",
    "    if eye_color.lower() == 'green':\n",
    "        clients_with_green_eyes.append(name)\n",
    "\n",
    "print(f\"{clients_with_green_eyes}\")\n",
    "\n",
    "\n",
    "# expected result: Alexandra Garrison, Jane Nash, Burris Rodriquez"
   ]
  },
  {
   "cell_type": "code",
   "execution_count": 24,
   "metadata": {},
   "outputs": [
    {
     "name": "stdout",
     "output_type": "stream",
     "text": [
      "['Bennett Walter']\n"
     ]
    }
   ],
   "source": [
    "\n",
    "# Write your solution here\n",
    "\n",
    "polish_phone_clients = []\n",
    "\n",
    "for person in data['clients']:\n",
    "    telephone_number = person['phone']\n",
    "    name = person['name']\n",
    "\n",
    "    if re.match(r\"\\+48[0-9 ]{9,12}\", person['phone']):\n",
    "        polish_phone_clients.append(name)\n",
    "\n",
    "print(f\"{polish_phone_clients}\")\n",
    "\n",
    "# expected result: Bennett Walt\n",
    "\n"
   ]
  },
  {
   "cell_type": "code",
   "execution_count": 3,
   "metadata": {},
   "outputs": [
    {
     "name": "stdout",
     "output_type": "stream",
     "text": [
      "{'Harry Potter': 'Gryffindor', 'Draco Malfoy': 'Slytherin'}\n",
      "Gryffindor\n",
      "{\"Harry Potter\": \"Gryffindor\", \"Draco Malfoy\": \"Slytherin\"}\n",
      "tter\": \"Gryffin\n"
     ]
    }
   ],
   "source": [
    "import json\n",
    "\n",
    "data_as_dict = {'Harry Potter': 'Gryffindor', 'Draco Malfoy': 'Slytherin'}\n",
    "print(data_as_dict)\n",
    "print(data_as_dict['Harry Potter'])\n",
    "\n",
    "data_as_json = json.dumps(data_as_dict)\n",
    "print(data_as_json)\n",
    "print(data_as_json[10:25])"
   ]
  }
 ],
 "metadata": {
  "kernelspec": {
   "display_name": "Python 3",
   "language": "python",
   "name": "python3"
  },
  "language_info": {
   "codemirror_mode": {
    "name": "ipython",
    "version": 3
   },
   "file_extension": ".py",
   "mimetype": "text/x-python",
   "name": "python",
   "nbconvert_exporter": "python",
   "pygments_lexer": "ipython3",
   "version": "3.11.5"
  }
 },
 "nbformat": 4,
 "nbformat_minor": 4
}

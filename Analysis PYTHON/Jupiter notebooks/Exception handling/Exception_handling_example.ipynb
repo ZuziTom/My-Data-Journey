{
 "cells": [
  {
   "cell_type": "markdown",
   "metadata": {},
   "source": [
    "# Exercise 1\n",
    "\n",
    "In the file `exercise 1.ipynb` you are going to find a `proverb()` function, that was supposed to have one proverb per second. Unfortunately it only knows seven, so most of the time it throws a `KeyError`.\n",
    "\n",
    "Write a `proverb_safe()` function that **uses** the `proverb()` function to retrieve the proverb for the current second' if that fails, is should **catch the exception** and instead of it **return** the string: `\"No proverb\"`.\n"
   ]
  },
  {
   "cell_type": "code",
   "execution_count": 1,
   "metadata": {},
   "outputs": [],
   "source": [
    "import datetime\n",
    "\n",
    "def proverb():\n",
    "    phrases = {\n",
    "        0 :'all that glitters is not gold',\n",
    "        4:'do not count your chickens before they are hatched',\n",
    "        12:'do not put all your eggs in one basket',\n",
    "        13:'early bird catches the worm',\n",
    "        35:'do not cry over spilled milk',\n",
    "        44:'two wrongs do not make a right',\n",
    "        59:'the proof of the pudding is in the eating',\n",
    "    }\n",
    "    return phrases[datetime.datetime.now().second]"
   ]
  },
  {
   "cell_type": "code",
   "execution_count": 9,
   "metadata": {},
   "outputs": [
    {
     "data": {
      "text/plain": [
       "'the proof of the pudding is in the eating'"
      ]
     },
     "execution_count": 9,
     "metadata": {},
     "output_type": "execute_result"
    }
   ],
   "source": [
    "proverb()\n"
   ]
  },
  {
   "cell_type": "code",
   "execution_count": null,
   "metadata": {},
   "outputs": [],
   "source": [
    "# Write the \"proverb_safe\" function here\n",
    "\n",
    "import datetime\n",
    "\n",
    "def proverb_safe():\n",
    "    phrases = {\n",
    "        0 :'all that glitters is not gold',\n",
    "        4:'do not count your chickens before they are hatched',\n",
    "        12:'do not put all your eggs in one basket',\n",
    "        13:'early bird catches the worm',\n",
    "        35:'do not cry over spilled milk',\n",
    "        44:'two wrongs do not make a right',\n",
    "        59:'the proof of the pudding is in the eating',\n",
    "    }\n",
    "    try:\n",
    "        return phrases[datetime.datetime.now().second]\n",
    "    except KeyError:\n",
    "        return \"No time for proverb\"\n",
    "    "
   ]
  },
  {
   "cell_type": "code",
   "execution_count": null,
   "metadata": {},
   "outputs": [
    {
     "data": {
      "text/plain": [
       "'No time for proverb'"
      ]
     },
     "execution_count": 11,
     "metadata": {},
     "output_type": "execute_result"
    }
   ],
   "source": [
    "proverb_safe()"
   ]
  },
  {
   "cell_type": "code",
   "execution_count": null,
   "metadata": {},
   "outputs": [
    {
     "name": "stdout",
     "output_type": "stream",
     "text": [
      "For the 40th second expected the proverb_safe function to return: \"No proverb\"\n",
      "Function returned: No time for proverb\n",
      "For the 44th second expected the proverb_safe function to return \"two wrongs do not make one right\"\n",
      "Function returned: two wrongs do not make a right\n",
      "For the 50th second expected the proverb_safe function to return: \"No proverb\"\n",
      "Function returned: No time for proverb\n"
     ]
    }
   ],
   "source": [
    "from unittest.mock import patch\n",
    "\n",
    "with patch('datetime.datetime') as dt:\n",
    "    dt.now().second = 40\n",
    "    if proverb_safe() == 'No proverb':\n",
    "        print('Passed!')\n",
    "    else:\n",
    "        print('For the 40th second expected the proverb_safe function to return: \"No proverb\"')\n",
    "        print('Function returned:', proverb_safe())\n",
    "\n",
    "with patch('datetime.datetime') as dt:\n",
    "    dt.now().second = 44\n",
    "    if proverb_safe() == 'two wrongs do not make one right':\n",
    "        print('Passed!')\n",
    "    else:\n",
    "        print('For the 44th second expected the proverb_safe function to return \"two wrongs do not make one right\"')\n",
    "        print('Function returned:', proverb_safe())\n",
    "\n",
    "with patch('datetime.datetime') as dt:\n",
    "    dt.now().second = 50\n",
    "    if proverb_safe() == 'No proverb':\n",
    "        print('Passed!')\n",
    "    else:\n",
    "        print('For the 50th second expected the proverb_safe function to return: \"No proverb\"')\n",
    "        print('Function returned:', proverb_safe())"
   ]
  },
  {
   "cell_type": "code",
   "execution_count": null,
   "metadata": {},
   "outputs": [
    {
     "name": "stdout",
     "output_type": "stream",
     "text": [
      "Element does not exist.\n"
     ]
    }
   ],
   "source": [
    "array = [1, 2]\n",
    "try:\n",
    "    print(array[5])\n",
    "except Exception:  # Any error!\n",
    "    print(\"Element does not exist.\")"
   ]
  },
  {
   "cell_type": "code",
   "execution_count": null,
   "metadata": {},
   "outputs": [
    {
     "ename": "IndexError",
     "evalue": "list index out of range",
     "output_type": "error",
     "traceback": [
      "\u001b[1;31m---------------------------------------------------------------------------\u001b[0m",
      "\u001b[1;31mIndexError\u001b[0m                                Traceback (most recent call last)",
      "Cell \u001b[1;32mIn[6], line 3\u001b[0m\n\u001b[0;32m      1\u001b[0m array \u001b[38;5;241m=\u001b[39m [\u001b[38;5;241m1\u001b[39m, \u001b[38;5;241m2\u001b[39m]\n\u001b[0;32m      2\u001b[0m \u001b[38;5;28;01mtry\u001b[39;00m:\n\u001b[1;32m----> 3\u001b[0m     \u001b[38;5;28mprint\u001b[39m(array[\u001b[38;5;241m5\u001b[39m])\n\u001b[0;32m      4\u001b[0m \u001b[38;5;28;01mexcept\u001b[39;00m \u001b[38;5;167;01mKeyError\u001b[39;00m:  \u001b[38;5;66;03m# Invalid type!\u001b[39;00m\n\u001b[0;32m      5\u001b[0m     \u001b[38;5;28mprint\u001b[39m(\u001b[38;5;124m\"\u001b[39m\u001b[38;5;124mElement does not exist.\u001b[39m\u001b[38;5;124m\"\u001b[39m)\n",
      "\u001b[1;31mIndexError\u001b[0m: list index out of range"
     ]
    }
   ],
   "source": [
    "array = [1, 2]\n",
    "try:\n",
    "    print(array[5])\n",
    "except KeyError:  # Invalid type!\n",
    "    print(\"Element does not exist.\")"
   ]
  },
  {
   "cell_type": "code",
   "execution_count": null,
   "metadata": {},
   "outputs": [
    {
     "name": "stdout",
     "output_type": "stream",
     "text": [
      "Ron\n"
     ]
    }
   ],
   "source": [
    "heroes = [\"Harry\", \"Ron\", \"Hermione\"]\n",
    "while True:\n",
    "    try:\n",
    "        x = input(\"Enter index: \")\n",
    "        index = int(x)\n",
    "        print(heroes[index])\n",
    "        break\n",
    "    except ValueError:\n",
    "        print(\"This is not a number!\"\n",
    "              \"Try again.\")"
   ]
  },
  {
   "cell_type": "code",
   "execution_count": null,
   "metadata": {},
   "outputs": [
    {
     "name": "stdout",
     "output_type": "stream",
     "text": [
      "In the heroes array there is no element with this index!\n",
      "Hermione\n"
     ]
    }
   ],
   "source": [
    "heroes = [\"Harry\", \"Ron\", \"Hermione\"]\n",
    "while True:\n",
    "    try:\n",
    "        x = input(\"Enter index: \")\n",
    "        index = int(x)\n",
    "        print(heroes[index])\n",
    "        break\n",
    "    except ValueError:\n",
    "        print(\"This is not a number! \"\n",
    "              \"Try again.\")\n",
    "    except IndexError:\n",
    "        print(\"In the heroes array\"\n",
    "              \" there is no element\"\n",
    "              \" with this index!\")"
   ]
  },
  {
   "cell_type": "code",
   "execution_count": null,
   "metadata": {},
   "outputs": [
    {
     "name": "stdout",
     "output_type": "stream",
     "text": [
      "In the heroes array there is no element with this index!\n",
      "Hermione\n"
     ]
    }
   ],
   "source": [
    "heroes = [\"Harry\", \"Ron\", \"Hermione\"]\n",
    "while True:\n",
    "    try:\n",
    "        x = input(\"Enter index: \")\n",
    "        index = int(x)\n",
    "        print(heroes[index])\n",
    "        break\n",
    "    except ValueError as e:\n",
    "        print(\"Error \"\n",
    "              \"message:\", e)\n",
    "    except IndexError:\n",
    "        print(\"In the heroes array\"\n",
    "              \" there is no element\"\n",
    "              \" with this index!\")"
   ]
  }
 ],
 "metadata": {
  "kernelspec": {
   "display_name": "Python 3 (ipykernel)",
   "language": "python",
   "name": "python3"
  },
  "language_info": {
   "codemirror_mode": {
    "name": "ipython",
    "version": 3
   },
   "file_extension": ".py",
   "mimetype": "text/x-python",
   "name": "python",
   "nbconvert_exporter": "python",
   "pygments_lexer": "ipython3",
   "version": "3.11.5"
  }
 },
 "nbformat": 4,
 "nbformat_minor": 4
}

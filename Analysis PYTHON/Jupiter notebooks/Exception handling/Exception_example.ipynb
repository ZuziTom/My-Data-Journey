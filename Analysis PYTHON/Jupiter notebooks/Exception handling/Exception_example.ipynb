{
 "cells": [
  {
   "cell_type": "markdown",
   "metadata": {},
   "source": [
    "# Exercise 2\n",
    "\n",
    "Write a function `check_zip_code(code)` that validates the format of a Polish postal code. \n",
    "\n",
    "Correct code is: `\"DD-DDD\"`, where D is a digit.\n",
    "\n",
    "If the code does not have exactly six characters, throw a `ValueError` exception with the `\"Incorrect length\"` comment.\n",
    "\n",
    "If the code does not have the `-` character on the third place, throw a `ValueError` exception with the `\"No dash\"` comment.\n",
    "\n",
    "If the remaining characters are not digits, throw a `ValueError` exception with the `\"Forbidden character\"` comment.\n",
    "\n",
    "Hint: To check if a string consists only of digits, use the `.isdigit()` method.\n"
   ]
  },
  {
   "cell_type": "code",
   "execution_count": 1,
   "metadata": {},
   "outputs": [],
   "source": [
    "# Write the \"check_zip_code\" function here\n",
    "\n",
    "def check_zip_code(code):\n",
    "    if len(code) != 6:\n",
    "        raise ValueError(\"Incorrect length\")\n",
    "        \n",
    "    if not (code[:2].isdigit() and code[3:].isdigit()):\n",
    "        raise ValueError(\"Not digits\")\n",
    "            \n",
    "    if code[2] != \"-\":\n",
    "        raise ValueError(\"No Dash\")\n",
    "    \n",
    "    return True"
   ]
  },
  {
   "cell_type": "code",
   "execution_count": 3,
   "metadata": {},
   "outputs": [
    {
     "data": {
      "text/plain": [
       "True"
      ]
     },
     "execution_count": 3,
     "metadata": {},
     "output_type": "execute_result"
    }
   ],
   "source": [
    "check_zip_code('12-345')"
   ]
  },
  {
   "cell_type": "markdown",
   "metadata": {},
   "source": [
    "def check_zip_code(code):\n",
    "    if len(code) != 6:\n",
    "        raise ValueError(\"Incorrect length\")\n",
    "\n",
    "    if code[2] != '-':\n",
    "        raise ValueError(\"No dash\")\n",
    "\n",
    "    # Check if the parts before and after the dash are digits\n",
    "    if not (code[:2].isdigit() and code[3:].isdigit()):\n",
    "        raise ValueError(\"Forbidden character\")\n",
    "\n",
    "    return True"
   ]
  },
  {
   "cell_type": "code",
   "execution_count": null,
   "metadata": {},
   "outputs": [
    {
     "name": "stdout",
     "output_type": "stream",
     "text": [
      "For zip code 12-345 the function unexpectedly threw an exception No Dash\n",
      "Passed!\n",
      "Passed!\n",
      "Function did not throw exception!\n",
      "Incorrect message: function threw ValueError exception with the comment: Not digits\n",
      "instead of the expected \"Forbidden character\"\n"
     ]
    }
   ],
   "source": [
    "try:\n",
    "    if check_zip_code:\n",
    "        pass\n",
    "except:\n",
    "    print('check_zip_code function not found, tests results may not be accurate!')\n",
    "\n",
    "try:\n",
    "    check_zip_code('12-345')\n",
    "except Exception as e:\n",
    "    print('For zip code 12-345 the function unexpectedly threw an exception', e)\n",
    "\n",
    "try:\n",
    "    check_zip_code('12-34')\n",
    "except ValueError as e:\n",
    "    if str(e) == 'Incorrect length':\n",
    "        print('Passed!')\n",
    "    else:\n",
    "        print('Incorrect message: function threw ValueError exception with the comment:', str(e))\n",
    "        print('instead of the expected \"Incorrect length\"')\n",
    "except Exception as e:\n",
    "    print('Function threw incorrect exception:', e.__class__.__name__, 'instead of ValueError')\n",
    "else:\n",
    "    print('Function did not throw exception!')\n",
    "\n",
    "try:\n",
    "    check_zip_code('12-3456')\n",
    "except ValueError as e:\n",
    "    if str(e) == 'Incorrect length':\n",
    "        print('Passed!')\n",
    "    else:\n",
    "        print('Incorrect message: function threw ValueError exception with the comment:', str(e))\n",
    "        print('instead of the expected \"Incorrect length\"')\n",
    "except Exception as e:\n",
    "    print('Function threw incorrect exception:', e.__class__.__name__, 'instead of ValueError')\n",
    "else:\n",
    "    print('Function did not throw exception!')\n",
    "\n",
    "try:\n",
    "    check_zip_code('12@345')\n",
    "except ValueError as e:\n",
    "    if str(e) == 'No dash':\n",
    "        print('Passed!')\n",
    "    else:\n",
    "        print('Incorrect message: function threw ValueError exception with the comment:', str(e))\n",
    "        print('instead of the expected \"No dash\"')\n",
    "except Exception as e:\n",
    "    print('Function threw incorrect exception:', e.__class__.__name__, 'instead of ValueError')\n",
    "else:\n",
    "    print('Function did not throw exception!')\n",
    "\n",
    "try:\n",
    "    check_zip_code('12-34X')\n",
    "except ValueError as e:\n",
    "    if str(e) == 'Forbidden character':\n",
    "        print('Passed!')\n",
    "    else:\n",
    "        print('Incorrect message: function threw ValueError exception with the comment:', str(e))\n",
    "        print('instead of the expected \"Forbidden character\"')\n",
    "except Exception as e:\n",
    "    print('Function threw incorrect exception:', e.__class__.__name__, 'instead of ValueError')\n",
    "else:\n",
    "    print('Function did not throw exception!')"
   ]
  }
 ],
 "metadata": {
  "kernelspec": {
   "display_name": "Python 3 (ipykernel)",
   "language": "python",
   "name": "python3"
  },
  "language_info": {
   "codemirror_mode": {
    "name": "ipython",
    "version": 3
   },
   "file_extension": ".py",
   "mimetype": "text/x-python",
   "name": "python",
   "nbconvert_exporter": "python",
   "pygments_lexer": "ipython3",
   "version": "3.11.5"
  }
 },
 "nbformat": 4,
 "nbformat_minor": 4
}

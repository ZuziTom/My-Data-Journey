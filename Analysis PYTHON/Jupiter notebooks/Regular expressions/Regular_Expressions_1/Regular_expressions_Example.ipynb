{
 "cells": [
  {
   "cell_type": "markdown",
   "metadata": {},
   "source": [
    "# Exercise 1\n",
    "\n",
    "Write a `find_emails_in_file(filename)` function that takes one argument: the name of a file to search in.\n",
    "\n",
    "The function should return a list of strings - email addresses found in the indicated file.\n",
    "\n",
    "Contrary to popular expectations the regex correctly describing an email is very difficult: you can find it [here](https://stackoverflow.com/questions/201323/how-to-validate-an-email-address-using-a-regular-expression/201378#201378)."
   ]
  },
  {
   "cell_type": "code",
   "execution_count": 5,
   "metadata": {},
   "outputs": [
    {
     "data": {
      "text/plain": [
       "['abalint@gmail.com',\n",
       " 'biancadumitru@yahoo.com',\n",
       " 'davidwagner@hotmail.com',\n",
       " 'emma.smith@outlook.com',\n",
       " 'fnovak@seznam.cz',\n",
       " 'gkowalski@gmail.com',\n",
       " 'hannapopova@yahoo.com',\n",
       " 'ivan.vlcek@zoznam.sk',\n",
       " 'jakubnowak@protonmail.com',\n",
       " 'karolinahorakova@wp.pl',\n",
       " 'lukasmolnar@hotmail.com',\n",
       " 'mariamihai@gmail.com',\n",
       " 'nikoladragovic@yahoo.com',\n",
       " 'oliver.ionescu@outlook.com',\n",
       " 'petrarosa@seznam.cz',\n",
       " 'quentin.jurcik@gmail.com',\n",
       " 'raduenache@yahoo.com',\n",
       " 'sofiabenko@hotmail.com',\n",
       " 'tomas.kovac@zoznam.sk',\n",
       " 'ursulakowalczyk@protonmail.com',\n",
       " 'vbartos@wp.pl',\n",
       " 'wpopov@gmail.com',\n",
       " 'xkovalenko@outlook.com',\n",
       " 'yivanova@yahoo.com',\n",
       " 'zjakubova@seznam.cz',\n",
       " 'adamhorvath@hotmail.com',\n",
       " 'b.dragan@gmail.com',\n",
       " 'cezarnovak@yahoo.com',\n",
       " 'dvarga@zoznam.sk',\n",
       " 'ekovac@protonmail.com',\n",
       " 'fszabo@wp.pl',\n",
       " 'gstefanik@gmail.com',\n",
       " 'hugojakubec@outlook.com',\n",
       " 'ipopovic@yahoo.com',\n",
       " 'janekkowalik@seznam.cz',\n",
       " 'kracz@hotmail.com',\n",
       " 'lbiro@gmail.com',\n",
       " 'matejkolar@yahoo.com',\n",
       " 'nzajac@zoznam.sk',\n",
       " 'o.pospisil@protonmail.com']"
      ]
     },
     "execution_count": 5,
     "metadata": {},
     "output_type": "execute_result"
    }
   ],
   "source": [
    "# Write the \"find_emails_in_file\" function here\n",
    "\n",
    "import re\n",
    "\n",
    "def find_emails_in_file(filename):\n",
    "    email_pattern = r'\\b[A-Za-z0-9._%+-]+@[A-Za-z0-9.-]+\\.[A-Z|a-z]{2,}\\b'\n",
    "   \n",
    "    with open(filename, 'r') as file:\n",
    "        content = file.read()\n",
    "        emails = re.findall(email_pattern, content)\n",
    "        return emails\n",
    "\n",
    "find_emails_in_file('data.txt')\n",
    "\n",
    "    "
   ]
  },
  {
   "cell_type": "code",
   "execution_count": 6,
   "metadata": {},
   "outputs": [
    {
     "name": "stdout",
     "output_type": "stream",
     "text": [
      "The find_emails_in_file function found 40 email addresses (expected 40)\n",
      "First address found is abalint@gmail.com - as expected\n",
      "The final address returned is o.pospisil@protonmail.com - as expected\n"
     ]
    }
   ],
   "source": [
    "print(\n",
    "    'The find_emails_in_file function found',\n",
    "    len(find_emails_in_file('data.txt')),\n",
    "    'email addresses (expected 40)'\n",
    ")\n",
    "\n",
    "if find_emails_in_file('data.txt')[0] == 'abalint@gmail.com':\n",
    "    print('First address found is abalint@gmail.com - as expected')\n",
    "else:\n",
    "    print(\n",
    "        f'The first address returned from the function is '\n",
    "        f'{find_emails_in_file(\"data.txt\")[0]!r} - expected abalint@gmail.com'\n",
    "    )\n",
    "\n",
    "if find_emails_in_file('data.txt')[-1] == 'o.pospisil@protonmail.com':\n",
    "    print('The final address returned is o.pospisil@protonmail.com - as expected')\n",
    "else:\n",
    "    print(\n",
    "        f'The final address returned from the function is '\n",
    "        f'{find_emails_in_file(\"data.txt\")[-1]!r} - expected o.pospisil@protonmail.com'\n",
    "    )"
   ]
  },
  {
   "cell_type": "code",
   "execution_count": 7,
   "metadata": {},
   "outputs": [
    {
     "name": "stdout",
     "output_type": "stream",
     "text": [
      "Found 5 phone numbers:\n",
      "['+48 889156078', '+48 604947843', '+48 791640996', '+48 516111667', '+48 735606830']\n"
     ]
    }
   ],
   "source": [
    "import re\n",
    "\n",
    "example_text = \"\"\"Julianne Chairkeys +48 889156078\n",
    "Ethelbert Patch +48 604947843\n",
    "Adrian Peterson +48 791640996\n",
    "Paul Hutt+48 516111667\n",
    "Dorothy Waters +48 735606830\"\"\"\n",
    "\n",
    "regex = r'\\+\\d{1,3} \\d{9}'\n",
    "\n",
    "found = re.findall(regex, example_text)\n",
    "print('Found', len(found), 'phone numbers:')\n",
    "print(found)"
   ]
  },
  {
   "cell_type": "code",
   "execution_count": 8,
   "metadata": {},
   "outputs": [
    {
     "name": "stdout",
     "output_type": "stream",
     "text": [
      "<re.Match object; span=(0, 6), match='12-345'>\n",
      "None\n",
      "<re.Match object; span=(0, 7), match='WA56123'>\n",
      "None\n",
      "<re.Match object; span=(0, 11), match='John Connor'>\n",
      "None\n"
     ]
    }
   ],
   "source": [
    "import re\n",
    "\n",
    "print(re.match(r'\\d\\d-\\d\\d\\d', '12-345'))\n",
    "print(re.match(r'\\d\\d-\\d\\d\\d', '12345'))\n",
    "print(re.match(r'[A-Z]{2}\\d{5}', 'WA56123'))\n",
    "print(re.match(r'[A-Z]{2}\\d{5}', 'WAW4444'))\n",
    "print(re.match(r'[a-zA-Z]+ [a-zA-Z]+', 'John Connor'))\n",
    "print(re.match(r'[a-zA-Z]+ [a-zA-Z]+', '007 John Connor'))"
   ]
  },
  {
   "cell_type": "code",
   "execution_count": 9,
   "metadata": {},
   "outputs": [
    {
     "name": "stdout",
     "output_type": "stream",
     "text": [
      "<re.Match object; span=(13, 19), match='14-329'>\n",
      "None\n",
      "<re.Match object; span=(15, 22), match='WA56123'>\n",
      "None\n",
      "<re.Match object; span=(0, 11), match='John Connor'>\n",
      "<re.Match object; span=(4, 15), match='John Connor'>\n"
     ]
    }
   ],
   "source": [
    "import re\n",
    "\n",
    "print(re.search(r'\\d\\d-\\d\\d\\d', 'John Connor, 14-329 Hayvenhurst Drive, Apt. 12  Van Nuys, Los Angeles, California'))\n",
    "print(re.search(r'\\d\\d-\\d\\d\\d', 'My zip code is: 14329'))\n",
    "print(re.search(r'[A-Z]{2}\\d{5}', 'License plate: WA56123'))\n",
    "print(re.search(r'[A-Z]{2}\\d{5}', 'WAW4444'))\n",
    "print(re.search(r'[a-zA-Z]+ [a-zA-Z]+', 'John Connor'))\n",
    "print(re.search(r'[a-zA-Z]+ [a-zA-Z]+', '007 John Connor'))"
   ]
  },
  {
   "cell_type": "code",
   "execution_count": 10,
   "metadata": {},
   "outputs": [
    {
     "name": "stdout",
     "output_type": "stream",
     "text": [
      "**** ****, email: jconnor@gmail.com\n"
     ]
    }
   ],
   "source": [
    "import re\n",
    "\n",
    "print(re.sub(r'[A-Z]\\w+', r'****', 'John Connor, email: jconnor@gmail.com'))"
   ]
  }
 ],
 "metadata": {
  "kernelspec": {
   "display_name": "Python 3 (ipykernel)",
   "language": "python",
   "name": "python3"
  },
  "language_info": {
   "codemirror_mode": {
    "name": "ipython",
    "version": 3
   },
   "file_extension": ".py",
   "mimetype": "text/x-python",
   "name": "python",
   "nbconvert_exporter": "python",
   "pygments_lexer": "ipython3",
   "version": "3.11.5"
  }
 },
 "nbformat": 4,
 "nbformat_minor": 4
}

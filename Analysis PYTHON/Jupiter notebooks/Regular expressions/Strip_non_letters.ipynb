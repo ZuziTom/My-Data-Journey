{
 "cells": [
  {
   "cell_type": "markdown",
   "metadata": {},
   "source": [
    "# Exercise 2\n",
    "\n",
    "Write a `strip_non_letters(text)` function, that takes a string as an argument and returns it leaving only upper and lowercase letters without accents and diacritics.\n"
   ]
  },
  {
   "cell_type": "code",
   "execution_count": 1,
   "metadata": {},
   "outputs": [
    {
     "data": {
      "text/plain": [
       "'JBIUjbyubkuhAsic'"
      ]
     },
     "execution_count": 1,
     "metadata": {},
     "output_type": "execute_result"
    }
   ],
   "source": [
    "# Write the \"strip_non_letters\" function here\n",
    "\n",
    "import re\n",
    "\n",
    "def strip_non_letters(text):\n",
    "    pattern = r'[^a-zA-Z]'\n",
    "    result = re.sub(pattern, \"\", text)\n",
    "    return result\n",
    "\n",
    "strip_non_letters('JBIU$624$jbyubkuh47Asic')"
   ]
  },
  {
   "cell_type": "code",
   "execution_count": 2,
   "metadata": {},
   "outputs": [
    {
     "name": "stdout",
     "output_type": "stream",
     "text": [
      "For the phrase \"Thę łązy dóg\" the expected result is \"Th zy dg\"\n",
      "but the function returned 'Thzydg'\n"
     ]
    }
   ],
   "source": [
    "if strip_non_letters('Thę łązy dóg') == 'Th zy dg':\n",
    "    print('The function removed non-standard characters correctly')\n",
    "else:\n",
    "    print('For the phrase \"Thę łązy dóg\" the expected result is \"Th zy dg\"')\n",
    "    print('but the function returned', repr(strip_non_letters('Th zy dg')))"
   ]
  }
 ],
 "metadata": {
  "kernelspec": {
   "display_name": "Python 3 (ipykernel)",
   "language": "python",
   "name": "python3"
  },
  "language_info": {
   "codemirror_mode": {
    "name": "ipython",
    "version": 3
   },
   "file_extension": ".py",
   "mimetype": "text/x-python",
   "name": "python",
   "nbconvert_exporter": "python",
   "pygments_lexer": "ipython3",
   "version": "3.11.5"
  }
 },
 "nbformat": 4,
 "nbformat_minor": 4
}

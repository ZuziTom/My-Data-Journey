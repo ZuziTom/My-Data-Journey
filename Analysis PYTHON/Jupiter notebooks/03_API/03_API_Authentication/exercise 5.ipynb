{
 "cells": [
  {
   "cell_type": "markdown",
   "metadata": {},
   "source": [
    "# Exercise 5\n",
    "\n",
    "In the`classicmodels` database there is a `customers` table containing the `creditLimit` (USD amount) column. Select 10 clients with the highest `creditLimit`; display their names and `creditLimit` in the following currencies: USD (straight from the database) as well as EUR, JPY and GBP. Round the amounts to two decimal places. Retrieve the current exchange rates from [https://exchangeratesapi.io/](https://exchangeratesapi.io/).\n",
    "\n",
    "Example:\n",
    "```\n",
    "Euro+ Shopping Channel: 227600.00 USD / 187183.93EUR / 24017262.40 JPY /160578.63 GBP\n",
    "...\n",
    "```\n"
   ]
  }
 ],
 "metadata": {
  "kernelspec": {
   "display_name": "Python 3",
   "language": "python",
   "name": "python3"
  },
  "language_info": {
   "codemirror_mode": {
    "name": "ipython",
    "version": 3
   },
   "file_extension": ".py",
   "mimetype": "text/x-python",
   "name": "python",
   "nbconvert_exporter": "python",
   "pygments_lexer": "ipython3",
   "version": "3.9.1"
  }
 },
 "nbformat": 4,
 "nbformat_minor": 4
}

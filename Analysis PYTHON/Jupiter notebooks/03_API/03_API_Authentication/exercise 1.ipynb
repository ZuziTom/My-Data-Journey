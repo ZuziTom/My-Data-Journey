{
 "cells": [
  {
   "cell_type": "markdown",
   "metadata": {},
   "source": [
    "# Exercise 1\n",
    "\n",
    "Get familiar with the [/weather endpoint documentation](https://openweathermap.org/current#name).\n",
    "\n",
    "Write a `get_weather` function that takes three arguments:\n",
    "- `city` - name of the city, **required**,\n",
    "- `state` - name of the state/province, optional,\n",
    "- `country` - name of the country, optional.\n",
    "\n",
    "In the function use the API [https://openweathermap.org](openweathermap.org) to check current weather. Use all available information (`city`, `state`, `country`) in the request in such a way that the function still works if only `city` or `city` and `country` is passed.\n",
    "\n",
    "The function should return a short name of the weather: `\"Clouds\"`, `\"Rain\"`, `\"Clear\"` - read it from the JSON returned by the server.\n",
    "\n",
    "Remember to pass `appid`.\n"
   ]
  },
  {
   "cell_type": "code",
   "execution_count": 1,
   "metadata": {},
   "outputs": [],
   "source": [
    "# Write the \"get_weather\" function here\n",
    "\n",
    "import requests\n",
    "\n",
    "APIKEY = 'cc723b44420c02e3bfe4e512c4cbc0bd'\n",
    "city = 'Warszawa'\n",
    "state = 'Mazowieckie'\n",
    "country = 'Polska'"
   ]
  },
  {
   "cell_type": "code",
   "execution_count": 2,
   "metadata": {},
   "outputs": [
    {
     "name": "stdout",
     "output_type": "stream",
     "text": [
      "Weather for Warsawa: Clouds\n"
     ]
    }
   ],
   "source": [
    "response = requests.get(f'http://api.openweathermap.org/data/2.5/weather?q={city},{state},{country}&appid={APIKEY}')\n",
    "get_weather = response.json()\n",
    "\n",
    "if response.status_code == 401:\n",
    "    print('Incorrect or inactive key: key activation takes between 10 minutes and 2 hours!')\n",
    "    \n",
    "elif response.status_code == 200:\n",
    "    print('Weather for Warsawa:', get_weather['weather'][0]['main'])\n",
    "    \n",
    "    if 'Warszawa' in get_weather:\n",
    "        print('Warsaw once again:', get_weather['Warszawa'])\n",
    "        \n",
    "else:\n",
    "    print('We are not ready to handle this response code!')"
   ]
  },
  {
   "cell_type": "code",
   "execution_count": 7,
   "metadata": {},
   "outputs": [
    {
     "name": "stdout",
     "output_type": "stream",
     "text": [
      "{'coord': {'lon': 21.0118, 'lat': 52.2298}, 'weather': [{'id': 800, 'main': 'Clear', 'description': 'clear sky', 'icon': '01n'}], 'base': 'stations', 'main': {'temp': 264.87, 'feels_like': 260.23, 'temp_min': 262.96, 'temp_max': 267.47, 'pressure': 1036, 'humidity': 74}, 'visibility': 9000, 'wind': {'speed': 2.57, 'deg': 260}, 'clouds': {'all': 2}, 'dt': 1704842800, 'sys': {'type': 2, 'id': 2035775, 'country': 'PL', 'sunrise': 1704868932, 'sunset': 1704897823}, 'timezone': 3600, 'id': 756135, 'name': 'Warsaw', 'cod': 200}\n"
     ]
    }
   ],
   "source": [
    "import requests\n",
    "location = 'Warszawa'\n",
    "APIKEY = 'cc723b44420c02e3bfe4e512c4cbc0bd'\n",
    "URL = f\"http://api.openweathermap.org/data/2.5/weather?q={location}&appid={APIKEY}\"\n",
    "\n",
    "\n",
    "response = requests.get(URL)\n",
    "data = response.json()\n",
    "data['weather'][0]['main']\n",
    "print(data)\n",
    "\n",
    "# Write the \"get_weather\" function here\n",
    "\n",
    "def get_weather(appid, url, city, state=None, country=None):\n",
    "    location = city\n",
    "    if state:\n",
    "        location += f\",{state}\"\n",
    "    if country:\n",
    "        location += f\",{country}\"\n",
    "\n",
    "    try:\n",
    "        response = requests.get(url)\n",
    "        if response.status_code == 200:\n",
    "            data = response.json()\n",
    "            weather = data['weather'][0]['main']\n",
    "            return weather\n",
    "        else:\n",
    "            return f\"Failed to retrieve data. Status code: {response.status_code}\"\n",
    "\n",
    "    except requests.RequestException as e:\n",
    "        return f\"An error occurred: {e}\"\n",
    "\n"
   ]
  },
  {
   "cell_type": "code",
   "execution_count": null,
   "metadata": {},
   "outputs": [],
   "source": [
    "print('Weather for Warsaw:', get_weather(APIKEY, URL, 'Warszawa', 'Mazowieckie', 'Polska'))\n",
    "print('Warsaw once again:', get_weather(APIKEY, URL, 'Warszawa'))"
   ]
  }
 ],
 "metadata": {
  "kernelspec": {
   "display_name": "Python 3",
   "language": "python",
   "name": "python3"
  },
  "language_info": {
   "codemirror_mode": {
    "name": "ipython",
    "version": 3
   },
   "file_extension": ".py",
   "mimetype": "text/x-python",
   "name": "python",
   "nbconvert_exporter": "python",
   "pygments_lexer": "ipython3",
   "version": "3.11.5"
  }
 },
 "nbformat": 4,
 "nbformat_minor": 4
}

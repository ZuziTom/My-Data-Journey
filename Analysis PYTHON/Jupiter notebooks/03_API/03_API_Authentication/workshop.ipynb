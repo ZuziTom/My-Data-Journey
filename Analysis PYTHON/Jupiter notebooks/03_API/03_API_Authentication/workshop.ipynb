{
 "cells": [
  {
   "attachments": {},
   "cell_type": "markdown",
   "metadata": {},
   "source": [
    "# Description\n",
    "The aim of the workshop is to consolidate information on what APIs are and how to work with them.\n",
    "\n",
    "We are going to retrieve the data about selected artist's albums and songs. Later, the data should be presented as a report.\n",
    "\n",
    "Using the `input` function we will ask the user about the name of their favorite band. Next, we will:\n",
    "1. retrieve the albums available for the given artist,\n",
    "1. for the albums, retrieve the list of available songs,\n",
    "1. retrieve the data for these songs,\n",
    "1. create a report with the collected information (detailed specification below).\n",
    "\n",
    "To do steps 1-3 we are going to use a dedicated API, created for this purpose, and documented [here](https://api-pad.coderslab.com/docs). The API is available at: https://api-pad.coderslab.com/api; to authenticate use the key: `Ft85HgGtY6Rt`.\n",
    "\n",
    "> It is possible to do this using a multiple-level nested loop but, to keep the code readable, we advise against it. For each of the points above try to create a dedicated function first, and then use them to generate the result in a clean and readable way.\n",
    "\n",
    "### Note\n",
    "\n",
    "> Some endpoints require a dictionary to be passed in the `body`; read this [thread](https://stackoverflow.com/questions/9733638/how-to-post-json-data-with-python-requests), to find out how to pass a dictionary to an endpoint.\n",
    "\n",
    "## API Documentation\n",
    "API documentation has been created with [swagger](https://swagger.io/), Before we start coding, together with the lecturer we're going to discuss its elements such as: endpoints, methods, authentication, etc.\n",
    "\n",
    "The documentation website also includes the key information on how to use it.\n",
    "\n",
    "## Report\n",
    "For the chosen artist we should get a report that displays information about their albums and songs in each of them. It should be structured as a directory. For example, if we search for `metallica` the report should look like:\n",
    "```\n",
    "Artist: metallica\n",
    "|___ Album: Master Of Puppets\n",
    "    |___ Tracklist:\n",
    "          1. battery (remastered): Playcount: 393621 | Listeners: 62346 | Duration: 0 | Topic: sadness\n",
    "          .... \n",
    "```\n",
    "A report like this one should be displayed at the end of the script execution.\n",
    "\n",
    "## Report in the `csv` file format (optional)\n",
    "Based on the retrieved data we also want to create and save a `csv` file with the following specification:\n",
    "- encoding `UTF-8`,\n",
    "- separator `|`,\n",
    "- output file name: `{artist}.csv`\n",
    "- file heading: `\"artist\", \"album\", \"track\", \"listeners\", \"likes\", \"duration\", \"topic\"`\n",
    "\n",
    "## Retrieving entire available database (optional)\n",
    "In the materials there is an `artists.csv` file, with the list of artists available in the API. Modify your script so that it reads the file and for every artist retrieves available data and creates a dedicated `csv` file.\n",
    "\n",
    "The solution should be based on the one you create when working with one artist.\n",
    "\n",
    "## Hint\n",
    "\n",
    "To generate a report displayed in the notebook you can use the following template for the song.\n",
    "```python\n",
    "msg_template = (\"{nb}. {track_name}: \" \n",
    "                \"Playcount: {playcount} | \"\n",
    "                \"Listeners: {listeners} | \"\n",
    "                \"Duration: {duration} | \"\n",
    "                \"Topic: {topic}\"\n",
    "                )\n",
    "```\n",
    "You can use the `msg_template.format(...)` to build the report.\n"
   ]
  },
  {
   "cell_type": "code",
   "execution_count": 1,
   "metadata": {},
   "outputs": [],
   "source": [
    "import requests\n",
    "from time import sleep"
   ]
  },
  {
   "cell_type": "code",
   "execution_count": 2,
   "metadata": {},
   "outputs": [],
   "source": [
    "API_KEY = \"Ft85HgGtY6Rt\"\n",
    "API_URL = \"https://api-pad.coderslab.com/api\"\n",
    "\n",
    "AUTH = {'authorization': API_KEY}\n",
    "\n",
    "SLEEP = 60/950  # time is seconds between consecutive requests\n",
    "\n",
    "\n"
   ]
  },
  {
   "cell_type": "code",
   "execution_count": 3,
   "metadata": {},
   "outputs": [],
   "source": [
    "artist = 'madonna'\n"
   ]
  },
  {
   "cell_type": "code",
   "execution_count": 4,
   "metadata": {},
   "outputs": [
    {
     "name": "stdout",
     "output_type": "stream",
     "text": [
      "Request status: 200\n",
      "response: {\"artist_id\":427}\n"
     ]
    }
   ],
   "source": [
    "r = requests.get(\n",
    "    f\"{API_URL}/artist/find/{artist}\", \n",
    "    params=AUTH,\n",
    ")\n",
    "\n",
    "print(f\"Request status: {r.status_code}\")\n",
    "print(f\"response: {r.text}\")"
   ]
  },
  {
   "cell_type": "code",
   "execution_count": 5,
   "metadata": {},
   "outputs": [],
   "source": [
    "artist_id = r.json()['artist_id']"
   ]
  },
  {
   "cell_type": "code",
   "execution_count": 6,
   "metadata": {},
   "outputs": [
    {
     "name": "stdout",
     "output_type": "stream",
     "text": [
      "Request status: 200\n",
      "response: [{\"artist_name\":\"madonna\",\"album_name\":\"Madonna\",\"album_id\":1476,\"artist_id\":427},{\"artist_name\":\"madonna\",\"album_name\":\"Like a Virgin\",\"album_id\":1830,\"artist_id\":427},{\"artist_name\":\"madonna\",\"album_name\":\"Frozen\",\"album_id\":1838,\"artist_id\":427},{\"artist_name\":\"madonna\",\"album_name\":\"True Blue\",\"album_id\":1913,\"artist_id\":427},{\"artist_name\":\"madonna\",\"album_name\":\"Like a Prayer\",\"album_id\":2138,\"artist_id\":427},{\"artist_name\":\"madonna\",\"album_name\":\"The Immaculate Collection\",\"album_id\":2209,\"artist_id\":427},{\"artist_name\":\"madonna\",\"album_name\":\"The Girlie Show: Live Down Under\",\"album_id\":2355,\"artist_id\":427},{\"artist_name\":\"madonna\",\"album_name\":\"Bedtime Stories\",\"album_id\":2532,\"artist_id\":427},{\"artist_name\":\"madonna\",\"album_name\":\"Ray of Light\",\"album_id\":2773,\"artist_id\":427},{\"artist_name\":\"madonna\",\"album_name\":\"The Confessions Tour\",\"album_id\":3287,\"artist_id\":427}]\n"
     ]
    }
   ],
   "source": [
    "r = requests.get(\n",
    "    f\"{API_URL}/artist/albums/{artist_id}\",\n",
    "    params=AUTH,\n",
    ")\n",
    "\n",
    "print(f\"Request status: {r.status_code}\")\n",
    "print(f\"response: {r.text}\")"
   ]
  },
  {
   "cell_type": "code",
   "execution_count": 7,
   "metadata": {},
   "outputs": [
    {
     "name": "stdout",
     "output_type": "stream",
     "text": [
      "{'artist_name': 'madonna', 'album_name': 'Madonna', 'album_id': 1476, 'artist_id': 427}\n",
      "{'artist_name': 'madonna', 'album_name': 'Like a Virgin', 'album_id': 1830, 'artist_id': 427}\n",
      "{'artist_name': 'madonna', 'album_name': 'Frozen', 'album_id': 1838, 'artist_id': 427}\n",
      "{'artist_name': 'madonna', 'album_name': 'True Blue', 'album_id': 1913, 'artist_id': 427}\n",
      "{'artist_name': 'madonna', 'album_name': 'Like a Prayer', 'album_id': 2138, 'artist_id': 427}\n",
      "{'artist_name': 'madonna', 'album_name': 'The Immaculate Collection', 'album_id': 2209, 'artist_id': 427}\n",
      "{'artist_name': 'madonna', 'album_name': 'The Girlie Show: Live Down Under', 'album_id': 2355, 'artist_id': 427}\n",
      "{'artist_name': 'madonna', 'album_name': 'Bedtime Stories', 'album_id': 2532, 'artist_id': 427}\n",
      "{'artist_name': 'madonna', 'album_name': 'Ray of Light', 'album_id': 2773, 'artist_id': 427}\n",
      "{'artist_name': 'madonna', 'album_name': 'The Confessions Tour', 'album_id': 3287, 'artist_id': 427}\n"
     ]
    }
   ],
   "source": [
    "albums = r.json()\n",
    "\n",
    "for album in albums:\n",
    "    print(album)"
   ]
  },
  {
   "cell_type": "code",
   "execution_count": 8,
   "metadata": {},
   "outputs": [
    {
     "name": "stdout",
     "output_type": "stream",
     "text": [
      "Album data: {'artist_name': 'madonna', 'album_name': 'Madonna', 'album_id': 1476, 'artist_id': 427}\n"
     ]
    }
   ],
   "source": [
    "album = albums[0] # isolate single case\n",
    "print(f\"Album data: {album}\")"
   ]
  },
  {
   "cell_type": "code",
   "execution_count": 9,
   "metadata": {},
   "outputs": [
    {
     "name": "stdout",
     "output_type": "stream",
     "text": [
      "Request status: 200\n",
      "Response: [7386,8689]\n"
     ]
    }
   ],
   "source": [
    "album_id = album['album_id']\n",
    "r = requests.post(\n",
    "    f\"{API_URL}/album/tracks\",\n",
    "    params=AUTH,\n",
    "    json={'album_id': album_id},\n",
    ")\n",
    "\n",
    "print(f\"Request status: {r.status_code}\")\n",
    "print(f\"Response: {r.text}\") # displays IDs of tracks in the album - in this case the list has one element"
   ]
  },
  {
   "cell_type": "code",
   "execution_count": 10,
   "metadata": {},
   "outputs": [
    {
     "name": "stdout",
     "output_type": "stream",
     "text": [
      "Track id: 7386\n"
     ]
    }
   ],
   "source": [
    "tracks = r.json()\n",
    "\n",
    "track_id = tracks[0]\n",
    "print(f\"Track id: {track_id}\")"
   ]
  },
  {
   "cell_type": "code",
   "execution_count": 11,
   "metadata": {},
   "outputs": [
    {
     "name": "stdout",
     "output_type": "stream",
     "text": [
      "Request status: 200\n",
      "Response: {\"id\":7386,\"artist_name\":\"madonna\",\"track_name\":\"holiday\",\"lyrics\":\"holiday celebrate holiday celebrate take holiday take time celebrate life nice everybody spread word gonna celebration world nation time good time forget time yeah come release pressure need holiday take holiday take time celebrate life nice turn world bring days trouble time celebrate shine come things better need holiday take holiday take time celebrate life nice holiday celebrate holiday celebrate take holiday take time celebrate life nice holiday celebrate holiday celebrate come nation\",\"release_date\":\"1979\",\"len\":73,\"age\":0.5857142857142851,\"topic\":\"world/life\",\"album_name\":\"Madonna\",\"playcount\":2310260,\"listeners\":444332,\"duration\":241000,\"album_id\":1476,\"artist_id\":427}\n"
     ]
    }
   ],
   "source": [
    "r = requests.post(\n",
    "    f\"{API_URL}/track/get\",\n",
    "    params=AUTH,\n",
    "    json={'track_id': track_id}\n",
    ")\n",
    "print(f\"Request status: {r.status_code}\")\n",
    "print(f\"Response: {r.text}\")"
   ]
  },
  {
   "cell_type": "markdown",
   "metadata": {},
   "source": [
    "Zovšeobecnenie makety\n",
    "\n",
    "V tejto časti budeme definovať metódy opísané vyššie. Budeme ich implementovať počnúc nízkoúrovňovými : na základe prepojenia s API, takže použijeme kód, ktorý bol vytvorený vo fáze mockupu. Keď to urobíme, prejdeme na metódy vyššej úrovne."
   ]
  },
  {
   "cell_type": "code",
   "execution_count": 24,
   "metadata": {},
   "outputs": [],
   "source": [
    "import requests\n",
    "from time import sleep\n",
    "\n",
    "API_KEY = \"Ft85HgGtY6Rt\"\n",
    "API_URL = \"https://api-pad.coderslab.com/api\"\n",
    "AUTH = {'authorization': API_KEY}\n",
    "SLEEP = 60/950  # time is seconds between consecutive requests"
   ]
  },
  {
   "cell_type": "code",
   "execution_count": 25,
   "metadata": {},
   "outputs": [
    {
     "name": "stdout",
     "output_type": "stream",
     "text": [
      "Entered band: madonna\n"
     ]
    }
   ],
   "source": [
    "artist = input('Enter band name')\n",
    "print(f\"Entered band: {artist}\")"
   ]
  },
  {
   "cell_type": "code",
   "execution_count": 33,
   "metadata": {},
   "outputs": [
    {
     "name": "stdout",
     "output_type": "stream",
     "text": [
      "Downloading 1 of 10\n",
      "Downloading 2 of 10\n",
      "Downloading 3 of 10\n",
      "Downloading 4 of 10\n",
      "Downloading 5 of 10\n",
      "Downloading 6 of 10\n",
      "Downloading 7 of 10\n",
      "Downloading 8 of 10\n",
      "Downloading 9 of 10\n",
      "Downloading 10 of 10\n"
     ]
    }
   ],
   "source": [
    "artist_id = get_artist_id(artist)\n",
    "albums, tracks = download_artist_albums(artist_id)\n"
   ]
  },
  {
   "cell_type": "code",
   "execution_count": 32,
   "metadata": {},
   "outputs": [],
   "source": [
    "def get_artist_id(artist):\n",
    "    r = requests.get(\n",
    "        f\"{API_URL}/artist/find/{artist}\", \n",
    "        params=AUTH,\n",
    "    )\n",
    "    sleep(SLEEP) # waiting pre-set time after executing the request\n",
    "\n",
    "    if r.status_code in (200, 204):\n",
    "        result = r.json()['artist_id']\n",
    "        return result\n",
    "    \n",
    "    print(f\"Unhandled status code: {r.status_code}\")\n"
   ]
  },
  {
   "cell_type": "code",
   "execution_count": 15,
   "metadata": {},
   "outputs": [],
   "source": [
    "def get_artist_albums(artist_id):\n",
    "    r = requests.get(\n",
    "        f\"{API_URL}/artist/albums/{artist_id}\",\n",
    "        params=AUTH,\n",
    "    )\n",
    "    sleep(SLEEP) # waiting pre-set time after executing the request\n",
    "\n",
    "    if r.status_code not in (200, 204):\n",
    "        print(f\"Unhandled status code: {r.status_code}\")\n",
    "        return []\n",
    "\n",
    "    records = r.json()\n",
    "\n",
    "    albums = {}  # define an empty array as a container for resulting data\n",
    "    for record in records:  # iterate all available albums\n",
    "        album_id = record['album_id']\n",
    "        album_name = record['album_name']\n",
    "        albums[album_id] = album_name  # adding new album to the collection\n",
    "    return albums"
   ]
  },
  {
   "cell_type": "code",
   "execution_count": 16,
   "metadata": {},
   "outputs": [],
   "source": [
    "def get_album_tracks(album_id):\n",
    "    r = requests.post(\n",
    "        f\"{API_URL}/album/tracks\",\n",
    "        params=AUTH,\n",
    "        json={'album_id': album_id},\n",
    "    )\n",
    "    sleep(SLEEP)\n",
    "\n",
    "    if r.status_code not in (200, 204):\n",
    "        print(f\"Unhandled status code: {r.status_code}\")\n",
    "        return []\n",
    "\n",
    "    tracks_id = r.json()\n",
    "    return tracks_id"
   ]
  },
  {
   "cell_type": "code",
   "execution_count": 17,
   "metadata": {},
   "outputs": [],
   "source": [
    "def get_track_data(track_id):\n",
    "    r = requests.post(\n",
    "        f\"{API_URL}/track/get\",\n",
    "        params=AUTH,\n",
    "        json={'track_id': track_id}\n",
    "    )\n",
    "    sleep(SLEEP)\n",
    "\n",
    "    if r.status_code not in (200, 204):\n",
    "        print(f\"Unhandled status code: {r.status_code}\")\n",
    "        return []\n",
    "        \n",
    "    result = r.json()\n",
    "    return result    "
   ]
  },
  {
   "cell_type": "code",
   "execution_count": 18,
   "metadata": {},
   "outputs": [],
   "source": [
    "def download_album_tracks(album_id):\n",
    "    tracks_id = get_album_tracks(album_id)\n",
    "    tracks = []\n",
    "\n",
    "    for track_id in tracks_id:\n",
    "        data = get_track_data(track_id)\n",
    "        tracks.append(data)\n",
    "    return tracks"
   ]
  },
  {
   "cell_type": "code",
   "execution_count": 19,
   "metadata": {},
   "outputs": [],
   "source": [
    "def download_artist_albums(artist_id):\n",
    "    albums = get_artist_albums(artist_id)\n",
    "\n",
    "    albums_tracks = {}\n",
    "    for id, album in enumerate(albums, 1):\n",
    "        print(f\"Downloading {id} of {len(albums)}\")\n",
    "        tracks = download_album_tracks(album)\n",
    "        albums_tracks[album] = tracks\n",
    "    return albums, albums_tracks"
   ]
  }
 ],
 "metadata": {
  "kernelspec": {
   "display_name": "venv",
   "language": "python",
   "name": "python3"
  },
  "language_info": {
   "codemirror_mode": {
    "name": "ipython",
    "version": 3
   },
   "file_extension": ".py",
   "mimetype": "text/x-python",
   "name": "python",
   "nbconvert_exporter": "python",
   "pygments_lexer": "ipython3",
   "version": "3.11.5"
  },
  "orig_nbformat": 4
 },
 "nbformat": 4,
 "nbformat_minor": 2
}

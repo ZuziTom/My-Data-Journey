{
 "cells": [
  {
   "cell_type": "code",
   "execution_count": 3,
   "metadata": {},
   "outputs": [
    {
     "name": "stdout",
     "output_type": "stream",
     "text": [
      "At the beginning of January 2013 the price of gold was 165.83PLN/g\n",
      "and at the end of January 2013 it was 166.85PLN/g\n"
     ]
    },
    {
     "data": {
      "text/plain": [
       "[{'data': '2013-01-02', 'cena': 165.83},\n",
       " {'data': '2013-01-03', 'cena': 166.97},\n",
       " {'data': '2013-01-04', 'cena': 167.43},\n",
       " {'data': '2013-01-07', 'cena': 167.98},\n",
       " {'data': '2013-01-08', 'cena': 167.26},\n",
       " {'data': '2013-01-09', 'cena': 167.48},\n",
       " {'data': '2013-01-10', 'cena': 167.98},\n",
       " {'data': '2013-01-11', 'cena': 167.59},\n",
       " {'data': '2013-01-14', 'cena': 164.61},\n",
       " {'data': '2013-01-15', 'cena': 165.18},\n",
       " {'data': '2013-01-16', 'cena': 166.14},\n",
       " {'data': '2013-01-17', 'cena': 167.58},\n",
       " {'data': '2013-01-18', 'cena': 166.14},\n",
       " {'data': '2013-01-21', 'cena': 167.89},\n",
       " {'data': '2013-01-22', 'cena': 170.11},\n",
       " {'data': '2013-01-23', 'cena': 170.34},\n",
       " {'data': '2013-01-24', 'cena': 169.51},\n",
       " {'data': '2013-01-25', 'cena': 169.23},\n",
       " {'data': '2013-01-28', 'cena': 166.44},\n",
       " {'data': '2013-01-29', 'cena': 165.5},\n",
       " {'data': '2013-01-30', 'cena': 167.01},\n",
       " {'data': '2013-01-31', 'cena': 166.85}]"
      ]
     },
     "execution_count": 3,
     "metadata": {},
     "output_type": "execute_result"
    }
   ],
   "source": [
    "import requests\n",
    "\n",
    "response = requests.get('http://api.nbp.pl/api/cenyzlota/2013-01-01/2013-01-31/')\n",
    "currency_data = response.json()\n",
    "\n",
    "print(f\"At the beginning of January 2013 the price of gold was {currency_data[0]['cena']} PLN/g\")\n",
    "print(f\"and at the end of January 2013 it was {currency_data[-1]['cena']}PLN/g\")\n",
    "\n",
    "currency_data"
   ]
  },
  {
   "cell_type": "code",
   "execution_count": 3,
   "metadata": {},
   "outputs": [
    {
     "data": {
      "text/plain": [
       "[{'data': '2013-01-02', 'cena': 165.83},\n",
       " {'data': '2013-01-03', 'cena': 166.97},\n",
       " {'data': '2013-01-04', 'cena': 167.43},\n",
       " {'data': '2013-01-07', 'cena': 167.98},\n",
       " {'data': '2013-01-08', 'cena': 167.26},\n",
       " {'data': '2013-01-09', 'cena': 167.48},\n",
       " {'data': '2013-01-10', 'cena': 167.98},\n",
       " {'data': '2013-01-11', 'cena': 167.59},\n",
       " {'data': '2013-01-14', 'cena': 164.61},\n",
       " {'data': '2013-01-15', 'cena': 165.18},\n",
       " {'data': '2013-01-16', 'cena': 166.14},\n",
       " {'data': '2013-01-17', 'cena': 167.58},\n",
       " {'data': '2013-01-18', 'cena': 166.14},\n",
       " {'data': '2013-01-21', 'cena': 167.89},\n",
       " {'data': '2013-01-22', 'cena': 170.11},\n",
       " {'data': '2013-01-23', 'cena': 170.34},\n",
       " {'data': '2013-01-24', 'cena': 169.51},\n",
       " {'data': '2013-01-25', 'cena': 169.23},\n",
       " {'data': '2013-01-28', 'cena': 166.44},\n",
       " {'data': '2013-01-29', 'cena': 165.5},\n",
       " {'data': '2013-01-30', 'cena': 167.01},\n",
       " {'data': '2013-01-31', 'cena': 166.85}]"
      ]
     },
     "execution_count": 3,
     "metadata": {},
     "output_type": "execute_result"
    }
   ],
   "source": [
    "import requests\n",
    "\n",
    "response = requests.get('http://api.nbp.pl/api/cenyzlota/2013-01-01/2013-01-31/').json()\n",
    "\n",
    "response"
   ]
  }
 ],
 "metadata": {
  "kernelspec": {
   "display_name": "base",
   "language": "python",
   "name": "python3"
  },
  "language_info": {
   "codemirror_mode": {
    "name": "ipython",
    "version": 3
   },
   "file_extension": ".py",
   "mimetype": "text/x-python",
   "name": "python",
   "nbconvert_exporter": "python",
   "pygments_lexer": "ipython3",
   "version": "3.11.5"
  }
 },
 "nbformat": 4,
 "nbformat_minor": 2
}

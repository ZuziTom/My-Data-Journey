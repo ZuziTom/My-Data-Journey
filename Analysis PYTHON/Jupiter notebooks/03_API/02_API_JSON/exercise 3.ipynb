{
 "cells": [
  {
   "cell_type": "markdown",
   "metadata": {},
   "source": [
    "# Exercise 3\n",
    "\n",
    "Get familiar with the API documentation [boredapi.com](https://www.boredapi.com/documentation). This is an API that suggests a random activity you can engage in to kill boredom. Find in it how to filter the returned activities based on the number of participants.\n",
    "\n",
    "Using the `input(...)` function, ask the user how many friends they want to meet.\n",
    "\n",
    "With the `requests` library query the API (remember about the `participants` filter), and display the suggested activity.\n",
    "\n",
    "Remember that when giving the number of people in the query, in addition to the number of friends, you need to also include the user of the script! "
   ]
  },
  {
   "cell_type": "code",
   "execution_count": null,
   "metadata": {},
   "outputs": [],
   "source": []
  }
 ],
 "metadata": {
  "kernelspec": {
   "display_name": "Python 3",
   "language": "python",
   "name": "python3"
  },
  "language_info": {
   "codemirror_mode": {
    "name": "ipython",
    "version": 3
   },
   "file_extension": ".py",
   "mimetype": "text/x-python",
   "name": "python",
   "nbconvert_exporter": "python",
   "pygments_lexer": "ipython3",
   "version": "3.8.10"
  }
 },
 "nbformat": 4,
 "nbformat_minor": 4
}

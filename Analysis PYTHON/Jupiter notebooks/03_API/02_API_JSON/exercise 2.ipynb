{
 "cells": [
  {
   "cell_type": "markdown",
   "metadata": {},
   "source": [
    "# Exercise 2\n",
    "\n",
    "With the `input(...)` function ask the user what currency exchange rate they are interested in.\n",
    "\n",
    "Using the `requests` library retrieve the exchange rate served by the API at [http://api.nbp.pl/api/exchangerates/rates/a/chf/](http://api.nbp.pl/api/exchangerates/rates/a/INPUT_CURRENCY/), and display it as:\n",
    "\n",
    "```\n",
    "SYMBOL (full name): ??? PLN\n",
    "```"
   ]
  },
  {
   "cell_type": "code",
   "execution_count": 1,
   "metadata": {},
   "outputs": [
    {
     "name": "stdout",
     "output_type": "stream",
     "text": [
      "<Response [200]>\n",
      "Entered currency symbol: USD\n",
      "USD (dolar amerykański): 3.9269 PLN\n"
     ]
    }
   ],
   "source": [
    "import requests\n",
    "\n",
    "# Ask the user for the currency symbol\n",
    "currency_symbol = input(\"Enter the currency symbol you are interested in (e.g., CHF, USD, EUR): \")\n",
    "\n",
    "# Retrieve the exchange rate for the given currency from the API\n",
    "r = requests.get(f'http://api.nbp.pl/api/exchangerates/rates/a/{currency_symbol.lower()}/')\n",
    "data = r.json()\n",
    "\n",
    "# Extract the currency full name and exchange rate\n",
    "currency_full_name = data['currency']\n",
    "exchange_rate = data['rates'][0]['mid']\n",
    "\n",
    "# Display the exchange \n",
    "print(r)\n",
    "print(f'Entered currency symbol: {currency_symbol.upper()}')\n",
    "print(f\"{currency_symbol.upper()} ({currency_full_name}): {exchange_rate} PLN\")\n"
   ]
  },
  {
   "cell_type": "code",
   "execution_count": 2,
   "metadata": {},
   "outputs": [
    {
     "name": "stdout",
     "output_type": "stream",
     "text": [
      "Supported Currency Codes:\n",
      "THB\n",
      "USD\n",
      "AUD\n",
      "HKD\n",
      "CAD\n",
      "NZD\n",
      "SGD\n",
      "EUR\n",
      "HUF\n",
      "CHF\n",
      "GBP\n",
      "UAH\n",
      "JPY\n",
      "CZK\n",
      "DKK\n",
      "ISK\n",
      "NOK\n",
      "SEK\n",
      "RON\n",
      "BGN\n",
      "TRY\n",
      "ILS\n",
      "CLP\n",
      "PHP\n",
      "MXN\n",
      "ZAR\n",
      "BRL\n",
      "MYR\n",
      "IDR\n",
      "INR\n",
      "KRW\n",
      "CNY\n",
      "XDR\n"
     ]
    }
   ],
   "source": [
    "try:\n",
    "    # Retrieve the full table of exchange rates\n",
    "    response = requests.get('http://api.nbp.pl/api/exchangerates/tables/a/')\n",
    "    \n",
    "    # Check if the response status is successful\n",
    "    if response.status_code == 200:\n",
    "        data = response.json()\n",
    "        currencies = data[0]['rates']\n",
    "\n",
    "        # Extract and print all currency codes\n",
    "        currency_codes = [currency['code'] for currency in currencies]\n",
    "        print(\"Supported Currency Codes:\")\n",
    "        print(\"\\n\".join(currency_codes))\n",
    "    else:\n",
    "        print(f\"Failed to retrieve data. Status code: {response.status_code}\")\n",
    "\n",
    "except requests.RequestException as e:\n",
    "    print(f\"An error occurred: {e}\")"
   ]
  },
  {
   "cell_type": "code",
   "execution_count": 3,
   "metadata": {},
   "outputs": [
    {
     "name": "stdout",
     "output_type": "stream",
     "text": [
      "<Response [200]> \n",
      "\n",
      "200 \n",
      "\n",
      "<urllib3.response.HTTPResponse object at 0x0000023FC750EE60> \n",
      "\n",
      "[{\"table\":\"A\",\"no\":\"006/A/NBP/2024\",\"effectiveDate\":\"2024-01-09\",\"rates\":[{\"currency\":\"bat (Tajlandia)\",\"code\":\"THB\",\"mid\":0.1133},{\"currency\":\"dolar amerykański\",\"code\":\"USD\",\"mid\":3.9612},{\"currency\":\"dolar australijski\",\"code\":\"AUD\",\"mid\":2.6556},{\"currency\":\"dolar Hongkongu\",\"code\":\"HKD\",\"mid\":0.5069},{\"currency\":\"dolar kanadyjski\",\"code\":\"CAD\",\"mid\":2.9665},{\"currency\":\"dolar nowozelandzki\",\"code\":\"NZD\",\"mid\":2.4751},{\"currency\":\"dolar singapurski\",\"code\":\"SGD\",\"mid\":2.9803},{\"currency\":\"euro\",\"code\":\"EUR\",\"mid\":4.3351},{\"currency\":\"forint (Węgry)\",\"code\":\"HUF\",\"mid\":0.011452},{\"currency\":\"frank szwajcarski\",\"code\":\"CHF\",\"mid\":4.6616},{\"currency\":\"funt szterling\",\"code\":\"GBP\",\"mid\":5.0446},{\"currency\":\"hrywna (Ukraina)\",\"code\":\"UAH\",\"mid\":0.1034},{\"currency\":\"jen (Japonia)\",\"code\":\"JPY\",\"mid\":0.027517},{\"currency\":\"korona czeska\",\"code\":\"CZK\",\"mid\":0.1763},{\"currency\":\"korona duńska\",\"code\":\"DKK\",\"mid\":0.5813},{\"currency\":\"korona islandzka\",\"code\":\"ISK\",\"mid\":0.028766},{\"currency\":\"korona norweska\",\"code\":\"NOK\",\"mid\":0.3821},{\"currency\":\"korona szwedzka\",\"code\":\"SEK\",\"mid\":0.3869},{\"currency\":\"lej rumuński\",\"code\":\"RON\",\"mid\":0.8720},{\"currency\":\"lew (Bułgaria)\",\"code\":\"BGN\",\"mid\":2.2165},{\"currency\":\"lira turecka\",\"code\":\"TRY\",\"mid\":0.1325},{\"currency\":\"nowy izraelski szekel\",\"code\":\"ILS\",\"mid\":1.0694},{\"currency\":\"peso chilijskie\",\"code\":\"CLP\",\"mid\":0.004388},{\"currency\":\"peso filipińskie\",\"code\":\"PHP\",\"mid\":0.0707},{\"currency\":\"peso meksykańskie\",\"code\":\"MXN\",\"mid\":0.2354},{\"currency\":\"rand (Republika Południowej Afryki)\",\"code\":\"ZAR\",\"mid\":0.2124},{\"currency\":\"real (Brazylia)\",\"code\":\"BRL\",\"mid\":0.8133},{\"currency\":\"ringgit (Malezja)\",\"code\":\"MYR\",\"mid\":0.8531},{\"currency\":\"rupia indonezyjska\",\"code\":\"IDR\",\"mid\":0.00025523},{\"currency\":\"rupia indyjska\",\"code\":\"INR\",\"mid\":0.047662},{\"currency\":\"won południowokoreański\",\"code\":\"KRW\",\"mid\":0.003004},{\"currency\":\"yuan renminbi (Chiny)\",\"code\":\"CNY\",\"mid\":0.5533},{\"currency\":\"SDR (MFW)\",\"code\":\"XDR\",\"mid\":5.2914}]}] \n",
      "\n",
      "b'[{\"table\":\"A\",\"no\":\"006/A/NBP/2024\",\"effectiveDate\":\"2024-01-09\",\"rates\":[{\"currency\":\"bat (Tajlandia)\",\"code\":\"THB\",\"mid\":0.1133},{\"currency\":\"dolar ameryka\\xc5\\x84ski\",\"code\":\"USD\",\"mid\":3.9612},{\"currency\":\"dolar australijski\",\"code\":\"AUD\",\"mid\":2.6556},{\"currency\":\"dolar Hongkongu\",\"code\":\"HKD\",\"mid\":0.5069},{\"currency\":\"dolar kanadyjski\",\"code\":\"CAD\",\"mid\":2.9665},{\"currency\":\"dolar nowozelandzki\",\"code\":\"NZD\",\"mid\":2.4751},{\"currency\":\"dolar singapurski\",\"code\":\"SGD\",\"mid\":2.9803},{\"currency\":\"euro\",\"code\":\"EUR\",\"mid\":4.3351},{\"currency\":\"forint (W\\xc4\\x99gry)\",\"code\":\"HUF\",\"mid\":0.011452},{\"currency\":\"frank szwajcarski\",\"code\":\"CHF\",\"mid\":4.6616},{\"currency\":\"funt szterling\",\"code\":\"GBP\",\"mid\":5.0446},{\"currency\":\"hrywna (Ukraina)\",\"code\":\"UAH\",\"mid\":0.1034},{\"currency\":\"jen (Japonia)\",\"code\":\"JPY\",\"mid\":0.027517},{\"currency\":\"korona czeska\",\"code\":\"CZK\",\"mid\":0.1763},{\"currency\":\"korona du\\xc5\\x84ska\",\"code\":\"DKK\",\"mid\":0.5813},{\"currency\":\"korona islandzka\",\"code\":\"ISK\",\"mid\":0.028766},{\"currency\":\"korona norweska\",\"code\":\"NOK\",\"mid\":0.3821},{\"currency\":\"korona szwedzka\",\"code\":\"SEK\",\"mid\":0.3869},{\"currency\":\"lej rumu\\xc5\\x84ski\",\"code\":\"RON\",\"mid\":0.8720},{\"currency\":\"lew (Bu\\xc5\\x82garia)\",\"code\":\"BGN\",\"mid\":2.2165},{\"currency\":\"lira turecka\",\"code\":\"TRY\",\"mid\":0.1325},{\"currency\":\"nowy izraelski szekel\",\"code\":\"ILS\",\"mid\":1.0694},{\"currency\":\"peso chilijskie\",\"code\":\"CLP\",\"mid\":0.004388},{\"currency\":\"peso filipi\\xc5\\x84skie\",\"code\":\"PHP\",\"mid\":0.0707},{\"currency\":\"peso meksyka\\xc5\\x84skie\",\"code\":\"MXN\",\"mid\":0.2354},{\"currency\":\"rand (Republika Po\\xc5\\x82udniowej Afryki)\",\"code\":\"ZAR\",\"mid\":0.2124},{\"currency\":\"real (Brazylia)\",\"code\":\"BRL\",\"mid\":0.8133},{\"currency\":\"ringgit (Malezja)\",\"code\":\"MYR\",\"mid\":0.8531},{\"currency\":\"rupia indonezyjska\",\"code\":\"IDR\",\"mid\":0.00025523},{\"currency\":\"rupia indyjska\",\"code\":\"INR\",\"mid\":0.047662},{\"currency\":\"won po\\xc5\\x82udniowokorea\\xc5\\x84ski\",\"code\":\"KRW\",\"mid\":0.003004},{\"currency\":\"yuan renminbi (Chiny)\",\"code\":\"CNY\",\"mid\":0.5533},{\"currency\":\"SDR (MFW)\",\"code\":\"XDR\",\"mid\":5.2914}]}]' \n",
      "\n",
      "[{'table': 'A', 'no': '006/A/NBP/2024', 'effectiveDate': '2024-01-09', 'rates': [{'currency': 'bat (Tajlandia)', 'code': 'THB', 'mid': 0.1133}, {'currency': 'dolar amerykański', 'code': 'USD', 'mid': 3.9612}, {'currency': 'dolar australijski', 'code': 'AUD', 'mid': 2.6556}, {'currency': 'dolar Hongkongu', 'code': 'HKD', 'mid': 0.5069}, {'currency': 'dolar kanadyjski', 'code': 'CAD', 'mid': 2.9665}, {'currency': 'dolar nowozelandzki', 'code': 'NZD', 'mid': 2.4751}, {'currency': 'dolar singapurski', 'code': 'SGD', 'mid': 2.9803}, {'currency': 'euro', 'code': 'EUR', 'mid': 4.3351}, {'currency': 'forint (Węgry)', 'code': 'HUF', 'mid': 0.011452}, {'currency': 'frank szwajcarski', 'code': 'CHF', 'mid': 4.6616}, {'currency': 'funt szterling', 'code': 'GBP', 'mid': 5.0446}, {'currency': 'hrywna (Ukraina)', 'code': 'UAH', 'mid': 0.1034}, {'currency': 'jen (Japonia)', 'code': 'JPY', 'mid': 0.027517}, {'currency': 'korona czeska', 'code': 'CZK', 'mid': 0.1763}, {'currency': 'korona duńska', 'code': 'DKK', 'mid': 0.5813}, {'currency': 'korona islandzka', 'code': 'ISK', 'mid': 0.028766}, {'currency': 'korona norweska', 'code': 'NOK', 'mid': 0.3821}, {'currency': 'korona szwedzka', 'code': 'SEK', 'mid': 0.3869}, {'currency': 'lej rumuński', 'code': 'RON', 'mid': 0.872}, {'currency': 'lew (Bułgaria)', 'code': 'BGN', 'mid': 2.2165}, {'currency': 'lira turecka', 'code': 'TRY', 'mid': 0.1325}, {'currency': 'nowy izraelski szekel', 'code': 'ILS', 'mid': 1.0694}, {'currency': 'peso chilijskie', 'code': 'CLP', 'mid': 0.004388}, {'currency': 'peso filipińskie', 'code': 'PHP', 'mid': 0.0707}, {'currency': 'peso meksykańskie', 'code': 'MXN', 'mid': 0.2354}, {'currency': 'rand (Republika Południowej Afryki)', 'code': 'ZAR', 'mid': 0.2124}, {'currency': 'real (Brazylia)', 'code': 'BRL', 'mid': 0.8133}, {'currency': 'ringgit (Malezja)', 'code': 'MYR', 'mid': 0.8531}, {'currency': 'rupia indonezyjska', 'code': 'IDR', 'mid': 0.00025523}, {'currency': 'rupia indyjska', 'code': 'INR', 'mid': 0.047662}, {'currency': 'won południowokoreański', 'code': 'KRW', 'mid': 0.003004}, {'currency': 'yuan renminbi (Chiny)', 'code': 'CNY', 'mid': 0.5533}, {'currency': 'SDR (MFW)', 'code': 'XDR', 'mid': 5.2914}]}] \n",
      "\n",
      "{'Date': 'Tue, 09 Jan 2024 22:49:32 GMT', 'Cache-Control': 'no-cache', 'Pragma': 'no-cache', 'Content-Length': '806', 'Content-Type': 'application/json; charset=utf-8', 'Content-Encoding': 'gzip', 'Expires': '-1', 'ETag': '\"uXlX7T7OKmvRUzJL4WrcXhAzhb8MZNsHC4qQHn0rfl0=\"', 'Set-Cookie': 'ee3la5eizeiY4Eix=Naew5Ohp; path=/'} \n",
      "\n",
      "application/json; charset=utf-8 \n",
      "\n",
      "Tue, 09 Jan 2024 22:49:32 GMT \n",
      "\n",
      "utf-8 \n",
      "\n"
     ]
    }
   ],
   "source": [
    "print(response, \"\\n\")\n",
    "print(response.status_code, \"\\n\")\n",
    "print(response.raw, \"\\n\")\n",
    "\n",
    "print(response.text, \"\\n\")\n",
    "print(response.content, \"\\n\")\n",
    "print(response.json(), \"\\n\")\n",
    "\n",
    "print(response.headers, \"\\n\")\n",
    "print(response.headers['content-type'], \"\\n\")\n",
    "print(response.headers['Date'], \"\\n\")\n",
    "\n",
    "print(response.encoding, \"\\n\")"
   ]
  }
 ],
 "metadata": {
  "kernelspec": {
   "display_name": "Python 3",
   "language": "python",
   "name": "python3"
  },
  "language_info": {
   "codemirror_mode": {
    "name": "ipython",
    "version": 3
   },
   "file_extension": ".py",
   "mimetype": "text/x-python",
   "name": "python",
   "nbconvert_exporter": "python",
   "pygments_lexer": "ipython3",
   "version": "3.11.5"
  }
 },
 "nbformat": 4,
 "nbformat_minor": 4
}

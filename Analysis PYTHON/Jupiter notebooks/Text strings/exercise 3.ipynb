{
 "cells": [
  {
   "cell_type": "markdown",
   "metadata": {},
   "source": [
    "# Exercise 3\n",
    "\n",
    "Write a function `anonymize(email)`, that takes an email address as an argument, and returns a text consisting of:\n",
    "- the first three characters in an email address\n",
    "- three asterisks: `'***'`\n",
    "- the last five characters in an email address\n",
    "\n",
    "If the address is less than 10 characters long, the function should return a text consisting of:\n",
    "- three asterisks: `'***'`\n",
    "- the last five characters in an email address\n",
    "\n",
    "Example:\n",
    "```python\n",
    "anonymize('j.connor@gmail.com')\n",
    "```\n",
    "\n",
    "```\n",
    "j.c***l.com\n",
    "```\n",
    "\n",
    "```python\n",
    "anonymize('jco@o2.pl')\n",
    "```\n",
    "\n",
    "```\n",
    "***o2.pl\n",
    "```"
   ]
  },
  {
   "cell_type": "code",
   "execution_count": 14,
   "metadata": {},
   "outputs": [
    {
     "name": "stdout",
     "output_type": "stream",
     "text": [
      "j.c***l.com\n",
      "***o2.pl\n"
     ]
    }
   ],
   "source": [
    "# Write the \"anonymize\" function here\n",
    "\n",
    "def anonymize(email):\n",
    "    if len(email) >= 10:\n",
    "        return f\"{email[:3]}***{email[-5:]}\"\n",
    "    else:\n",
    "        return f\"***{email[-5:]}\"\n",
    "        \n",
    "email1 = anonymize('j.connor@gmail.com')\n",
    "email2 = anonymize('jco@o2.pl')\n",
    "\n",
    "print(email1)\n",
    "print(email2)"
   ]
  },
  {
   "cell_type": "code",
   "execution_count": 13,
   "metadata": {},
   "outputs": [
    {
     "name": "stdout",
     "output_type": "stream",
     "text": [
      "Passed!\n",
      "Passed!\n",
      "Passed!\n",
      "Passed!\n"
     ]
    }
   ],
   "source": [
    "if anonymize('john.connor@microsoft.com') == 'joh***t.com':\n",
    "    print('Passed!')\n",
    "else:\n",
    "    print('For argument \"john.connor@microsoft.com\" expected the function to return joh***t.com')\n",
    "    print('Your function returned:', anonymize('john.connor@microsoft.com'))\n",
    "\n",
    "if anonymize('jc@xd.eu') == '***xd.eu':\n",
    "    print('Passed!')\n",
    "else:\n",
    "    print('For argument \"jc@xd.eu\" expected the function to return ***xd.eu')\n",
    "    print('Your function returned:', anonymize('jc@xd.eu'))\n",
    "\n",
    "if anonymize('abcd@xd.eu') == 'abc***xd.eu':\n",
    "    print('Passed!')\n",
    "else:\n",
    "    print('For argument \"abcd@xd.eu\" expected the function to return abc***xd.eu')\n",
    "    print('Your function returned:', anonymize('abcd@xd.eu'))\n",
    "\n",
    "if anonymize('abc@xd.eu') == '***xd.eu':\n",
    "    print('Passed!')\n",
    "else:\n",
    "    print('For argument \"abc@xd.eu\" expected the function to return ***xd.eu')\n",
    "    print('Your function returned:', anonymize('abc@xd.eu'))"
   ]
  }
 ],
 "metadata": {
  "kernelspec": {
   "display_name": "Python 3 (ipykernel)",
   "language": "python",
   "name": "python3"
  },
  "language_info": {
   "codemirror_mode": {
    "name": "ipython",
    "version": 3
   },
   "file_extension": ".py",
   "mimetype": "text/x-python",
   "name": "python",
   "nbconvert_exporter": "python",
   "pygments_lexer": "ipython3",
   "version": "3.11.5"
  }
 },
 "nbformat": 4,
 "nbformat_minor": 4
}

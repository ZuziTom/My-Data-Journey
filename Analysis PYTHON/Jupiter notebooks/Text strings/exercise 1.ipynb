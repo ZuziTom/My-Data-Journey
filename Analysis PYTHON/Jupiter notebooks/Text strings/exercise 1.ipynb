{
 "cells": [
  {
   "cell_type": "markdown",
   "metadata": {},
   "source": [
    "# Exercise 1\n",
    "\n",
    "Write a `create_email(first_name, last_name)` function that generates an email address in the `myamazingcompany.com` domain. The username should be created from the arguments: first letter of first name, period, last name - all in lowercase.\n",
    "\n",
    "Example:\n",
    "```python\n",
    "print(create_email('John', 'Connor'))\n",
    "```\n",
    "\n",
    "Result:\n",
    "```\n",
    "j.connor@myamazingcompany.com\n",
    "```\n",
    "**Use the .format() method to do the exercise**"
   ]
  },
  {
   "cell_type": "code",
   "execution_count": 3,
   "metadata": {},
   "outputs": [
    {
     "name": "stdout",
     "output_type": "stream",
     "text": [
      "j.connor@myamazingcompany.com\n"
     ]
    }
   ],
   "source": [
    "# Write the \"create_email\" function here\\\n",
    "\n",
    "def create_email(first_name, last_name):\n",
    "    return f\"{first_name[0].lower()}.{last_name.lower()}@myamazingcompany.com\"\n",
    "\n",
    "print(create_email('John', 'Connor'))"
   ]
  },
  {
   "cell_type": "code",
   "execution_count": 4,
   "metadata": {},
   "outputs": [
    {
     "name": "stdout",
     "output_type": "stream",
     "text": [
      "Passed!\n",
      "Passed!\n"
     ]
    }
   ],
   "source": [
    "if create_email('John', 'Connor') == 'j.connor@myamazingcompany.com':\n",
    "    print('Passed!')\n",
    "else:\n",
    "    print('For arguments \"John\" and \"Connor\" expected the function to return j.connor@myamazingcompany.com')\n",
    "    print('Your function returned:', create_email('John', 'Connor'))\n",
    "\n",
    "if create_email('Anna', 'Newman') == 'a.newman@myamazingcompany.com':\n",
    "    print('Passed!')\n",
    "else:\n",
    "    print('For arguments \"Anna\" and \"Newman\" expected the function to return a.newman@myamazingcompany.com')\n",
    "    print('Your function returned:', create_email('Anna', 'Newman'))"
   ]
  },
  {
   "cell_type": "code",
   "execution_count": null,
   "metadata": {},
   "outputs": [],
   "source": [
    "screenplay = \"\"\"\n",
    "      VADER\n",
    "If only you knew the power of the Dark Side. Obi-Wan never told you what happened\n",
    "to your father.\n",
    "      LUKE\n",
    "He told me enough! He told me you killed him!\n",
    "      VADER\n",
    "No, I am your father.\n",
    "      LUKE - (shocked)\n",
    "No. No! That's not true! That's impossible!\n",
    "\"\"\""
   ]
  },
  {
   "cell_type": "code",
   "execution_count": 1,
   "metadata": {},
   "outputs": [
    {
     "name": "stdout",
     "output_type": "stream",
     "text": [
      "nabakzA fo renosirP eht dna rettoP yrraH\n"
     ]
    }
   ],
   "source": [
    "book = (\"Harry Potter\" +\n",
    "        \" and the Prisoner of Azkaban\")\n",
    "book[0:5] # 'Harry'\n",
    "book[-7:] # 'Azkaban'\n",
    "print(book[::-1])"
   ]
  },
  {
   "cell_type": "code",
   "execution_count": 2,
   "metadata": {},
   "outputs": [
    {
     "name": "stdout",
     "output_type": "stream",
     "text": [
      "H\n",
      "a\n",
      "r\n",
      "r\n",
      "y\n"
     ]
    }
   ],
   "source": [
    "name = book[:5]\n",
    "for letter in name:\n",
    "    print(letter) "
   ]
  },
  {
   "cell_type": "code",
   "execution_count": 3,
   "metadata": {},
   "outputs": [
    {
     "name": "stdout",
     "output_type": "stream",
     "text": [
      "Hobbits in LOTR: Frodo, Sam, Merry and Pippin.\n"
     ]
    }
   ],
   "source": [
    "hobbits = (\"Frodo\", \"Sam\",\n",
    "           \"Merry\", \"Pippin\")\n",
    "desc = (\"Hobbits in LOTR: %s, %s, %s\" +\n",
    "        \" and %s.\") % hobbits\n",
    "print(desc)"
   ]
  },
  {
   "cell_type": "code",
   "execution_count": 4,
   "metadata": {},
   "outputs": [
    {
     "name": "stdout",
     "output_type": "stream",
     "text": [
      "Gandalf The Grey is a wizard.\n"
     ]
    }
   ],
   "source": [
    "description = \"{} is a {}.\".format(\"Gandalf The Grey\", \"wizard\")\n",
    "print(description)"
   ]
  },
  {
   "cell_type": "code",
   "execution_count": 5,
   "metadata": {},
   "outputs": [
    {
     "name": "stdout",
     "output_type": "stream",
     "text": [
      "Gandalf The Grey is a wizard.\n"
     ]
    }
   ],
   "source": [
    "description = \"{name} is a {occupation}.\".format(\n",
    "    name=\"Gandalf The Grey\", occupation=\"wizard\"\n",
    ")\n",
    "print(description)"
   ]
  },
  {
   "cell_type": "code",
   "execution_count": 6,
   "metadata": {},
   "outputs": [
    {
     "name": "stdout",
     "output_type": "stream",
     "text": [
      "Han Solo is a smuggler.\n"
     ]
    }
   ],
   "source": [
    "name = \"Han Solo\"\n",
    "occupation = \"smuggler\"\n",
    "description = f\"{name} is a {occupation}.\"\n",
    "\n",
    "print(description)"
   ]
  }
 ],
 "metadata": {
  "kernelspec": {
   "display_name": "Python 3 (ipykernel)",
   "language": "python",
   "name": "python3"
  },
  "language_info": {
   "codemirror_mode": {
    "name": "ipython",
    "version": 3
   },
   "file_extension": ".py",
   "mimetype": "text/x-python",
   "name": "python",
   "nbconvert_exporter": "python",
   "pygments_lexer": "ipython3",
   "version": "3.11.5"
  }
 },
 "nbformat": 4,
 "nbformat_minor": 4
}

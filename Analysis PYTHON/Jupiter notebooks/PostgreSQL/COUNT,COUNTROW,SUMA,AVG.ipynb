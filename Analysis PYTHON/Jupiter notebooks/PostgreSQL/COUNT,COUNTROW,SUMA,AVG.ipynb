{
 "cells": [
  {
   "cell_type": "markdown",
   "metadata": {},
   "source": [
    "# Replacing data\n",
    "\n",
    "Using Python calculate the average purchase price (`buyPrice`) of a product.\n",
    "\n",
    "To do so:\n",
    "1. Create a database connection object.\n",
    "1. Query the database for all products (the query can be narrowed down to the purchase price).\n",
    "1. In a loop, iterate all the results and sum them up.\n",
    "1. After summing up all the results, divide them by the number of rows returned.\n",
    "\n",
    "Hint:\n",
    "To get the number of returned rows you can use the `cursor` object called `rowcount`.\n",
    "```\n",
    "rows_count = my_coursor.rowcount\n",
    "```\n"
   ]
  },
  {
   "cell_type": "code",
   "execution_count": 2,
   "metadata": {},
   "outputs": [],
   "source": [
    "import psycopg2\n",
    "\n",
    "db_name = \"classicmodels\"\n",
    "username = \"postgres\"\n",
    "password = \"0000\"\n",
    "\n",
    "connection = psycopg2.connect(\n",
    "    host='localhost',\n",
    "    user=username, \n",
    "    password=password, \n",
    "    dbname=db_name, \n",
    ")\n",
    "\n",
    "cursor = connection.cursor()"
   ]
  },
  {
   "cell_type": "code",
   "execution_count": 3,
   "metadata": {},
   "outputs": [
    {
     "name": "stdout",
     "output_type": "stream",
     "text": [
      "[48.81]\n",
      "[98.58]\n",
      "[68.99]\n",
      "[91.02]\n",
      "[85.68]\n",
      "[103.42]\n",
      "[95.34]\n",
      "[95.59]\n",
      "[66.27]\n",
      "[89.14]\n",
      "[75.16]\n",
      "[83.05]\n",
      "[31.92]\n",
      "[58.73]\n",
      "[83.51]\n",
      "[60.62]\n",
      "[24.26]\n",
      "[65.96]\n",
      "[77.27]\n",
      "[86.7]\n",
      "[53.9]\n",
      "[55.7]\n",
      "[93.89]\n",
      "[101.51]\n",
      "[33.3]\n",
      "[58.48]\n",
      "[49.0]\n",
      "[24.23]\n",
      "[72.56]\n",
      "[56.76]\n",
      "[60.78]\n",
      "[34.35]\n",
      "[51.61]\n",
      "[60.74]\n",
      "[68.3]\n",
      "[77.9]\n",
      "[57.01]\n",
      "[67.56]\n",
      "[49.05]\n",
      "[57.54]\n",
      "[73.49]\n",
      "[62.16]\n",
      "[32.95]\n",
      "[64.58]\n",
      "[91.92]\n",
      "[43.26]\n",
      "[52.66]\n",
      "[23.14]\n",
      "[69.93]\n",
      "[34.21]\n",
      "[49.24]\n",
      "[32.37]\n",
      "[60.86]\n",
      "[29.18]\n",
      "[66.74]\n",
      "[22.57]\n",
      "[37.32]\n",
      "[82.34]\n",
      "[20.61]\n",
      "[47.1]\n",
      "[47.25]\n",
      "[15.91]\n",
      "[34.25]\n",
      "[72.82]\n",
      "[16.24]\n",
      "[46.91]\n",
      "[50.51]\n",
      "[38.58]\n",
      "[26.3]\n",
      "[62.11]\n",
      "[48.64]\n",
      "[98.3]\n",
      "[29.34]\n",
      "[21.75]\n",
      "[69.78]\n",
      "[57.46]\n",
      "[36.23]\n",
      "[32.33]\n",
      "[66.92]\n",
      "[24.14]\n",
      "[26.72]\n",
      "[33.02]\n",
      "[56.13]\n",
      "[27.06]\n",
      "[37.49]\n",
      "[34.17]\n",
      "[34.0]\n",
      "[51.15]\n",
      "[43.3]\n",
      "[39.83]\n",
      "[68.8]\n",
      "[33.97]\n",
      "[46.53]\n",
      "[59.33]\n",
      "[54.4]\n",
      "[51.09]\n",
      "[53.63]\n",
      "[36.27]\n",
      "[32.77]\n",
      "[33.3]\n",
      "[77.9]\n",
      "[58.33]\n",
      "[74.86]\n",
      "[24.92]\n",
      "[84.76]\n",
      "[61.34]\n",
      "[53.93]\n",
      "[25.98]\n",
      "[33.61]\n",
      "[68.29]\n"
     ]
    }
   ],
   "source": [
    "query = \"SELECT buyPrice FROM products \"\n",
    "cursor.execute(query)\n",
    "\n",
    "for row in cursor:\n",
    "    print(list(row))"
   ]
  },
  {
   "cell_type": "code",
   "execution_count": 4,
   "metadata": {},
   "outputs": [
    {
     "name": "stdout",
     "output_type": "stream",
     "text": [
      "[48.81, 98.58, 68.99, 91.02, 85.68, 103.42, 95.34, 95.59, 66.27, 89.14, 75.16, 83.05, 31.92, 58.73, 83.51, 60.62, 24.26, 65.96, 77.27, 86.7, 53.9, 55.7, 93.89, 101.51, 33.3, 58.48, 49.0, 24.23, 72.56, 56.76, 60.78, 34.35, 51.61, 60.74, 68.3, 77.9, 57.01, 67.56, 49.05, 57.54, 73.49, 62.16, 32.95, 64.58, 91.92, 43.26, 52.66, 23.14, 69.93, 34.21, 49.24, 32.37, 60.86, 29.18, 66.74, 22.57, 37.32, 82.34, 20.61, 47.1, 47.25, 15.91, 34.25, 72.82, 16.24, 46.91, 50.51, 38.58, 26.3, 62.11, 48.64, 98.3, 29.34, 21.75, 69.78, 57.46, 36.23, 32.33, 66.92, 24.14, 26.72, 33.02, 56.13, 27.06, 37.49, 34.17, 34.0, 51.15, 43.3, 39.83, 68.8, 33.97, 46.53, 59.33, 54.4, 51.09, 53.63, 36.27, 32.77, 33.3, 77.9, 58.33, 74.86, 24.92, 84.76, 61.34, 53.93, 25.98, 33.61, 68.29]\n",
      "110\n",
      "5983.470000000001\n",
      "54.395181818181825\n"
     ]
    }
   ],
   "source": [
    "query = \"SELECT buyPrice FROM products \"\n",
    "cursor.execute(query)\n",
    "\n",
    "seznam = []\n",
    "suma = 0\n",
    "\n",
    "\n",
    "for row in cursor:\n",
    "    seznam.append(row[0])\n",
    "    suma += row[0]\n",
    "\n",
    "average = suma / len(seznam)\n",
    "\n",
    "print(seznam)\n",
    "print(len(seznam))\n",
    "print(suma)\n",
    "print(average)"
   ]
  },
  {
   "cell_type": "code",
   "execution_count": 5,
   "metadata": {},
   "outputs": [
    {
     "name": "stdout",
     "output_type": "stream",
     "text": [
      "110\n"
     ]
    }
   ],
   "source": [
    "rows = cursor.rowcount\n",
    "print (rows)"
   ]
  },
  {
   "cell_type": "code",
   "execution_count": 6,
   "metadata": {},
   "outputs": [
    {
     "name": "stdout",
     "output_type": "stream",
     "text": [
      "54.395181818181825\n"
     ]
    }
   ],
   "source": [
    "query = \"SELECT AVG(buyPrice) FROM products \"\n",
    "cursor.execute(query)\n",
    "\n",
    "for i in cursor:\n",
    "    print(i[0])"
   ]
  },
  {
   "cell_type": "code",
   "execution_count": null,
   "metadata": {},
   "outputs": [],
   "source": [
    "# Query the database for the buyPrice of all products\n",
    "cursor.execute(\"SELECT buyPrice FROM products;\")\n",
    "\n",
    "# Fetch all the results\n",
    "products = cursor.fetchall()\n",
    "\n",
    "# Calculate the sum of all buyPrices\n",
    "total_price = sum([product[0] for product in products])\n",
    "\n",
    "# Get the number of returned rows\n",
    "rows_count = cursor.rowcount\n",
    "\n",
    "# Calculate the average buy price\n",
    "average_price = total_price / rows_count if rows_count else 0\n",
    "\n",
    "# Close the cursor and the connection\n",
    "cursor.close()\n",
    "connection.close()\n",
    "\n",
    "# Display the average buy price\n",
    "print(f\"The average purchase price of a product is: {average_price}\")"
   ]
  }
 ],
 "metadata": {
  "kernelspec": {
   "display_name": "Python 3",
   "language": "python",
   "name": "python3"
  },
  "language_info": {
   "codemirror_mode": {
    "name": "ipython",
    "version": 3
   },
   "file_extension": ".py",
   "mimetype": "text/x-python",
   "name": "python",
   "nbconvert_exporter": "python",
   "pygments_lexer": "ipython3",
   "version": "3.11.5"
  }
 },
 "nbformat": 4,
 "nbformat_minor": 4
}

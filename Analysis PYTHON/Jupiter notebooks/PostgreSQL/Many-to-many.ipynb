{
 "cells": [
  {
   "cell_type": "markdown",
   "metadata": {},
   "source": [
    "# Many-to-many relationship\n",
    "\n",
    "Many-to-many relationships are the most difficult types of relationships - they require connecting 3 tables. In the `clasicmodels` database `the best example of such relationship is that between the `orders` and `products` tables.\n",
    "\n",
    "Let's describe this relationship:\n",
    "1. There can be many products in one order.\n",
    "2. One product can be in multiple orders.\n",
    "\n",
    "Since \"pure\" many-to-many relationships are not possible to implement in SQL, we solve this problem by using a junction table that is in a one-to-many relationship with our original tables. In our case, it looks like this:\n",
    "1. A new table `orderdetail` was introduced.\n",
    "2. The table is in a one-to-many relationship with the `orders` and `products` tables.\n",
    "\n",
    "Let's try to write an SQL query that will return the following information from the database:\n",
    "* order id (`orders` table),\n",
    "* order status (`orders` table),\n",
    "* code of the ordered product (`orderdetails` table),\n",
    "* number of items of the ordered product (`orderdetails` table),\n",
    "* name of the ordered product (`products` table).\n",
    "\n",
    "To get this:\n",
    "1. Write a SQL query that loads the order id and status from the `orders` table.\n",
    "2. Modify the query so that a join with the `orderdetails` is made (we are only interested in the code of the particular order).\n",
    "3. Modify the query so that a join with the `orderdetails` is made (and add the data we are interested in).\n"
   ]
  },
  {
   "cell_type": "code",
   "execution_count": null,
   "metadata": {
    "vscode": {
     "languageId": "sql"
    }
   },
   "outputs": [],
   "source": [
    "SELECT orders.orderNumber, orders.status\n",
    "FROM orders;"
   ]
  },
  {
   "cell_type": "code",
   "execution_count": null,
   "metadata": {
    "vscode": {
     "languageId": "sql"
    }
   },
   "outputs": [],
   "source": [
    "SELECT orders.orderNumber, orders.status, orderdetails.productCode\n",
    "FROM orders\n",
    "JOIN orderdetails ON orders.orderNumber = orderdetails.orderNumber;\n"
   ]
  },
  {
   "cell_type": "code",
   "execution_count": null,
   "metadata": {
    "vscode": {
     "languageId": "sql"
    }
   },
   "outputs": [],
   "source": [
    "SELECT orders.orderNumber, orders.status, orderdetails.productCode, orderdetails.quantityOrdered, products.productName\n",
    "FROM orders\n",
    "JOIN orderdetails ON orders.orderNumber = orderdetails.orderNumber\n",
    "JOIN products ON orderdetails.productCode = products.productCode;"
   ]
  }
 ],
 "metadata": {
  "kernelspec": {
   "display_name": "Python 3",
   "language": "python",
   "name": "python3"
  },
  "language_info": {
   "codemirror_mode": {
    "name": "ipython",
    "version": 3
   },
   "file_extension": ".py",
   "mimetype": "text/x-python",
   "name": "python",
   "nbconvert_exporter": "python",
   "pygments_lexer": "ipython3",
   "version": "3.8.6"
  }
 },
 "nbformat": 4,
 "nbformat_minor": 4
}

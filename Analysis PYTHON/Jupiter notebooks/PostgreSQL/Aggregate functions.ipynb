{
 "cells": [
  {
   "cell_type": "markdown",
   "metadata": {},
   "source": [
    "# Aggregate functions in SQL\n",
    "\n",
    "Find out the following from the database:\n",
    "1. What is the size of each order (by size, we mean the number of pieces of all products in that order)?\n",
    "2. What is the total amount of each order?\n",
    "3. How many products are there for each product line?\n",
    "4. What is the average suggested retail price (`MSRP`) for each product line?\n",
    "5. How many customers are from each country?\n",
    "6. What is the smallest and largest credit limit for a company per country?\n",
    "\n",
    "\n",
    "Hint:\n",
    "1. In point 2 we can calculate the amount for the order using `sum(quantityordered * priceEach)`. Such code is going to multiply `quantityordered` and `priceEach` for each row, and then sum them up.\n"
   ]
  },
  {
   "cell_type": "code",
   "execution_count": null,
   "metadata": {
    "vscode": {
     "languageId": "sql"
    }
   },
   "outputs": [],
   "source": [
    "--1. What is the size of each order (by size, we mean the number of pieces of all products in that order)?\n",
    "\n",
    "SELECT ORDERNUMBER,\n",
    "\tSUM(QUANTITYORDERED) AS POCET_OBJEDNAVEK\n",
    "FROM ORDERDETAILS\n",
    "GROUP BY ORDERNUMBER \n",
    "\n",
    "--2. What is the total amount of each order?\n",
    "\n",
    "SELECT ORDERNUMBER,\n",
    "\tSUM(QUANTITYORDERED * PRICEEACH) AS POCET_OBJEDNAVEK\n",
    "FROM ORDERDETAILS\n",
    "GROUP BY ORDERNUMBER \n",
    "\n",
    "--3. How many products are there for each product line?\n",
    "\n",
    "SELECT PRODUCTLINE,\n",
    "\tCOUNT(DISTINCT PRODUCTCODE) AS POCET_PRODUCTU\n",
    "FROM PRODUCTS\n",
    "GROUP BY PRODUCTLINE \n",
    "\n",
    "--4. What is the average suggested retail price (MSRP) for each product line?\n",
    "\n",
    "SELECT PRODUCTLINE,\n",
    "\tROUND(CAST(AVG(MSRP), AS numeric),\n",
    "\t\t2) AS AVG_MSRP\n",
    "FROM PRODUCTS\n",
    "GROUP BY PRODUCTLINE \n",
    "\n",
    "--5. How many customers are from each country?\n",
    "\n",
    "SELECT COUNTRY,\n",
    "\tCOUNT(CUSTOMERNUMBER) AS POCET_C_COUNTRY\n",
    "FROM CUSTOMERS\n",
    "GROUP BY COUNTRY \n",
    "\n",
    "--6. What is the smallest and largest credit limit for a company per country?\n",
    "\n",
    "SELECT COUNTRY,\n",
    "\tMIN(CREDITLIMIT) AS MIN_CL,\n",
    "\tMAX(CREDITLIMIT) AS MAX_CL\n",
    "FROM CUSTOMERS\n",
    "GROUP BY COUNTRY "
   ]
  }
 ],
 "metadata": {
  "kernelspec": {
   "display_name": "Python 3",
   "language": "python",
   "name": "python3"
  },
  "language_info": {
   "codemirror_mode": {
    "name": "ipython",
    "version": 3
   },
   "file_extension": ".py",
   "mimetype": "text/x-python",
   "name": "python",
   "nbconvert_exporter": "python",
   "pygments_lexer": "ipython3",
   "version": "3.8.6"
  }
 },
 "nbformat": 4,
 "nbformat_minor": 4
}

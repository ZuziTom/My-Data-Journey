{
 "cells": [
  {
   "cell_type": "markdown",
   "metadata": {},
   "source": [
    "# Min and max\n",
    "\n",
    "Using Python and SQL, find out what the most expensive and cheapest product (based on the column `MRSP` - Manufacturers Suggested Retail Price) sold by the company. To do so:\n",
    "\n",
    "To do so:\n",
    "1. Create a database connection object.\n",
    "1. Create variables for the highest and lowest price. Assign them values of `0` (for highest price) and `math.inf` (for lowest price). Remember to import the `math` library\n",
    "1. Query the database for all products (the query may be narrowed down to just one column).\n",
    "1. In a loop, iterate through all the results and:\n",
    "    1. If the product price is lower than the variable storing the lowest price, assign it to that variable;\n",
    "    1. If the price of the product is greater than the variable with the highest price, then assign that value to that variable.\n",
    "    \n",
    "At the end of the script, display information about these prices.\n"
   ]
  },
  {
   "cell_type": "code",
   "execution_count": 2,
   "metadata": {},
   "outputs": [],
   "source": [
    "import psycopg2\n",
    "\n",
    "db_name = \"classicmodels\"\n",
    "username = \"postgres\"\n",
    "password = \"0000\"\n",
    "\n",
    "connection = psycopg2.connect(\n",
    "    host='localhost',\n",
    "    user=username, \n",
    "    password=password, \n",
    "    dbname=db_name, \n",
    ")\n",
    "\n",
    "cursor = connection.cursor()"
   ]
  },
  {
   "cell_type": "code",
   "execution_count": 6,
   "metadata": {},
   "outputs": [
    {
     "name": "stdout",
     "output_type": "stream",
     "text": [
      "The highest MSRP in the products table is: 214.3\n",
      "The lowest MSRP in the products table is: 33.19\n"
     ]
    }
   ],
   "source": [
    "import math\n",
    "\n",
    "query = \"SELECT MSRP FROM products \"\n",
    "cursor.execute(query)\n",
    "\n",
    "highest_price = 0\n",
    "lowest_price = math.inf\n",
    "\n",
    "for record in cursor:\n",
    "    msrp = record[0]\n",
    "    if msrp < lowest_price:\n",
    "        lowest_price = msrp\n",
    "    if msrp > highest_price:\n",
    "        highest_price = msrp\n",
    "\n",
    "# Display information about the highest and lowest prices\n",
    "        \n",
    "print(f\"The highest MSRP in the products table is: {highest_price}\")\n",
    "print(f\"The lowest MSRP in the products table is: {lowest_price}\")"
   ]
  },
  {
   "cell_type": "code",
   "execution_count": 4,
   "metadata": {},
   "outputs": [
    {
     "name": "stdout",
     "output_type": "stream",
     "text": [
      "(33.19,)\n"
     ]
    }
   ],
   "source": [
    "query = \"SELECT MIN(msrp) FROM products \"\n",
    "cursor.execute(query)\n",
    "\n",
    "for row in cursor:\n",
    "    print(row)"
   ]
  },
  {
   "cell_type": "code",
   "execution_count": 5,
   "metadata": {},
   "outputs": [
    {
     "name": "stdout",
     "output_type": "stream",
     "text": [
      "(214.3,)\n"
     ]
    }
   ],
   "source": [
    "query = \"SELECT MAX(msrp) FROM products \"\n",
    "cursor.execute(query)\n",
    "\n",
    "for row in cursor:\n",
    "    print(row)"
   ]
  },
  {
   "cell_type": "code",
   "execution_count": 7,
   "metadata": {},
   "outputs": [
    {
     "name": "stdout",
     "output_type": "stream",
     "text": [
      "(214.3, 33.19)\n"
     ]
    }
   ],
   "source": [
    "query = \"SELECT MAX(MSRP), MIN(MSRP) FROM products\"\n",
    "cursor.execute(query)\n",
    "\n",
    "for i in cursor:\n",
    "    print(i)"
   ]
  }
 ],
 "metadata": {
  "kernelspec": {
   "display_name": "Python 3",
   "language": "python",
   "name": "python3"
  },
  "language_info": {
   "codemirror_mode": {
    "name": "ipython",
    "version": 3
   },
   "file_extension": ".py",
   "mimetype": "text/x-python",
   "name": "python",
   "nbconvert_exporter": "python",
   "pygments_lexer": "ipython3",
   "version": "3.11.5"
  }
 },
 "nbformat": 4,
 "nbformat_minor": 4
}

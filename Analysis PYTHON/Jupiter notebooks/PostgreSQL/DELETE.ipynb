{
 "cells": [
  {
   "cell_type": "markdown",
   "metadata": {},
   "source": [
    "# Deleting data\n",
    "\n",
    "Our firm is ending the cooperation with `Tokyo Collectables, Ltd`. To do so:\n",
    "1. Try to delete the data from the `customers` table in the company called `Tokyo Collectables, Ltd`. Think about the message you received. What could it mean?\n",
    "\n",
    "We already know that we can't delete data that occurs in a relationship. This would result in a data inconsistency (we would have orders for a non-existent company in the system).\n",
    "In this case `Tokyo Collectables, Ltd` has existing orders in the system. We have to delete them before the database will allow us to delete that company. To do so:\n",
    "1. Find `customernumber` for `Tokyo Collectables, Ltd`.\n",
    "2. Delete all orders assigned to this company.\n",
    "\n",
    "Deleting the orders will also fail - for the same reason. First we have to delete all the details of these orders. To do so:\n",
    "1. See which numbers `ordernumber` the orders for `Tokyo Collectables, Ltd` have.\n",
    "2. Delete all details (`orderdetails` table) for these orders. Try to do it with just one query (use the `AND` keyword or the `IN` operator).\n",
    "3. Delete all orders.\n",
    "4. Try to delete the company from the database.\n",
    "\n",
    "The company still fails to be deleted. We still need to discard all payments that are assigned to it in the system. This will be done analogously to deleting order details.\n",
    "\n",
    "Deleting data from the database is not that simple. The process is designed specifically - to reduce the possibility of accidental deletion of data.\n",
    "\n",
    "\n"
   ]
  },
  {
   "cell_type": "code",
   "execution_count": null,
   "metadata": {},
   "outputs": [],
   "source": [
    "import psycopg2\n",
    "\n",
    "db_name = \"classicmodels\"\n",
    "username = \"postgres\"\n",
    "password = \"0000\"\n",
    "\n",
    "connection = psycopg2.connect(\n",
    "    host='localhost',\n",
    "    user=username, \n",
    "    password=password, \n",
    "    dbname=db_name, \n",
    ")\n",
    "\n",
    "cursor = connection.cursor()"
   ]
  },
  {
   "cell_type": "code",
   "execution_count": null,
   "metadata": {},
   "outputs": [],
   "source": [
    "# Try to delete the data from the customers table in the company called Tokyo Collectables, Ltd. Think about the message you received. What could it mean?\n",
    "\n",
    "DELETE FROM customers \n",
    "WHERE customername = 'Tokyo Collectables, Ltd.'\n",
    "\n",
    "SELECT customernumber FROM customers \n",
    "WHERE customerName = 'Tokyo Collectables, Ltd.'"
   ]
  },
  {
   "cell_type": "code",
   "execution_count": null,
   "metadata": {},
   "outputs": [],
   "source": [
    "try:\n",
    "    cursor.execute('DELETE FROM customers WHERE customerName = 'Tokyo Collectables, Ltd')\n",
    "    connection.commit()\n",
    "\n",
    "except Exception as e:\n",
    "    print(\"An error occurred:\", e)\n",
    "    connection.rollback()"
   ]
  },
  {
   "cell_type": "code",
   "execution_count": null,
   "metadata": {},
   "outputs": [],
   "source": [
    "cursor.execute(\"SELECT customerNumber FROM customers WHERE customerName = 'Tokyo Collectables, Ltd';\")\n",
    "\n",
    "customer_number = cursor.fetchone()[0]\n",
    "\n",
    "print('Customer Number:', customer_number)"
   ]
  },
  {
   "cell_type": "code",
   "execution_count": null,
   "metadata": {},
   "outputs": [],
   "source": [
    "cursor.execute('SELECT orderNumber FROM orders WHERE customerNumber = %s', (customer_number,))\n",
    "\n",
    "order_numbers = cursor.fetchall()\n",
    "order_numbers_list = [order_number[0] for order_number in order_numbers]\n",
    "\n",
    "order_numbers_list"
   ]
  },
  {
   "cell_type": "code",
   "execution_count": null,
   "metadata": {},
   "outputs": [],
   "source": [
    "cursor.execute('DELETE FROM orderdetails WHERE orderNumber IN %s', (tuple(order_numbers_list),))\n",
    "# connection.commit()"
   ]
  },
  {
   "cell_type": "code",
   "execution_count": null,
   "metadata": {},
   "outputs": [],
   "source": [
    "cursor.execute('DELETE FROM orders WHERE customerNumber = %s', (customer_number,))\n",
    "# connection.commit()\n"
   ]
  },
  {
   "cell_type": "code",
   "execution_count": null,
   "metadata": {},
   "outputs": [],
   "source": [
    "try:\n",
    "    cursor.execute('DELETE FROM customers WHERE customerNumber = %s', (customer_number,))\n",
    "    connection.commit()\n",
    "\n",
    "except Exception as e:\n",
    "    print(\"An error occurred:\", e)\n",
    "    connection.rollback()"
   ]
  },
  {
   "cell_type": "code",
   "execution_count": null,
   "metadata": {},
   "outputs": [],
   "source": [
    "cursor.execute('DELETE FROM payments WHERE customerNumber = %s', (customer_number,))\n",
    "# connection.commit()\n"
   ]
  },
  {
   "cell_type": "code",
   "execution_count": null,
   "metadata": {},
   "outputs": [],
   "source": [
    "cursor.execute('DELETE FROM customers WHERE customerNumber = %s', (customer_number,))\n",
    "# connection.commit()"
   ]
  }
 ],
 "metadata": {
  "kernelspec": {
   "display_name": "Python 3",
   "language": "python",
   "name": "python3"
  },
  "language_info": {
   "codemirror_mode": {
    "name": "ipython",
    "version": 3
   },
   "file_extension": ".py",
   "mimetype": "text/x-python",
   "name": "python",
   "nbconvert_exporter": "python",
   "pygments_lexer": "ipython3",
   "version": "3.11.5"
  }
 },
 "nbformat": 4,
 "nbformat_minor": 4
}

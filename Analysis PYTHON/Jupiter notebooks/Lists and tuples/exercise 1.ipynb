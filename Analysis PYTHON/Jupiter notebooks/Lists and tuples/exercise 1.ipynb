{
 "cells": [
  {
   "cell_type": "markdown",
   "metadata": {},
   "source": [
    "## Exercise 1\n",
    "\n",
    "Write a `create_list(a, b, c)` function that takes three arguments of any type and then returns a list whose elements are the values of the arguments in the order of: `a`, `b`, `c`, `b`, `a`.\n",
    "\n",
    "##### Example:\n",
    "\n",
    "```python\n",
    "my_list = create_list(1, 2, 3)  # result: [1, 2, 3, 2, 1]\n",
    "```"
   ]
  },
  {
   "cell_type": "code",
   "execution_count": 1,
   "metadata": {},
   "outputs": [],
   "source": [
    "# Write the \"create_list\" function here\n",
    "\n",
    "def create_list(a,b,c):\n",
    "    return [a, b, c, b, a]"
   ]
  },
  {
   "cell_type": "code",
   "execution_count": 2,
   "metadata": {},
   "outputs": [
    {
     "data": {
      "text/plain": [
       "[1, 2, 3, 2, 1]"
      ]
     },
     "execution_count": 2,
     "metadata": {},
     "output_type": "execute_result"
    }
   ],
   "source": [
    "create_list(1, 2, 3)"
   ]
  },
  {
   "cell_type": "code",
   "execution_count": 3,
   "metadata": {},
   "outputs": [
    {
     "name": "stdout",
     "output_type": "stream",
     "text": [
      "Passed!\n",
      "Passed!\n"
     ]
    }
   ],
   "source": [
    "if create_list(7, 8, 9) == list(range(7, 10)) + [8] + [7]:\n",
    "    print('Passed!')\n",
    "else:\n",
    "    print('For arguments 7, 8, 9 expected the function to return the list: [7, 8, 9, 8, 7]')\n",
    "    print('Your function returned:', create_list(7, 8, 9))\n",
    "\n",
    "\n",
    "if create_list('Huey', 'Dewey', 'Louie') == 'Huey.Dewey.Louie.Dewey.Huey'.split('.'):\n",
    "    print('Passed!')\n",
    "else:\n",
    "    print(\n",
    "        \"'For arguments 'Huey', 'Dewey', 'Louie' expected the function to return the list: \" \n",
    "        \"['Huey', 'Dewey', 'Louie', 'Dewey', 'Huey']\"\n",
    "    )\n",
    "    print(\"Your function returned:\", create_list('Huey', 'Dewey', 'Louie'))"
   ]
  }
 ],
 "metadata": {
  "kernelspec": {
   "display_name": "Python 3",
   "language": "python",
   "name": "python3"
  },
  "language_info": {
   "codemirror_mode": {
    "name": "ipython",
    "version": 3
   },
   "file_extension": ".py",
   "mimetype": "text/x-python",
   "name": "python",
   "nbconvert_exporter": "python",
   "pygments_lexer": "ipython3",
   "version": "3.11.5"
  }
 },
 "nbformat": 4,
 "nbformat_minor": 4
}

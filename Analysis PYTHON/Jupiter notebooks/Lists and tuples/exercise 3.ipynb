{
 "cells": [
  {
   "cell_type": "markdown",
   "metadata": {},
   "source": [
    "## Exercise 3\n",
    "\n",
    "Write a function named `find_short_words` that takes a list of words\n",
    "This function should return a list of words shorter than 5 characters.\n",
    "\n",
    "##### Example\n",
    "```python\n",
    "l = find_short_words(['the', 'scariest', 'moment', 'is', 'always', 'just', 'before', 'you', 'start'])\n",
    "print(l)\n",
    "```\n",
    "```\n",
    "['the', 'is', 'just', 'you']\n",
    "```"
   ]
  },
  {
   "cell_type": "code",
   "execution_count": 15,
   "metadata": {},
   "outputs": [],
   "source": [
    "# \"Write the find_short_words function here\"\n",
    "\n",
    "def find_short_words(words):\n",
    "    l = []\n",
    "    for i in words:\n",
    "        if len(i) < 5:\n",
    "            l.append(i)\n",
    "    print(l)"
   ]
  },
  {
   "cell_type": "code",
   "execution_count": 16,
   "metadata": {},
   "outputs": [
    {
     "name": "stdout",
     "output_type": "stream",
     "text": [
      "['the', 'is', 'just', 'you']\n"
     ]
    }
   ],
   "source": [
    "find_short_words(['the', 'scariest', 'moment', 'is', 'always', 'just', 'before', 'you', 'start'])"
   ]
  },
  {
   "cell_type": "code",
   "execution_count": null,
   "metadata": {},
   "outputs": [],
   "source": [
    "test_list = ['Jackdaws', 'love', 'my', 'big', 'sphinx', 'of', 'quartz']\n",
    "result = find_short_words(test_list)\n",
    "\n",
    "if find_short_words(test_list) == ['love', 'my', 'big', 'of']:\n",
    "    print('Passed!')\n",
    "else:\n",
    "    print('For the text \"Jackdaws love my big sphinx of quartz\" expected result is:')\n",
    "    print('[\"love\", \"my\", \"big\", \"of\"]')\n",
    "    print('but the function returned', result)"
   ]
  }
 ],
 "metadata": {
  "interpreter": {
   "hash": "40c9509d1f5ac2980ae5e2628be771c44b85108102f25794454cd70593b3b9a3"
  },
  "kernelspec": {
   "display_name": "Python 3.9.12 64-bit",
   "language": "python",
   "name": "python3"
  },
  "language_info": {
   "codemirror_mode": {
    "name": "ipython",
    "version": 3
   },
   "file_extension": ".py",
   "mimetype": "text/x-python",
   "name": "python",
   "nbconvert_exporter": "python",
   "pygments_lexer": "ipython3",
   "version": "3.11.5"
  }
 },
 "nbformat": 4,
 "nbformat_minor": 4
}

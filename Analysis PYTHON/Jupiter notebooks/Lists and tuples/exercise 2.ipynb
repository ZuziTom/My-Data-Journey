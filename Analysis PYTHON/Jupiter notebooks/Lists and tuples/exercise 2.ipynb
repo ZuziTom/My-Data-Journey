{
 "cells": [
  {
   "cell_type": "markdown",
   "metadata": {},
   "source": [
    "## Exercise 2\n",
    "\n",
    "Write a `histogram(list_of_integers)` function,that loops through each digit in a list and displays the number of `#` characters equal to the digit – on a new line for each digit.\n",
    "\n",
    "Hint: To generate repeatable text you can just multiply it by an `int` type number:\n",
    "```python\n",
    "\"na\" * 16 + \" Batman!\"\n",
    "```\n",
    "\n",
    "##### Example\n",
    "```python\n",
    "histogram([3, 9, 1, 5])\n",
    "```\n",
    "\n",
    "```python\n",
    "###\n",
    "#########\n",
    "#\n",
    "#####\n",
    "```"
   ]
  },
  {
   "cell_type": "code",
   "execution_count": 7,
   "metadata": {},
   "outputs": [],
   "source": [
    "# Write the \"histogram\" function here\n",
    "\n",
    "def histogram(list_of_integers):\n",
    "    for i in list_of_integers:\n",
    "        print(\"#\"*i)"
   ]
  },
  {
   "cell_type": "code",
   "execution_count": 8,
   "metadata": {},
   "outputs": [
    {
     "name": "stdout",
     "output_type": "stream",
     "text": [
      "##\n",
      "####\n",
      "#####\n",
      "########\n"
     ]
    }
   ],
   "source": [
    "histogram([2, 4, 5, 8])"
   ]
  },
  {
   "cell_type": "code",
   "execution_count": 9,
   "metadata": {},
   "outputs": [
    {
     "name": "stdout",
     "output_type": "stream",
     "text": [
      "Passed!\n",
      "Passed!\n"
     ]
    }
   ],
   "source": [
    "# Do not change the automated tests code below!\n",
    "import sys\n",
    "import io\n",
    "_real_stdout = sys.stdout\n",
    "\n",
    "sys.stdout = io.StringIO()\n",
    "histogram([1,2,3,4])\n",
    "sys.stdout.seek(0)\n",
    "if sys.stdout.read().strip().split() == ['#', '##', '###', '####']:\n",
    "    print('Passed!', file=_real_stdout)\n",
    "else:\n",
    "    print('The histogram function did not display the bars with expected length', file=_real_stdout)\n",
    "    print('Function displayed', file=_real_stdout)\n",
    "    sys.stdout.seek(0)\n",
    "    print(sys.stdout.read(), file=_real_stdout)\n",
    "    print('Instead of expected:\\n#\\n##\\n###\\n####\\n', file=_real_stdout)\n",
    "\n",
    "sys.stdout = io.StringIO()\n",
    "histogram([4,7,2])\n",
    "sys.stdout.seek(0)\n",
    "if sys.stdout.read().strip().split() == ['####', '#######', '##']:\n",
    "    print('Passed!', file=_real_stdout)\n",
    "else:\n",
    "    print('The histogram function did not display the bars with expected length', file=_real_stdout)\n",
    "    print('Function displayed', file=_real_stdout)\n",
    "    sys.stdout.seek(0)\n",
    "    print(sys.stdout.read(), file=_real_stdout)\n",
    "    print('Instead of expected:\\n####\\n#######\\n##\\n', file=_real_stdout)\n",
    "\n",
    "sys.stdout = _real_stdout"
   ]
  }
 ],
 "metadata": {
  "kernelspec": {
   "display_name": "Python 3",
   "language": "python",
   "name": "python3"
  },
  "language_info": {
   "codemirror_mode": {
    "name": "ipython",
    "version": 3
   },
   "file_extension": ".py",
   "mimetype": "text/x-python",
   "name": "python",
   "nbconvert_exporter": "python",
   "pygments_lexer": "ipython3",
   "version": "3.11.5"
  }
 },
 "nbformat": 4,
 "nbformat_minor": 4
}

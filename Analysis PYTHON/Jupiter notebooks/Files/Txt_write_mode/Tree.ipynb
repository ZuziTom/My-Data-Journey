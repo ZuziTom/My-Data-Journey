{
 "cells": [
  {
   "cell_type": "markdown",
   "metadata": {},
   "source": [
    "# Exercise 2\n",
    "\n",
    "Open the `tree.txt` file in the write mode and write a 12-line high x-mas tree in it. Use the `for` loop to generate the tree.\n",
    "\n",
    "Expected file content:```\n",
    "*\n",
    "**\n",
    "***\n",
    "****\n",
    "*****\n",
    "******\n",
    "*******\n",
    "********\n",
    "*********\n",
    "**********\n",
    "***********\n",
    "************\n",
    "```"
   ]
  },
  {
   "cell_type": "code",
   "execution_count": 4,
   "metadata": {},
   "outputs": [
    {
     "name": "stdout",
     "output_type": "stream",
     "text": [
      "*\n",
      "**\n",
      "***\n",
      "****\n",
      "*****\n",
      "******\n",
      "*******\n",
      "********\n",
      "*********\n",
      "**********\n",
      "***********\n",
      "************\n"
     ]
    }
   ],
   "source": [
    "# Write exercise solution here\n",
    "\n",
    "with open (\"tree.txt\", \"w\") as file:\n",
    "    for i in range(1, 13):\n",
    "        line = \"*\" * i\n",
    "        print(line)\n",
    "        \n",
    "        file.write(line + \"\\n\")\n",
    "        \n",
    "        \n"
   ]
  },
  {
   "cell_type": "code",
   "execution_count": 5,
   "metadata": {},
   "outputs": [
    {
     "name": "stdout",
     "output_type": "stream",
     "text": [
      "           *\n",
      "          ***\n",
      "         *****\n",
      "        *******\n",
      "       *********\n",
      "      ***********\n",
      "     *************\n",
      "    ***************\n",
      "   *****************\n",
      "  *******************\n",
      " *********************\n",
      "***********************\n"
     ]
    }
   ],
   "source": [
    "# Open the file in write mode\n",
    "with open('tree.txt', 'w') as file:\n",
    "    # Write a 12-line Christmas tree\n",
    "    for i in range(1, 13):\n",
    "        spaces = ' ' * (12 - i)\n",
    "        stars = '*' * (2 * i - 1)\n",
    "        line = spaces + stars + '\\n'\n",
    "        print(line, end=\"\")"
   ]
  },
  {
   "cell_type": "code",
   "execution_count": 6,
   "metadata": {},
   "outputs": [],
   "source": [
    "with open('tree_2.txt', 'w') as my_text_file:\n",
    "    my_text_file.write('Line1\\n')\n",
    "    my_text_file.write('Line2\\n')\n",
    "    my_text_file.writelines(['Line3\\n', 'Line4\\n', 'Line5'])"
   ]
  }
 ],
 "metadata": {
  "kernelspec": {
   "display_name": "Python 3 (ipykernel)",
   "language": "python",
   "name": "python3"
  },
  "language_info": {
   "codemirror_mode": {
    "name": "ipython",
    "version": 3
   },
   "file_extension": ".py",
   "mimetype": "text/x-python",
   "name": "python",
   "nbconvert_exporter": "python",
   "pygments_lexer": "ipython3",
   "version": "3.11.5"
  }
 },
 "nbformat": 4,
 "nbformat_minor": 4
}

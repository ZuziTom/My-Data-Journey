{
 "cells": [
  {
   "cell_type": "markdown",
   "metadata": {},
   "source": [
    "# Exercise 3\n",
    "\n",
    "Write a script that moves the files: `one.txt` and `two.txt` to the `archive/` folder. The file names should remain the same, only the place where they are stored is to change.\n"
   ]
  },
  {
   "cell_type": "code",
   "execution_count": 1,
   "metadata": {},
   "outputs": [
    {
     "ename": "FileNotFoundError",
     "evalue": "[WinError 2] The system cannot find the file specified: 'one.txt' -> 'archive\\\\one.txt'",
     "output_type": "error",
     "traceback": [
      "\u001b[1;31m---------------------------------------------------------------------------\u001b[0m",
      "\u001b[1;31mFileNotFoundError\u001b[0m                         Traceback (most recent call last)",
      "Cell \u001b[1;32mIn[1], line 5\u001b[0m\n\u001b[0;32m      1\u001b[0m \u001b[38;5;66;03m# Write exercise solution here\u001b[39;00m\n\u001b[0;32m      3\u001b[0m \u001b[38;5;28;01mimport\u001b[39;00m \u001b[38;5;21;01mos\u001b[39;00m\n\u001b[1;32m----> 5\u001b[0m os\u001b[38;5;241m.\u001b[39mreplace(\u001b[38;5;124m\"\u001b[39m\u001b[38;5;124mone.txt\u001b[39m\u001b[38;5;124m\"\u001b[39m, \u001b[38;5;124m\"\u001b[39m\u001b[38;5;124marchive\u001b[39m\u001b[38;5;124m\\\u001b[39m\u001b[38;5;124mone.txt\u001b[39m\u001b[38;5;124m\"\u001b[39m)  \n\u001b[0;32m      6\u001b[0m os\u001b[38;5;241m.\u001b[39mreplace(\u001b[38;5;124m\"\u001b[39m\u001b[38;5;124mtwo.txt\u001b[39m\u001b[38;5;124m\"\u001b[39m, \u001b[38;5;124m\"\u001b[39m\u001b[38;5;124marchive\u001b[39m\u001b[38;5;124m\\\u001b[39m\u001b[38;5;124mone.txt\u001b[39m\u001b[38;5;124m\"\u001b[39m)\n",
      "\u001b[1;31mFileNotFoundError\u001b[0m: [WinError 2] The system cannot find the file specified: 'one.txt' -> 'archive\\\\one.txt'"
     ]
    }
   ],
   "source": [
    "# Write exercise solution here\n",
    "\n",
    "import os\n",
    "\n",
    "os.replace(\"one.txt\", \"archive\\one.txt\")  \n",
    "os.replace(\"two.txt\", \"archive\\one.txt\")  "
   ]
  },
  {
   "cell_type": "code",
   "execution_count": null,
   "metadata": {},
   "outputs": [],
   "source": [
    "# File paths for 'one.txt' and 'two.txt'\n",
    "files_to_move = ['one.txt', 'two.txt']\n",
    "\n",
    "# Destination directory path\n",
    "destination_dir = 'archive/'\n",
    "\n",
    "# Moving the files\n",
    "for file_name in files_to_move:\n",
    "    source_path = file_name\n",
    "    destination_path = destination_dir + file_name\n",
    "    os.replace(source_path, destination_path)\n",
    "    print(f\"File {file_name} moved successfully to {destination_path}.\")"
   ]
  },
  {
   "cell_type": "code",
   "execution_count": null,
   "metadata": {},
   "outputs": [],
   "source": [
    "# Moving the files back from 'archive/' to the original directory\n",
    "\n",
    "# Updating the source and destination directories\n",
    "source_dir = 'archive/'\n",
    "destination_dir = ''\n",
    "\n",
    "# Moving the files back\n",
    "results_back = []\n",
    "for file_name in files_to_move:\n",
    "    source_path = os.path.join(source_dir, file_name)\n",
    "    destination_path = os.path.join(destination_dir, file_name)\n",
    "    os.rename(source_path, destination_path)"
   ]
  },
  {
   "cell_type": "code",
   "execution_count": null,
   "metadata": {},
   "outputs": [],
   "source": [
    "# Move files for /archive to the current folder\n",
    "import glob\n",
    "\n",
    "for file in glob.glob('archive/*.txt'):\n",
    "    # Extract just the filename from the file path\n",
    "    filename = os.path.basename(file)\n",
    "    # Define the destination path\n",
    "    destination = f'./{filename}'\n",
    "    # Move the file\n",
    "    os.replace(file, destination)\n"
   ]
  }
 ],
 "metadata": {
  "kernelspec": {
   "display_name": "Python 3 (ipykernel)",
   "language": "python",
   "name": "python3"
  },
  "language_info": {
   "codemirror_mode": {
    "name": "ipython",
    "version": 3
   },
   "file_extension": ".py",
   "mimetype": "text/x-python",
   "name": "python",
   "nbconvert_exporter": "python",
   "pygments_lexer": "ipython3",
   "version": "3.11.5"
  }
 },
 "nbformat": 4,
 "nbformat_minor": 4
}

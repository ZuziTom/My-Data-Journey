{
 "cells": [
  {
   "cell_type": "markdown",
   "metadata": {},
   "source": [
    "# Exercise 3\n",
    "\n",
    "Write a script that moves the files: `one.txt` and `two.txt` to the `archive/` folder. The file names should remain the same, only the place where they are stored is to change.\n"
   ]
  },
  {
   "cell_type": "code",
   "execution_count": 3,
   "metadata": {},
   "outputs": [],
   "source": [
    "# Write exercise solution here\n",
    "\n",
    "import os\n",
    "\n",
    "os.replace(\"one.txt\", \"archive\\one.txt\")  \n",
    "os.replace(\"two.txt\", \"archive\\one.txt\")  "
   ]
  },
  {
   "cell_type": "markdown",
   "metadata": {},
   "source": [
    "... different solution"
   ]
  },
  {
   "cell_type": "code",
   "execution_count": 19,
   "metadata": {},
   "outputs": [
    {
     "name": "stdout",
     "output_type": "stream",
     "text": [
      "File one.txt moved successfully to archive/one.txt.\n",
      "File two.txt moved successfully to archive/two.txt.\n"
     ]
    }
   ],
   "source": [
    "# File paths for 'one.txt' and 'two.txt'\n",
    "files_to_move = ['one.txt', 'two.txt']\n",
    "\n",
    "# Destination directory path\n",
    "destination_dir = 'archive/'\n",
    "\n",
    "# Moving the files\n",
    "for file_name in files_to_move:\n",
    "    source_path = file_name\n",
    "    destination_path = destination_dir + file_name\n",
    "    os.replace(source_path, destination_path)\n",
    "    print(f\"File {file_name} moved successfully to {destination_path}.\")"
   ]
  },
  {
   "cell_type": "code",
   "execution_count": 18,
   "metadata": {},
   "outputs": [
    {
     "name": "stdout",
     "output_type": "stream",
     "text": [
      "Moved 'one.txt' from 'archive/' to ''.\n",
      "Moved 'two.txt' from 'archive/' to ''.\n"
     ]
    }
   ],
   "source": [
    "# Moving the files back from 'archive/' to the original directory\n",
    "\n",
    "# Files to move back\n",
    "files_to_move = ['one.txt', 'two.txt']\n",
    "\n",
    "# Source directory (inside 'archive/')\n",
    "source_dir = 'archive/'\n",
    "\n",
    "# Destination directory (move files back to current directory)\n",
    "destination_dir = ''  # Replace with the original directory path\n",
    "\n",
    "# Moving the files back\n",
    "results_back = []\n",
    "for file_name in files_to_move:\n",
    "    try:\n",
    "        source_path = os.path.join(source_dir, file_name)\n",
    "        destination_path = os.path.join(destination_dir, file_name)\n",
    "        \n",
    "        if os.path.exists(source_path):\n",
    "            os.rename(source_path, destination_path)\n",
    "            results_back.append(f\"Moved '{file_name}' from '{source_dir}' to '{destination_dir}'.\")\n",
    "        else:\n",
    "            results_back.append(f\"Source file '{file_name}' not found in '{source_dir}'.\")\n",
    "    except Exception as e:\n",
    "        results_back.append(f\"Failed to move '{file_name}': {str(e)}\")\n",
    "\n",
    "# Display results\n",
    "for result in results_back:\n",
    "    print(result)"
   ]
  },
  {
   "cell_type": "markdown",
   "metadata": {},
   "source": [
    "...using GLOB library"
   ]
  },
  {
   "cell_type": "code",
   "execution_count": 20,
   "metadata": {},
   "outputs": [
    {
     "name": "stdout",
     "output_type": "stream",
     "text": [
      "Moved 'one.txt' from 'archive/' to '.\\one.txt'.\n",
      "Moved 'two.txt' from 'archive/' to '.\\two.txt'.\n"
     ]
    }
   ],
   "source": [
    "import os\n",
    "import glob\n",
    "\n",
    "# Move files from 'archive/' to the current folder\n",
    "for file in glob.glob('archive/*.txt'):\n",
    "    try:\n",
    "        # Extract just the filename from the file path\n",
    "        filename = os.path.basename(file)\n",
    "        # Define the destination path in the current directory\n",
    "        destination = os.path.join('.', filename)\n",
    "        # Move the file\n",
    "        os.replace(file, destination)\n",
    "        print(f\"Moved '{filename}' from 'archive/' to '{destination}'.\")\n",
    "    except FileNotFoundError:\n",
    "        print(f\"File '{filename}' not found in 'archive/'.\")\n",
    "    except Exception as e:\n",
    "        print(f\"Failed to move '{filename}': {str(e)}\")\n",
    "\n"
   ]
  }
 ],
 "metadata": {
  "kernelspec": {
   "display_name": "Python 3 (ipykernel)",
   "language": "python",
   "name": "python3"
  },
  "language_info": {
   "codemirror_mode": {
    "name": "ipython",
    "version": 3
   },
   "file_extension": ".py",
   "mimetype": "text/x-python",
   "name": "python",
   "nbconvert_exporter": "python",
   "pygments_lexer": "ipython3",
   "version": "3.11.5"
  }
 },
 "nbformat": 4,
 "nbformat_minor": 4
}

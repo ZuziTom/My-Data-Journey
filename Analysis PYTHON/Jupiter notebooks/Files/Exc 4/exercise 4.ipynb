{
 "cells": [
  {
   "cell_type": "markdown",
   "metadata": {},
   "source": [
    "# Exercise 4\n",
    "\n",
    "Find all files with a **.txt** extension in the `data/` folder; using a loop open each of them and display its content on the screen.\n",
    "\n",
    "The task will be correctly performed when you see three English palindromes on the screen, and zero Czech ones (because those are in **.py** files, not **.txt** files) nor Ukrainian ones (those are in **.html** files).\n"
   ]
  },
  {
   "cell_type": "code",
   "execution_count": 1,
   "metadata": {},
   "outputs": [
    {
     "data": {
      "text/plain": [
       "['No lemon, no melon\\n', 'Mr. Owl ate my metal worm\\n', 'Step on no pets\\n']"
      ]
     },
     "execution_count": 1,
     "metadata": {},
     "output_type": "execute_result"
    }
   ],
   "source": [
    "# Write exercise solution here\n",
    "\n",
    "import glob\n",
    "import os\n",
    "\n",
    "\n",
    "# Searching for all .txt files in the 'data/' folder and displaying their contents\n",
    "\n",
    "source_dir = 'data/'\n",
    "txt_files = glob.glob(os.path.join(source_dir, '*.txt'))\n",
    "\n",
    "# Reading and displaying the content of each .txt file\n",
    "file_contents = []\n",
    "for file in txt_files:\n",
    "    with open(file, 'r') as f:\n",
    "        content = f.read()#.strip()\n",
    "        file_contents.append(content)\n",
    "\n",
    "file_contents\n",
    "\n"
   ]
  }
 ],
 "metadata": {
  "kernelspec": {
   "display_name": "Python 3 (ipykernel)",
   "language": "python",
   "name": "python3"
  },
  "language_info": {
   "codemirror_mode": {
    "name": "ipython",
    "version": 3
   },
   "file_extension": ".py",
   "mimetype": "text/x-python",
   "name": "python",
   "nbconvert_exporter": "python",
   "pygments_lexer": "ipython3",
   "version": "3.11.5"
  }
 },
 "nbformat": 4,
 "nbformat_minor": 4
}

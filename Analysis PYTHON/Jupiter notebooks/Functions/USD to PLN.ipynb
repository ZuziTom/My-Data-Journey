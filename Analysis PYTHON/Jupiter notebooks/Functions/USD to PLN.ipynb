{
 "cells": [
  {
   "cell_type": "markdown",
   "metadata": {},
   "source": [
    "# Exercise 3\n",
    "\n",
    "Write a `usd_to_pln(usd)` function, that takes one argument: dollar amount (type: `int` or `float`) and returns the amount in PLN.\n",
    "\n",
    "Use the `1 USD = 3.75 PLN` conversion rate."
   ]
  },
  {
   "cell_type": "code",
   "execution_count": 1,
   "metadata": {},
   "outputs": [
    {
     "data": {
      "text/plain": [
       "375.0"
      ]
     },
     "execution_count": 1,
     "metadata": {},
     "output_type": "execute_result"
    }
   ],
   "source": [
    "# Write the \"usd_to_pln\" function here\n",
    "\n",
    "def usd_to_pln(usd):\n",
    "    return usd*3.75\n",
    "\n",
    "usd_to_pln(100)"
   ]
  },
  {
   "cell_type": "code",
   "execution_count": 2,
   "metadata": {},
   "outputs": [
    {
     "name": "stdout",
     "output_type": "stream",
     "text": [
      "100 USD = 375.0 PLN (expected result is 375.0 PLN)\n",
      "1.55 USD = 5.8125 PLN (expected result is 5.8125 PLN)\n",
      "4 USD - 2 PLN = 13.0 PLN (expected result is 13 PLN)\n"
     ]
    }
   ],
   "source": [
    "print('100 USD =', usd_to_pln(100), 'PLN (expected result is 375.0 PLN)')\n",
    "print('1.55 USD =', usd_to_pln(1.55), 'PLN (expected result is 5.8125 PLN)')\n",
    "print('4 USD - 2 PLN =', usd_to_pln(4) - 2, 'PLN (expected result is 13 PLN)')"
   ]
  }
 ],
 "metadata": {
  "kernelspec": {
   "display_name": "Python 3",
   "language": "python",
   "name": "python3"
  },
  "language_info": {
   "codemirror_mode": {
    "name": "ipython",
    "version": 3
   },
   "file_extension": ".py",
   "mimetype": "text/x-python",
   "name": "python",
   "nbconvert_exporter": "python",
   "pygments_lexer": "ipython3",
   "version": "3.11.5"
  }
 },
 "nbformat": 4,
 "nbformat_minor": 4
}

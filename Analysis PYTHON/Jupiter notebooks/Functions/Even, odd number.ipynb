{
 "cells": [
  {
   "cell_type": "markdown",
   "metadata": {},
   "source": [
    "# Exercise 4\n",
    "\n",
    "Write an `is_even(number)` function that takes a number and returns `True` if the number is even, and `False` if it is not.\n",
    "\n",
    "Write an `is_odd(number)` function, that takes a number and returns `True`, if the number is odd, and `False` if it is not. You can calculate the result (as in the `is_even` function) or use the `is_even` function in the code of the `is_odd` function.\n",
    "\n",
    "### Hint:\n",
    "\n",
    "Python has an operator that returns the remainder of division, and a number is even when the remainder of dividing by 2 is 0."
   ]
  },
  {
   "cell_type": "code",
   "execution_count": 1,
   "metadata": {},
   "outputs": [
    {
     "data": {
      "text/plain": [
       "True"
      ]
     },
     "execution_count": 1,
     "metadata": {},
     "output_type": "execute_result"
    }
   ],
   "source": [
    "# Write the \"is_even\" and \"is_odd\" functions here\n",
    "\n",
    "def is_even(number):\n",
    "    if number%2 == 0:\n",
    "        return True\n",
    "    else:\n",
    "        return False\n",
    "\n",
    "is_even(4)"
   ]
  },
  {
   "cell_type": "code",
   "execution_count": 2,
   "metadata": {},
   "outputs": [
    {
     "data": {
      "text/plain": [
       "True"
      ]
     },
     "execution_count": 2,
     "metadata": {},
     "output_type": "execute_result"
    }
   ],
   "source": [
    "def is_odd(number):\n",
    "    if not number%2 == 0:\n",
    "        return True\n",
    "    else:\n",
    "        return False\n",
    "\n",
    "is_odd(3)"
   ]
  },
  {
   "cell_type": "code",
   "execution_count": 3,
   "metadata": {},
   "outputs": [
    {
     "name": "stdout",
     "output_type": "stream",
     "text": [
      "Number 4 is even\n",
      "Number 7 is odd\n",
      "Number 9 is odd\n",
      "Number 12 is even\n"
     ]
    }
   ],
   "source": [
    "if is_even(4):\n",
    "    print('Number 4 is even')\n",
    "else:\n",
    "    print('Number 4 is... odd? Or is it?')\n",
    "\n",
    "if is_even(7):\n",
    "    print('Number 7 is... even? Or is it?')\n",
    "else:\n",
    "    print('Number 7 is odd')\n",
    "\n",
    "if is_odd(9):\n",
    "    print('Number 9 is odd')\n",
    "else:\n",
    "    print('Number 9 is... even? Or is it?')\n",
    "\n",
    "if is_odd(12):\n",
    "    print('Number 12 is... odd? Or is it?')\n",
    "else:\n",
    "    print('Number 12 is even')"
   ]
  }
 ],
 "metadata": {
  "kernelspec": {
   "display_name": "Python 3",
   "language": "python",
   "name": "python3"
  },
  "language_info": {
   "codemirror_mode": {
    "name": "ipython",
    "version": 3
   },
   "file_extension": ".py",
   "mimetype": "text/x-python",
   "name": "python",
   "nbconvert_exporter": "python",
   "pygments_lexer": "ipython3",
   "version": "3.11.5"
  }
 },
 "nbformat": 4,
 "nbformat_minor": 4
}

{
 "cells": [
  {
   "cell_type": "markdown",
   "metadata": {},
   "source": [
    "# Exercise 2\n",
    "\n",
    "Write a function,`find_first_duplicate(text)`, that takes a string as an argument, and returns the first letter that, from its position until the end of string, appears more than once. If no letter repeats, the function should return `None`.\n",
    "\n",
    "Example:\n",
    "\n",
    "```python\n",
    "print(find('Calamary'))\n",
    "```\n",
    "\n",
    "Result:\n",
    "```\n",
    "a\n",
    "```\n"
   ]
  },
  {
   "cell_type": "code",
   "execution_count": 8,
   "metadata": {},
   "outputs": [],
   "source": [
    "# Write the \"find_first_duplicate\" function here\n",
    "\n",
    "\n",
    "def find_first_duplicate(text):\n",
    "    for letter in text:\n",
    "        if text.count(letter) > 1:\n",
    "            return letter\n",
    "\n"
   ]
  },
  {
   "cell_type": "code",
   "execution_count": 10,
   "metadata": {},
   "outputs": [
    {
     "data": {
      "text/plain": [
       "'a'"
      ]
     },
     "execution_count": 10,
     "metadata": {},
     "output_type": "execute_result"
    }
   ],
   "source": [
    "find_first_duplicate('calamary')"
   ]
  },
  {
   "cell_type": "code",
   "execution_count": 4,
   "metadata": {},
   "outputs": [
    {
     "name": "stdout",
     "output_type": "stream",
     "text": [
      "Passed!\n",
      "Passed!\n",
      "Passed!\n"
     ]
    }
   ],
   "source": [
    "if find_first_duplicate('processor') == 'r':\n",
    "    print('Passed!')\n",
    "else:\n",
    "    print(\"For argument 'processor' expected the function to return 'r'\")\n",
    "    print('Your function returned:', find_first_duplicate('procesor'))\n",
    "\n",
    "if find_first_duplicate('monitor') == 'o':\n",
    "    print('Passed!')\n",
    "else:\n",
    "    print(\"For argument 'monitor' expected the function to return 'o'\")\n",
    "    print('Your function returned:', find_first_duplicate('monitor'))\n",
    "\n",
    "if find_first_duplicate('mouse') == None:\n",
    "    print('Passed!')\n",
    "else:\n",
    "    print('For argument \"mouse\" expected the function to return None')\n",
    "    print('Your function returned:', find_first_duplicate('mouse'))"
   ]
  }
 ],
 "metadata": {
  "kernelspec": {
   "display_name": "Python 3",
   "language": "python",
   "name": "python3"
  },
  "language_info": {
   "codemirror_mode": {
    "name": "ipython",
    "version": 3
   },
   "file_extension": ".py",
   "mimetype": "text/x-python",
   "name": "python",
   "nbconvert_exporter": "python",
   "pygments_lexer": "ipython3",
   "version": "3.11.5"
  }
 },
 "nbformat": 4,
 "nbformat_minor": 4
}

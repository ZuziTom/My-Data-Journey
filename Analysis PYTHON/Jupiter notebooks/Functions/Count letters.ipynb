{
 "cells": [
  {
   "cell_type": "markdown",
   "metadata": {},
   "source": [
    "# Exercise 1\n",
    "\n",
    "Write a `count_letters(text)` function that take a string as an argument and return a dictionary with the string characters as keys and the number of occurrences as values.\n",
    "\n",
    "Example:\n",
    "```python\n",
    "print(count_letters('Katharina'))\n",
    "```\n",
    "\n",
    "Result:\n",
    "```\n",
    "{'K': 1, 'a': 3, 't': 2, 'h': 1, 'r': r, 'i': 1, 'n': 1}\n",
    "```"
   ]
  },
  {
   "cell_type": "code",
   "execution_count": 7,
   "metadata": {},
   "outputs": [],
   "source": [
    "# Write the \"count_letters\" function here\n",
    "\n",
    "\n",
    "def count_letters(text):\n",
    "    pocitadlo = {}\n",
    "    for letter in text:\n",
    "        if letter not in pocitadlo:\n",
    "            pocitadlo[letter] = 1\n",
    "        else:\n",
    "            pocitadlo[letter] = pocitadlo[letter] + 1\n",
    "    return pocitadlo\n"
   ]
  },
  {
   "cell_type": "code",
   "execution_count": 8,
   "metadata": {},
   "outputs": [
    {
     "data": {
      "text/plain": [
       "{'A': 1, 'n': 2, 'a': 1}"
      ]
     },
     "execution_count": 8,
     "metadata": {},
     "output_type": "execute_result"
    }
   ],
   "source": [
    "count_letters('Anna')"
   ]
  },
  {
   "cell_type": "code",
   "execution_count": 9,
   "metadata": {},
   "outputs": [
    {
     "name": "stdout",
     "output_type": "stream",
     "text": [
      "Passed!\n",
      "Passed!\n"
     ]
    }
   ],
   "source": [
    "if count_letters('Anna') == {'A': 1, 'n': 2, 'a': 1}:\n",
    "    print('Passed!')\n",
    "else:\n",
    "    print(\"For argument 'Anna' expected the function to return {'A': 1, 'n': 2, 'a': 1} (the order of the letters is not important, counting them is)\")\n",
    "    print('Your function returned:', count_letters('Anna'))\n",
    "\n",
    "if count_letters('Kayak') == {'K': 1, 'a': 2, 'y': 1, 'k': 1}:\n",
    "    print('Passed!')\n",
    "else:\n",
    "    print(\"For argument 'Kayak' expected the function to return {'K': 1, 'a': 2, 'y': 1, 'k': 1} (the order of the letters is not important, counting them is)\")\n",
    "    print('Your function returned:', count_letters('Kayak'))\n"
   ]
  }
 ],
 "metadata": {
  "kernelspec": {
   "display_name": "Python 3",
   "language": "python",
   "name": "python3"
  },
  "language_info": {
   "codemirror_mode": {
    "name": "ipython",
    "version": 3
   },
   "file_extension": ".py",
   "mimetype": "text/x-python",
   "name": "python",
   "nbconvert_exporter": "python",
   "pygments_lexer": "ipython3",
   "version": "3.11.5"
  }
 },
 "nbformat": 4,
 "nbformat_minor": 4
}

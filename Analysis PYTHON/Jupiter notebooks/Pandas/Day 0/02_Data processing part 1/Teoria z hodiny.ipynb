{
 "cells": [
  {
   "cell_type": "markdown",
   "id": "modern-metadata",
   "metadata": {},
   "source": [
    "# Teoria\n"
   ]
  },
  {
   "cell_type": "code",
   "execution_count": 18,
   "id": "brief-cuisine",
   "metadata": {},
   "outputs": [
    {
     "data": {
      "text/html": [
       "<div>\n",
       "<style scoped>\n",
       "    .dataframe tbody tr th:only-of-type {\n",
       "        vertical-align: middle;\n",
       "    }\n",
       "\n",
       "    .dataframe tbody tr th {\n",
       "        vertical-align: top;\n",
       "    }\n",
       "\n",
       "    .dataframe thead th {\n",
       "        text-align: right;\n",
       "    }\n",
       "</style>\n",
       "<table border=\"1\" class=\"dataframe\">\n",
       "  <thead>\n",
       "    <tr style=\"text-align: right;\">\n",
       "      <th></th>\n",
       "      <th>province</th>\n",
       "      <th>product_types</th>\n",
       "      <th>currency</th>\n",
       "      <th>product_group_id</th>\n",
       "      <th>product_line</th>\n",
       "      <th>value</th>\n",
       "      <th>date</th>\n",
       "    </tr>\n",
       "  </thead>\n",
       "  <tbody>\n",
       "    <tr>\n",
       "      <th>0</th>\n",
       "      <td>SUBCARPATHIA</td>\n",
       "      <td>NaN</td>\n",
       "      <td>PLN</td>\n",
       "      <td>2</td>\n",
       "      <td>pork ham cooked - per 1kg</td>\n",
       "      <td>21.37</td>\n",
       "      <td>2013-3</td>\n",
       "    </tr>\n",
       "    <tr>\n",
       "      <th>1</th>\n",
       "      <td>ŁÓDŹ</td>\n",
       "      <td>NaN</td>\n",
       "      <td>PLN</td>\n",
       "      <td>4</td>\n",
       "      <td>bread - per 1kg</td>\n",
       "      <td>NaN</td>\n",
       "      <td>2018-2</td>\n",
       "    </tr>\n",
       "    <tr>\n",
       "      <th>2</th>\n",
       "      <td>KUYAVIA-POMERANIA</td>\n",
       "      <td>NaN</td>\n",
       "      <td>PLN</td>\n",
       "      <td>2</td>\n",
       "      <td>barley groats sausage - per 1kg</td>\n",
       "      <td>3.55</td>\n",
       "      <td>2019-12</td>\n",
       "    </tr>\n",
       "    <tr>\n",
       "      <th>3</th>\n",
       "      <td>LOWER SILESIA</td>\n",
       "      <td>NaN</td>\n",
       "      <td>PLN</td>\n",
       "      <td>2</td>\n",
       "      <td>dressed chickens - per 1kg</td>\n",
       "      <td>6.14</td>\n",
       "      <td>2019-2</td>\n",
       "    </tr>\n",
       "    <tr>\n",
       "      <th>4</th>\n",
       "      <td>WARMIA-MASURIA</td>\n",
       "      <td>NaN</td>\n",
       "      <td>PLN</td>\n",
       "      <td>2</td>\n",
       "      <td>Italian head cheese - per 1kg</td>\n",
       "      <td>5.63</td>\n",
       "      <td>2002-3</td>\n",
       "    </tr>\n",
       "  </tbody>\n",
       "</table>\n",
       "</div>"
      ],
      "text/plain": [
       "            province product_types currency  product_group_id  \\\n",
       "0       SUBCARPATHIA           NaN      PLN                 2   \n",
       "1               ŁÓDŹ           NaN      PLN                 4   \n",
       "2  KUYAVIA-POMERANIA           NaN      PLN                 2   \n",
       "3      LOWER SILESIA           NaN      PLN                 2   \n",
       "4     WARMIA-MASURIA           NaN      PLN                 2   \n",
       "\n",
       "                      product_line  value     date  \n",
       "0        pork ham cooked - per 1kg  21.37   2013-3  \n",
       "1                  bread - per 1kg    NaN   2018-2  \n",
       "2  barley groats sausage - per 1kg   3.55  2019-12  \n",
       "3       dressed chickens - per 1kg   6.14   2019-2  \n",
       "4    Italian head cheese - per 1kg   5.63   2002-3  "
      ]
     },
     "execution_count": 18,
     "metadata": {},
     "output_type": "execute_result"
    }
   ],
   "source": [
    "import pandas as pd\n",
    "\n",
    "df = pd.read_csv('../../01_Data/product_prices_renamed.csv', sep=';', decimal=',')\n",
    "\n",
    "df.head()"
   ]
  },
  {
   "cell_type": "code",
   "execution_count": 13,
   "id": "886bc5c3",
   "metadata": {},
   "outputs": [
    {
     "data": {
      "text/plain": [
       "149940"
      ]
     },
     "execution_count": 13,
     "metadata": {},
     "output_type": "execute_result"
    }
   ],
   "source": [
    "# Number of rows in the input\n",
    "\n",
    "all_rows = df.shape[0]  \n",
    "\n",
    "all_rows\n"
   ]
  },
  {
   "cell_type": "code",
   "execution_count": 10,
   "id": "fd45a094",
   "metadata": {},
   "outputs": [
    {
     "name": "stdout",
     "output_type": "stream",
     "text": [
      "149940\n"
     ]
    }
   ],
   "source": [
    "print(df.shape[0])"
   ]
  },
  {
   "cell_type": "code",
   "execution_count": 7,
   "id": "803a9d2c",
   "metadata": {},
   "outputs": [
    {
     "data": {
      "text/plain": [
       "128520"
      ]
     },
     "execution_count": 7,
     "metadata": {},
     "output_type": "execute_result"
    }
   ],
   "source": [
    "# Number of rows after cleaning duplicates BUT leaving only the first occurrence of a duplicate (in this case we operate on the full set of columns)\n",
    "\n",
    "df_duplicates = df.drop_duplicates()\n",
    " \n",
    "rows = df_duplicates.shape[0]\n",
    "rows"
   ]
  },
  {
   "cell_type": "code",
   "execution_count": 11,
   "id": "ade7685b",
   "metadata": {},
   "outputs": [
    {
     "name": "stdout",
     "output_type": "stream",
     "text": [
      "128520\n"
     ]
    }
   ],
   "source": [
    "print(df.drop_duplicates().shape[0])"
   ]
  },
  {
   "cell_type": "code",
   "execution_count": 9,
   "id": "fa17e7eb",
   "metadata": {},
   "outputs": [
    {
     "data": {
      "text/plain": [
       "False"
      ]
     },
     "execution_count": 9,
     "metadata": {},
     "output_type": "execute_result"
    }
   ],
   "source": [
    "rows = all_rows == rows  # we check if the number of rows is the same\n",
    "\n",
    "rows"
   ]
  },
  {
   "cell_type": "code",
   "execution_count": 14,
   "id": "5fbe35f3",
   "metadata": {},
   "outputs": [
    {
     "name": "stdout",
     "output_type": "stream",
     "text": [
      "False\n"
     ]
    }
   ],
   "source": [
    "print(all_rows == rows)"
   ]
  },
  {
   "cell_type": "markdown",
   "id": "890ca8be",
   "metadata": {},
   "source": [
    "Najjednoduhsi zapis"
   ]
  },
  {
   "cell_type": "code",
   "execution_count": 17,
   "id": "c8032a39",
   "metadata": {},
   "outputs": [
    {
     "name": "stdout",
     "output_type": "stream",
     "text": [
      "149940\n",
      "128520\n",
      "False\n"
     ]
    }
   ],
   "source": [
    "all_rows = df.shape[0]\n",
    "print(all_rows)\n",
    "cleaned_rows = df.drop_duplicates().shape[0]\n",
    "print(cleaned_rows)\n",
    "check = all_rows == cleaned_rows\n",
    "\n",
    "print(check)\n"
   ]
  },
  {
   "cell_type": "markdown",
   "id": "b019bb16",
   "metadata": {},
   "source": [
    "PROCESSING DATA PART 2"
   ]
  },
  {
   "cell_type": "code",
   "execution_count": 19,
   "id": "df7f9792",
   "metadata": {},
   "outputs": [
    {
     "data": {
      "text/html": [
       "<div>\n",
       "<style scoped>\n",
       "    .dataframe tbody tr th:only-of-type {\n",
       "        vertical-align: middle;\n",
       "    }\n",
       "\n",
       "    .dataframe tbody tr th {\n",
       "        vertical-align: top;\n",
       "    }\n",
       "\n",
       "    .dataframe thead th {\n",
       "        text-align: right;\n",
       "    }\n",
       "</style>\n",
       "<table border=\"1\" class=\"dataframe\">\n",
       "  <thead>\n",
       "    <tr style=\"text-align: right;\">\n",
       "      <th></th>\n",
       "      <th>province</th>\n",
       "      <th>product_types</th>\n",
       "      <th>currency</th>\n",
       "      <th>product_group_id</th>\n",
       "      <th>product_line</th>\n",
       "      <th>value</th>\n",
       "      <th>date</th>\n",
       "    </tr>\n",
       "  </thead>\n",
       "  <tbody>\n",
       "    <tr>\n",
       "      <th>0</th>\n",
       "      <td>SUBCARPATHIA</td>\n",
       "      <td>NaN</td>\n",
       "      <td>PLN</td>\n",
       "      <td>2</td>\n",
       "      <td>pork ham cooked - per 1kg</td>\n",
       "      <td>21.37</td>\n",
       "      <td>2013-3</td>\n",
       "    </tr>\n",
       "    <tr>\n",
       "      <th>1</th>\n",
       "      <td>ŁÓDŹ</td>\n",
       "      <td>NaN</td>\n",
       "      <td>PLN</td>\n",
       "      <td>4</td>\n",
       "      <td>bread - per 1kg</td>\n",
       "      <td>NaN</td>\n",
       "      <td>2018-2</td>\n",
       "    </tr>\n",
       "    <tr>\n",
       "      <th>2</th>\n",
       "      <td>KUYAVIA-POMERANIA</td>\n",
       "      <td>NaN</td>\n",
       "      <td>PLN</td>\n",
       "      <td>2</td>\n",
       "      <td>barley groats sausage - per 1kg</td>\n",
       "      <td>3.55</td>\n",
       "      <td>2019-12</td>\n",
       "    </tr>\n",
       "    <tr>\n",
       "      <th>3</th>\n",
       "      <td>LOWER SILESIA</td>\n",
       "      <td>NaN</td>\n",
       "      <td>PLN</td>\n",
       "      <td>2</td>\n",
       "      <td>dressed chickens - per 1kg</td>\n",
       "      <td>6.14</td>\n",
       "      <td>2019-2</td>\n",
       "    </tr>\n",
       "    <tr>\n",
       "      <th>4</th>\n",
       "      <td>WARMIA-MASURIA</td>\n",
       "      <td>NaN</td>\n",
       "      <td>PLN</td>\n",
       "      <td>2</td>\n",
       "      <td>Italian head cheese - per 1kg</td>\n",
       "      <td>5.63</td>\n",
       "      <td>2002-3</td>\n",
       "    </tr>\n",
       "  </tbody>\n",
       "</table>\n",
       "</div>"
      ],
      "text/plain": [
       "            province product_types currency  product_group_id  \\\n",
       "0       SUBCARPATHIA           NaN      PLN                 2   \n",
       "1               ŁÓDŹ           NaN      PLN                 4   \n",
       "2  KUYAVIA-POMERANIA           NaN      PLN                 2   \n",
       "3      LOWER SILESIA           NaN      PLN                 2   \n",
       "4     WARMIA-MASURIA           NaN      PLN                 2   \n",
       "\n",
       "                      product_line  value     date  \n",
       "0        pork ham cooked - per 1kg  21.37   2013-3  \n",
       "1                  bread - per 1kg    NaN   2018-2  \n",
       "2  barley groats sausage - per 1kg   3.55  2019-12  \n",
       "3       dressed chickens - per 1kg   6.14   2019-2  \n",
       "4    Italian head cheese - per 1kg   5.63   2002-3  "
      ]
     },
     "execution_count": 19,
     "metadata": {},
     "output_type": "execute_result"
    }
   ],
   "source": [
    "import pandas as pd\n",
    "\n",
    "df = pd.read_csv('../../01_Data/product_prices_renamed.csv', sep=';', decimal=',')\n",
    "\n",
    "df.head()"
   ]
  },
  {
   "cell_type": "code",
   "execution_count": 23,
   "id": "2ac69fc2",
   "metadata": {},
   "outputs": [
    {
     "data": {
      "text/plain": [
       "149940"
      ]
     },
     "execution_count": 23,
     "metadata": {},
     "output_type": "execute_result"
    }
   ],
   "source": [
    "raw_rows = df.shape[0] # starting number of rows\n",
    "raw_rows"
   ]
  },
  {
   "cell_type": "code",
   "execution_count": 24,
   "id": "35a18df2",
   "metadata": {},
   "outputs": [
    {
     "data": {
      "text/plain": [
       "137088"
      ]
     },
     "execution_count": 24,
     "metadata": {},
     "output_type": "execute_result"
    }
   ],
   "source": [
    "notnull_rows = df.dropna(subset=['value']).shape[0]  # count of rows after removing empty values\n",
    "notnull_rows\n"
   ]
  },
  {
   "cell_type": "code",
   "execution_count": 22,
   "id": "46098dd4",
   "metadata": {},
   "outputs": [
    {
     "data": {
      "text/plain": [
       "12852"
      ]
     },
     "execution_count": 22,
     "metadata": {},
     "output_type": "execute_result"
    }
   ],
   "source": [
    "raw_rows - notnull_rows"
   ]
  }
 ],
 "metadata": {
  "kernelspec": {
   "display_name": "Python 3",
   "language": "python",
   "name": "python3"
  },
  "language_info": {
   "codemirror_mode": {
    "name": "ipython",
    "version": 3
   },
   "file_extension": ".py",
   "mimetype": "text/x-python",
   "name": "python",
   "nbconvert_exporter": "python",
   "pygments_lexer": "ipython3",
   "version": "3.11.5"
  }
 },
 "nbformat": 4,
 "nbformat_minor": 5
}

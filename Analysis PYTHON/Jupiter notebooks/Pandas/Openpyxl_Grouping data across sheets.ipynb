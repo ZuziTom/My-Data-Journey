{
 "cells": [
  {
   "cell_type": "markdown",
   "id": "atomic-chest",
   "metadata": {},
   "source": [
    "# Grouping data across sheets\n",
    "\n",
    "Modify the previous exercise so that each product group is in a separate worksheet together with the corresponding `product_group_id`. For example\n",
    "`product_group_id` 1 should go to the sheet named `1`.\n",
    "\n",
    "Use the method to create a new workbook:\n",
    "```\n",
    "wb.create_sheet(name, index)\n",
    "```\n",
    "Where:\n",
    "- `name` - is the name of the workbook, where we want to save the data (should be a string),\n",
    "- `index` - is the worksheet position in the workbook."
   ]
  },
  {
   "cell_type": "code",
   "execution_count": 1,
   "id": "hybrid-shepherd",
   "metadata": {},
   "outputs": [],
   "source": [
    "import pandas as pd\n",
    "import openpyxl\n",
    "from openpyxl.utils.dataframe import dataframe_to_rows"
   ]
  },
  {
   "cell_type": "code",
   "execution_count": 2,
   "id": "6f373620",
   "metadata": {},
   "outputs": [],
   "source": [
    "# Load the CSV data into a DataFrame\n",
    "df = pd.read_csv('../../01_Data/product_prices_cleaned.csv', sep=',')"
   ]
  },
  {
   "cell_type": "code",
   "execution_count": 3,
   "id": "946c21fa",
   "metadata": {},
   "outputs": [],
   "source": [
    "# Create a new workbook\n",
    "wb = openpyxl.Workbook()\n",
    "# wb.remove(wb.active)\n",
    "\n",
    "for group_id, df in df.groupby('product_group_id'):\n",
    "    ws = wb.create_sheet(str(group_id))\n",
    "    for row in dataframe_to_rows(df, index=False, header=True):\n",
    "        ws.append(row)"
   ]
  },
  {
   "cell_type": "code",
   "execution_count": 4,
   "id": "cb53127c",
   "metadata": {},
   "outputs": [],
   "source": [
    "# Save the workbook\n",
    "wb.save('../../01_Data/product_prices_grouped.xlsx')"
   ]
  }
 ],
 "metadata": {
  "kernelspec": {
   "display_name": "Python 3",
   "language": "python",
   "name": "python3"
  },
  "language_info": {
   "codemirror_mode": {
    "name": "ipython",
    "version": 3
   },
   "file_extension": ".py",
   "mimetype": "text/x-python",
   "name": "python",
   "nbconvert_exporter": "python",
   "pygments_lexer": "ipython3",
   "version": "3.11.5"
  }
 },
 "nbformat": 4,
 "nbformat_minor": 5
}

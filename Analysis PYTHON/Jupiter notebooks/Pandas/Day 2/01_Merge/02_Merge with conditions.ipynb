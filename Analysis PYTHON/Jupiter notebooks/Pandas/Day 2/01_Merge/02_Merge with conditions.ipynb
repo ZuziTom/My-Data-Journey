{
 "cells": [
  {
   "cell_type": "markdown",
   "id": "wicked-luther",
   "metadata": {},
   "source": [
    "# Merge with conditions\n",
    "\n",
    "Using the raw data from the **product_prices_cleaned.csv** file, perform the task of finding out how many times a lower price has been quoted for a given product, province, month historically. To do this, perform the following steps:\n",
    "\n",
    "1. merge the table with itself. What type of join should be used?\n",
    "1. filter the data to find earlier years and the values smaller than the one from current year in a given province.\n",
    "1. group the data accordingly.\n",
    "\n",
    "Which product(s) had the most such occurrences?\n",
    "\n",
    "> See what happens to the column names when the columns are not used as a merge condition, but have the same names"
   ]
  },
  {
   "cell_type": "code",
   "execution_count": 2,
   "id": "af3fe402",
   "metadata": {},
   "outputs": [],
   "source": [
    "import pandas as pd"
   ]
  },
  {
   "cell_type": "code",
   "execution_count": 3,
   "id": "be2b0f54",
   "metadata": {
    "scrolled": false
   },
   "outputs": [
    {
     "name": "stdout",
     "output_type": "stream",
     "text": [
      "(128503, 4)\n"
     ]
    },
    {
     "data": {
      "text/html": [
       "<div>\n",
       "<style scoped>\n",
       "    .dataframe tbody tr th:only-of-type {\n",
       "        vertical-align: middle;\n",
       "    }\n",
       "\n",
       "    .dataframe tbody tr th {\n",
       "        vertical-align: top;\n",
       "    }\n",
       "\n",
       "    .dataframe thead th {\n",
       "        text-align: right;\n",
       "    }\n",
       "</style>\n",
       "<table border=\"1\" class=\"dataframe\">\n",
       "  <thead>\n",
       "    <tr style=\"text-align: right;\">\n",
       "      <th></th>\n",
       "      <th>province</th>\n",
       "      <th>product</th>\n",
       "      <th>value</th>\n",
       "      <th>date</th>\n",
       "    </tr>\n",
       "  </thead>\n",
       "  <tbody>\n",
       "    <tr>\n",
       "      <th>0</th>\n",
       "      <td>SUBCARPATHIA</td>\n",
       "      <td>pork ham cooked - per 1kg</td>\n",
       "      <td>21.37</td>\n",
       "      <td>2013-3</td>\n",
       "    </tr>\n",
       "    <tr>\n",
       "      <th>1</th>\n",
       "      <td>ŁÓDŹ</td>\n",
       "      <td>bread - per 1kg</td>\n",
       "      <td>NaN</td>\n",
       "      <td>2018-2</td>\n",
       "    </tr>\n",
       "    <tr>\n",
       "      <th>2</th>\n",
       "      <td>KUYAVIA-POMERANIA</td>\n",
       "      <td>barley groats sausage - per 1kg</td>\n",
       "      <td>3.55</td>\n",
       "      <td>2019-12</td>\n",
       "    </tr>\n",
       "    <tr>\n",
       "      <th>3</th>\n",
       "      <td>LOWER SILESIA</td>\n",
       "      <td>dressed chickens - per 1kg</td>\n",
       "      <td>6.14</td>\n",
       "      <td>2019-2</td>\n",
       "    </tr>\n",
       "    <tr>\n",
       "      <th>4</th>\n",
       "      <td>WARMIA-MASURIA</td>\n",
       "      <td>Italian head cheese - per 1kg</td>\n",
       "      <td>5.63</td>\n",
       "      <td>2002-3</td>\n",
       "    </tr>\n",
       "  </tbody>\n",
       "</table>\n",
       "</div>"
      ],
      "text/plain": [
       "            province                          product  value     date\n",
       "0       SUBCARPATHIA        pork ham cooked - per 1kg  21.37   2013-3\n",
       "1               ŁÓDŹ                  bread - per 1kg    NaN   2018-2\n",
       "2  KUYAVIA-POMERANIA  barley groats sausage - per 1kg   3.55  2019-12\n",
       "3      LOWER SILESIA       dressed chickens - per 1kg   6.14   2019-2\n",
       "4     WARMIA-MASURIA    Italian head cheese - per 1kg   5.63   2002-3"
      ]
     },
     "execution_count": 3,
     "metadata": {},
     "output_type": "execute_result"
    }
   ],
   "source": [
    "df = pd.read_csv('../../01_Data/product_prices_cleaned.csv', sep=';')\n",
    "df = df[['province', 'product', 'value', 'date']]\n",
    "print(df.shape)\n",
    "df.head()"
   ]
  },
  {
   "cell_type": "code",
   "execution_count": 4,
   "id": "f2cf25d8",
   "metadata": {
    "scrolled": false
   },
   "outputs": [
    {
     "name": "stdout",
     "output_type": "stream",
     "text": [
      "(32378489, 6)\n",
      "CPU times: user 1.85 s, sys: 1.38 s, total: 3.23 s\n",
      "Wall time: 4.1 s\n"
     ]
    },
    {
     "data": {
      "text/html": [
       "<div>\n",
       "<style scoped>\n",
       "    .dataframe tbody tr th:only-of-type {\n",
       "        vertical-align: middle;\n",
       "    }\n",
       "\n",
       "    .dataframe tbody tr th {\n",
       "        vertical-align: top;\n",
       "    }\n",
       "\n",
       "    .dataframe thead th {\n",
       "        text-align: right;\n",
       "    }\n",
       "</style>\n",
       "<table border=\"1\" class=\"dataframe\">\n",
       "  <thead>\n",
       "    <tr style=\"text-align: right;\">\n",
       "      <th></th>\n",
       "      <th>province</th>\n",
       "      <th>product</th>\n",
       "      <th>value_x</th>\n",
       "      <th>date_x</th>\n",
       "      <th>value_y</th>\n",
       "      <th>date_y</th>\n",
       "    </tr>\n",
       "  </thead>\n",
       "  <tbody>\n",
       "    <tr>\n",
       "      <th>0</th>\n",
       "      <td>SUBCARPATHIA</td>\n",
       "      <td>pork ham cooked - per 1kg</td>\n",
       "      <td>21.37</td>\n",
       "      <td>2013-3</td>\n",
       "      <td>21.37</td>\n",
       "      <td>2013-3</td>\n",
       "    </tr>\n",
       "    <tr>\n",
       "      <th>1</th>\n",
       "      <td>SUBCARPATHIA</td>\n",
       "      <td>pork ham cooked - per 1kg</td>\n",
       "      <td>21.37</td>\n",
       "      <td>2013-3</td>\n",
       "      <td>15.76</td>\n",
       "      <td>2007-1</td>\n",
       "    </tr>\n",
       "    <tr>\n",
       "      <th>2</th>\n",
       "      <td>SUBCARPATHIA</td>\n",
       "      <td>pork ham cooked - per 1kg</td>\n",
       "      <td>21.37</td>\n",
       "      <td>2013-3</td>\n",
       "      <td>20.88</td>\n",
       "      <td>2019-10</td>\n",
       "    </tr>\n",
       "    <tr>\n",
       "      <th>3</th>\n",
       "      <td>SUBCARPATHIA</td>\n",
       "      <td>pork ham cooked - per 1kg</td>\n",
       "      <td>21.37</td>\n",
       "      <td>2013-3</td>\n",
       "      <td>16.26</td>\n",
       "      <td>2010-4</td>\n",
       "    </tr>\n",
       "    <tr>\n",
       "      <th>4</th>\n",
       "      <td>SUBCARPATHIA</td>\n",
       "      <td>pork ham cooked - per 1kg</td>\n",
       "      <td>21.37</td>\n",
       "      <td>2013-3</td>\n",
       "      <td>17.52</td>\n",
       "      <td>2011-5</td>\n",
       "    </tr>\n",
       "  </tbody>\n",
       "</table>\n",
       "</div>"
      ],
      "text/plain": [
       "       province                    product  value_x  date_x  value_y   date_y\n",
       "0  SUBCARPATHIA  pork ham cooked - per 1kg    21.37  2013-3    21.37   2013-3\n",
       "1  SUBCARPATHIA  pork ham cooked - per 1kg    21.37  2013-3    15.76   2007-1\n",
       "2  SUBCARPATHIA  pork ham cooked - per 1kg    21.37  2013-3    20.88  2019-10\n",
       "3  SUBCARPATHIA  pork ham cooked - per 1kg    21.37  2013-3    16.26   2010-4\n",
       "4  SUBCARPATHIA  pork ham cooked - per 1kg    21.37  2013-3    17.52   2011-5"
      ]
     },
     "execution_count": 4,
     "metadata": {},
     "output_type": "execute_result"
    }
   ],
   "source": [
    "%%time\n",
    "# Merge the table with itself\n",
    "# See what happens to the column names when the columns are not used as a merge condition, but have the same names\n",
    "\n",
    "merged_df = pd.merge(df, df, on=['province', 'product'], how='left')\n",
    "\n",
    "# merged_df = pd.merge(left=df, right=df, how='cross')\n",
    "\n",
    "print(merged_df.shape)\n",
    "merged_df.head()"
   ]
  },
  {
   "cell_type": "code",
   "execution_count": 7,
   "id": "c87d89c8",
   "metadata": {},
   "outputs": [],
   "source": [
    "# Filter the data to find earlier years and the values smaller than the one from current year in a given province.\n",
    "\n",
    "filtered_df = merged_df.loc[\n",
    "    (merged_df['value_y'] < merged_df['value_x'])\n",
    "#     & (merged_df['date_y'] < merged_df['date_x'])\n",
    "    & (merged_df['date_x'] == merged_df['date_x'].max()) \n",
    "    \n",
    "]"
   ]
  },
  {
   "cell_type": "markdown",
   "id": "94f8a62d",
   "metadata": {},
   "source": []
  },
  {
   "cell_type": "code",
   "execution_count": 9,
   "id": "fcd16216",
   "metadata": {
    "scrolled": false
   },
   "outputs": [
    {
     "data": {
      "text/html": [
       "<div>\n",
       "<style scoped>\n",
       "    .dataframe tbody tr th:only-of-type {\n",
       "        vertical-align: middle;\n",
       "    }\n",
       "\n",
       "    .dataframe tbody tr th {\n",
       "        vertical-align: top;\n",
       "    }\n",
       "\n",
       "    .dataframe thead th {\n",
       "        text-align: right;\n",
       "    }\n",
       "</style>\n",
       "<table border=\"1\" class=\"dataframe\">\n",
       "  <thead>\n",
       "    <tr style=\"text-align: right;\">\n",
       "      <th></th>\n",
       "      <th>product</th>\n",
       "      <th>province</th>\n",
       "      <th>occurrences</th>\n",
       "    </tr>\n",
       "  </thead>\n",
       "  <tbody>\n",
       "    <tr>\n",
       "      <th>0</th>\n",
       "      <td>30% tomato concentrate - per 1kg</td>\n",
       "      <td>GREATER POLAND</td>\n",
       "      <td>2</td>\n",
       "    </tr>\n",
       "    <tr>\n",
       "      <th>1</th>\n",
       "      <td>30% tomato concentrate - per 1kg</td>\n",
       "      <td>LESSER POLAND</td>\n",
       "      <td>66</td>\n",
       "    </tr>\n",
       "    <tr>\n",
       "      <th>2</th>\n",
       "      <td>30% tomato concentrate - per 1kg</td>\n",
       "      <td>LOWER SILESIA</td>\n",
       "      <td>192</td>\n",
       "    </tr>\n",
       "    <tr>\n",
       "      <th>3</th>\n",
       "      <td>30% tomato concentrate - per 1kg</td>\n",
       "      <td>LUBUSZ</td>\n",
       "      <td>247</td>\n",
       "    </tr>\n",
       "    <tr>\n",
       "      <th>4</th>\n",
       "      <td>30% tomato concentrate - per 1kg</td>\n",
       "      <td>MASOVIA</td>\n",
       "      <td>27</td>\n",
       "    </tr>\n",
       "    <tr>\n",
       "      <th>...</th>\n",
       "      <td>...</td>\n",
       "      <td>...</td>\n",
       "      <td>...</td>\n",
       "    </tr>\n",
       "    <tr>\n",
       "      <th>387</th>\n",
       "      <td>whole pickled cucumbers 0.9l - per 1pc.</td>\n",
       "      <td>POMERANIA</td>\n",
       "      <td>79</td>\n",
       "    </tr>\n",
       "    <tr>\n",
       "      <th>388</th>\n",
       "      <td>whole pickled cucumbers 0.9l - per 1pc.</td>\n",
       "      <td>SILESIA</td>\n",
       "      <td>6</td>\n",
       "    </tr>\n",
       "    <tr>\n",
       "      <th>389</th>\n",
       "      <td>whole pickled cucumbers 0.9l - per 1pc.</td>\n",
       "      <td>SUBCARPATHIA</td>\n",
       "      <td>230</td>\n",
       "    </tr>\n",
       "    <tr>\n",
       "      <th>390</th>\n",
       "      <td>whole pickled cucumbers 0.9l - per 1pc.</td>\n",
       "      <td>WARMIA-MASURIA</td>\n",
       "      <td>240</td>\n",
       "    </tr>\n",
       "    <tr>\n",
       "      <th>391</th>\n",
       "      <td>whole pickled cucumbers 0.9l - per 1pc.</td>\n",
       "      <td>ŁÓDŹ</td>\n",
       "      <td>136</td>\n",
       "    </tr>\n",
       "  </tbody>\n",
       "</table>\n",
       "<p>392 rows × 3 columns</p>\n",
       "</div>"
      ],
      "text/plain": [
       "                                     product        province  occurrences\n",
       "0           30% tomato concentrate - per 1kg  GREATER POLAND            2\n",
       "1           30% tomato concentrate - per 1kg   LESSER POLAND           66\n",
       "2           30% tomato concentrate - per 1kg   LOWER SILESIA          192\n",
       "3           30% tomato concentrate - per 1kg          LUBUSZ          247\n",
       "4           30% tomato concentrate - per 1kg         MASOVIA           27\n",
       "..                                       ...             ...          ...\n",
       "387  whole pickled cucumbers 0.9l - per 1pc.       POMERANIA           79\n",
       "388  whole pickled cucumbers 0.9l - per 1pc.         SILESIA            6\n",
       "389  whole pickled cucumbers 0.9l - per 1pc.    SUBCARPATHIA          230\n",
       "390  whole pickled cucumbers 0.9l - per 1pc.  WARMIA-MASURIA          240\n",
       "391  whole pickled cucumbers 0.9l - per 1pc.            ŁÓDŹ          136\n",
       "\n",
       "[392 rows x 3 columns]"
      ]
     },
     "execution_count": 9,
     "metadata": {},
     "output_type": "execute_result"
    }
   ],
   "source": [
    "# Grouping the data to find occurrences\n",
    "grouped_data = filtered_df.groupby(['product', 'province']).size().reset_index(name='occurrences')\n",
    "\n",
    "grouped_data"
   ]
  },
  {
   "cell_type": "code",
   "execution_count": 10,
   "id": "c3fbafcd",
   "metadata": {},
   "outputs": [
    {
     "data": {
      "text/plain": [
       "product\n",
       "plain mixed bread (wheat-rye) - per 1kg     3720\n",
       "pork ham cooked - per 1kg                   3363\n",
       "pork belly cooked - per 1kg                 3334\n",
       "pork meat with bone (shoulder) - per 1kg    2609\n",
       "Italian head cheese - per 1kg               2540\n",
       "Name: occurrences, dtype: int64"
      ]
     },
     "execution_count": 10,
     "metadata": {},
     "output_type": "execute_result"
    }
   ],
   "source": [
    "# Finding which product(s) had the most such occurrences\n",
    "most_occurrences = grouped_data.groupby('product')['occurrences'].sum().sort_values(ascending=False)\n",
    "\n",
    "most_occurrences.head()\n"
   ]
  },
  {
   "cell_type": "code",
   "execution_count": null,
   "id": "fb8ddb76",
   "metadata": {},
   "outputs": [],
   "source": []
  }
 ],
 "metadata": {
  "kernelspec": {
   "display_name": "Python 3 (ipykernel)",
   "language": "python",
   "name": "python3"
  },
  "language_info": {
   "codemirror_mode": {
    "name": "ipython",
    "version": 3
   },
   "file_extension": ".py",
   "mimetype": "text/x-python",
   "name": "python",
   "nbconvert_exporter": "python",
   "pygments_lexer": "ipython3",
   "version": "3.11.5"
  }
 },
 "nbformat": 4,
 "nbformat_minor": 5
}

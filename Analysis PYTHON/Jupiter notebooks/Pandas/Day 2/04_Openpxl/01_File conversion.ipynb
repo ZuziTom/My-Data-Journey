{
 "cells": [
  {
   "cell_type": "markdown",
   "id": "welsh-flower",
   "metadata": {},
   "source": [
    "# File conversion\n",
    "\n",
    "Using `openpyxl` convert the **product_prices_cleaned.csv** file to an Excel file."
   ]
  },
  {
   "cell_type": "code",
   "execution_count": 1,
   "id": "composed-coast",
   "metadata": {},
   "outputs": [],
   "source": [
    "import pandas as pd\n",
    "import openpyxl\n",
    "from openpyxl.utils.dataframe import dataframe_to_rows"
   ]
  },
  {
   "cell_type": "code",
   "execution_count": 2,
   "id": "c89b7ab8",
   "metadata": {
    "scrolled": false
   },
   "outputs": [
    {
     "data": {
      "text/html": [
       "<div>\n",
       "<style scoped>\n",
       "    .dataframe tbody tr th:only-of-type {\n",
       "        vertical-align: middle;\n",
       "    }\n",
       "\n",
       "    .dataframe tbody tr th {\n",
       "        vertical-align: top;\n",
       "    }\n",
       "\n",
       "    .dataframe thead th {\n",
       "        text-align: right;\n",
       "    }\n",
       "</style>\n",
       "<table border=\"1\" class=\"dataframe\">\n",
       "  <thead>\n",
       "    <tr style=\"text-align: right;\">\n",
       "      <th></th>\n",
       "      <th>province</th>\n",
       "      <th>product</th>\n",
       "      <th>value</th>\n",
       "      <th>date</th>\n",
       "      <th>month</th>\n",
       "      <th>quarter</th>\n",
       "      <th>year</th>\n",
       "    </tr>\n",
       "  </thead>\n",
       "  <tbody>\n",
       "    <tr>\n",
       "      <th>0</th>\n",
       "      <td>SUBCARPATHIA</td>\n",
       "      <td>pork ham cooked - per 1kg</td>\n",
       "      <td>21.37</td>\n",
       "      <td>2013-03-01</td>\n",
       "      <td>3</td>\n",
       "      <td>1</td>\n",
       "      <td>2013</td>\n",
       "    </tr>\n",
       "    <tr>\n",
       "      <th>1</th>\n",
       "      <td>ŁÓDŹ</td>\n",
       "      <td>bread - per 1kg</td>\n",
       "      <td>NaN</td>\n",
       "      <td>2018-02-01</td>\n",
       "      <td>2</td>\n",
       "      <td>1</td>\n",
       "      <td>2018</td>\n",
       "    </tr>\n",
       "    <tr>\n",
       "      <th>2</th>\n",
       "      <td>KUYAVIA-POMERANIA</td>\n",
       "      <td>barley groats sausage - per 1kg</td>\n",
       "      <td>3.55</td>\n",
       "      <td>2019-12-01</td>\n",
       "      <td>12</td>\n",
       "      <td>4</td>\n",
       "      <td>2019</td>\n",
       "    </tr>\n",
       "    <tr>\n",
       "      <th>3</th>\n",
       "      <td>LOWER SILESIA</td>\n",
       "      <td>dressed chickens - per 1kg</td>\n",
       "      <td>6.14</td>\n",
       "      <td>2019-02-01</td>\n",
       "      <td>2</td>\n",
       "      <td>1</td>\n",
       "      <td>2019</td>\n",
       "    </tr>\n",
       "    <tr>\n",
       "      <th>4</th>\n",
       "      <td>WARMIA-MASURIA</td>\n",
       "      <td>Italian head cheese - per 1kg</td>\n",
       "      <td>5.63</td>\n",
       "      <td>2002-03-01</td>\n",
       "      <td>3</td>\n",
       "      <td>1</td>\n",
       "      <td>2002</td>\n",
       "    </tr>\n",
       "  </tbody>\n",
       "</table>\n",
       "</div>"
      ],
      "text/plain": [
       "            province                          product  value        date  \\\n",
       "0       SUBCARPATHIA        pork ham cooked - per 1kg  21.37  2013-03-01   \n",
       "1               ŁÓDŹ                  bread - per 1kg    NaN  2018-02-01   \n",
       "2  KUYAVIA-POMERANIA  barley groats sausage - per 1kg   3.55  2019-12-01   \n",
       "3      LOWER SILESIA       dressed chickens - per 1kg   6.14  2019-02-01   \n",
       "4     WARMIA-MASURIA    Italian head cheese - per 1kg   5.63  2002-03-01   \n",
       "\n",
       "   month  quarter  year  \n",
       "0      3        1  2013  \n",
       "1      2        1  2018  \n",
       "2     12        4  2019  \n",
       "3      2        1  2019  \n",
       "4      3        1  2002  "
      ]
     },
     "execution_count": 2,
     "metadata": {},
     "output_type": "execute_result"
    }
   ],
   "source": [
    "df = pd.read_csv('../../01_Data/product_prices_cleaned.csv', sep=';')\n",
    "df.head()"
   ]
  },
  {
   "cell_type": "code",
   "execution_count": 8,
   "id": "45b6a3c5",
   "metadata": {},
   "outputs": [],
   "source": [
    "wb = openpyxl.Workbook()\n",
    "ws = wb.active\n",
    " \n",
    "for i in dataframe_to_rows(df, index=False, header=True):\n",
    "    ws.append(i)  # save data\n",
    " \n",
    "wb.save('../../01_Data/product_prices_cleaned.xlsx')"
   ]
  },
  {
   "cell_type": "code",
   "execution_count": 3,
   "id": "1e24ea93",
   "metadata": {},
   "outputs": [],
   "source": [
    "# Save the DataFrame to an Excel file using openpyxl as the engine\n",
    "# df.to_excel('../../01_Data/product_prices_cleaned.xlsx', index=False, engine='openpyxl')\n"
   ]
  },
  {
   "cell_type": "code",
   "execution_count": null,
   "id": "dcf148cf",
   "metadata": {},
   "outputs": [],
   "source": [
    "import pandas as pd\n",
    "import openpyxl\n",
    "from openpyxl.utils.dataframe import dataframe_to_rows\n",
    "\n",
    "df = pd.read_csv('../../01_Data/product_prices_cleaned.csv', sep=';')\n",
    "\n",
    "wb = openpyxl.Workbook()\n",
    "ws = wb.active\n",
    " \n",
    "for i in dataframe_to_rows(df, index=False, header=True):\n",
    "    ws.append(i)  # save data\n",
    "\n",
    "# SAVE \n",
    "wb.save('../../01_Data/product_prices_cleaned.xlsx')\n",
    "df.to_excel('../../01_Data/product_prices_cleaned.xlsx', index=False, engine='openpyxl')"
   ]
  }
 ],
 "metadata": {
  "kernelspec": {
   "display_name": "Python 3 (ipykernel)",
   "language": "python",
   "name": "python3"
  },
  "language_info": {
   "codemirror_mode": {
    "name": "ipython",
    "version": 3
   },
   "file_extension": ".py",
   "mimetype": "text/x-python",
   "name": "python",
   "nbconvert_exporter": "python",
   "pygments_lexer": "ipython3",
   "version": "3.11.5"
  }
 },
 "nbformat": 4,
 "nbformat_minor": 5
}

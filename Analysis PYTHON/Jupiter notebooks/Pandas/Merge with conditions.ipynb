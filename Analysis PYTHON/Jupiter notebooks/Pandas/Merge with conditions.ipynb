{
 "cells": [
  {
   "cell_type": "markdown",
   "id": "wicked-luther",
   "metadata": {},
   "source": [
    "# Merge with conditions\n",
    "\n",
    "Using the raw data from the **product_prices_cleaned.csv** file, perform the task of finding out how many times a lower price has been quoted for a given product, province, month historically. To do this, perform the following steps:\n",
    "\n",
    "1. merge the table with itself. What type of join should be used?\n",
    "1. filter the data to find earlier years and the values smaller than the one from current year in a given province.\n",
    "1. group the data accordingly.\n",
    "\n",
    "Which product(s) had the most such occurrences?\n",
    "\n",
    "> See what happens to the column names when the columns are not used as a merge condition, but have the same names"
   ]
  },
  {
   "cell_type": "code",
   "execution_count": 3,
   "id": "atlantic-station",
   "metadata": {},
   "outputs": [
    {
     "data": {
      "text/html": [
       "<div>\n",
       "<style scoped>\n",
       "    .dataframe tbody tr th:only-of-type {\n",
       "        vertical-align: middle;\n",
       "    }\n",
       "\n",
       "    .dataframe tbody tr th {\n",
       "        vertical-align: top;\n",
       "    }\n",
       "\n",
       "    .dataframe thead th {\n",
       "        text-align: right;\n",
       "    }\n",
       "</style>\n",
       "<table border=\"1\" class=\"dataframe\">\n",
       "  <thead>\n",
       "    <tr style=\"text-align: right;\">\n",
       "      <th></th>\n",
       "      <th>province</th>\n",
       "      <th>product</th>\n",
       "      <th>value</th>\n",
       "      <th>date</th>\n",
       "    </tr>\n",
       "  </thead>\n",
       "  <tbody>\n",
       "    <tr>\n",
       "      <th>0</th>\n",
       "      <td>SUBCARPATHIA</td>\n",
       "      <td>pork ham cooked - per 1kg</td>\n",
       "      <td>21.37</td>\n",
       "      <td>2013-3</td>\n",
       "    </tr>\n",
       "    <tr>\n",
       "      <th>1</th>\n",
       "      <td>ŁÓDŹ</td>\n",
       "      <td>bread - per 1kg</td>\n",
       "      <td>NaN</td>\n",
       "      <td>2018-2</td>\n",
       "    </tr>\n",
       "    <tr>\n",
       "      <th>2</th>\n",
       "      <td>KUYAVIA-POMERANIA</td>\n",
       "      <td>barley groats sausage - per 1kg</td>\n",
       "      <td>3.55</td>\n",
       "      <td>2019-12</td>\n",
       "    </tr>\n",
       "    <tr>\n",
       "      <th>3</th>\n",
       "      <td>LOWER SILESIA</td>\n",
       "      <td>dressed chickens - per 1kg</td>\n",
       "      <td>6.14</td>\n",
       "      <td>2019-2</td>\n",
       "    </tr>\n",
       "    <tr>\n",
       "      <th>4</th>\n",
       "      <td>WARMIA-MASURIA</td>\n",
       "      <td>Italian head cheese - per 1kg</td>\n",
       "      <td>5.63</td>\n",
       "      <td>2002-3</td>\n",
       "    </tr>\n",
       "  </tbody>\n",
       "</table>\n",
       "</div>"
      ],
      "text/plain": [
       "            province                          product  value     date\n",
       "0       SUBCARPATHIA        pork ham cooked - per 1kg  21.37   2013-3\n",
       "1               ŁÓDŹ                  bread - per 1kg    NaN   2018-2\n",
       "2  KUYAVIA-POMERANIA  barley groats sausage - per 1kg   3.55  2019-12\n",
       "3      LOWER SILESIA       dressed chickens - per 1kg   6.14   2019-2\n",
       "4     WARMIA-MASURIA    Italian head cheese - per 1kg   5.63   2002-3"
      ]
     },
     "execution_count": 3,
     "metadata": {},
     "output_type": "execute_result"
    }
   ],
   "source": [
    "import pandas as pd\n",
    "\n",
    "df = pd.read_csv(\n",
    "                    '../../01_Data/product_prices_cleaned.csv', \n",
    "                    sep=';',\n",
    "                    decimal=','\n",
    ")\n",
    "\n",
    "df['value'] = pd.to_numeric(df['value'], errors='coerce')\n",
    "\n",
    "df = df[[\"province\", \"product\", \"value\", \"date\"]]\n",
    "\n",
    "df.head()"
   ]
  }
 ],
 "metadata": {
  "kernelspec": {
   "display_name": "Python 3",
   "language": "python",
   "name": "python3"
  },
  "language_info": {
   "codemirror_mode": {
    "name": "ipython",
    "version": 3
   },
   "file_extension": ".py",
   "mimetype": "text/x-python",
   "name": "python",
   "nbconvert_exporter": "python",
   "pygments_lexer": "ipython3",
   "version": "3.11.5"
  }
 },
 "nbformat": 4,
 "nbformat_minor": 5
}

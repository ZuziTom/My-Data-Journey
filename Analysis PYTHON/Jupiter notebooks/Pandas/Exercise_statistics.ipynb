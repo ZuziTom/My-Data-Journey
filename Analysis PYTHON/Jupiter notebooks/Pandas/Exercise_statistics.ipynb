{
 "cells": [
  {
   "cell_type": "markdown",
   "metadata": {},
   "source": [
    "# Exercise\n",
    "Read the file: `product_prices.csv` (separator ';', decimal separator '.') and do the following exercises:\n",
    "\n",
    "1. Using the `columns` method modify the names of columns to be: `'province', 'product_types', 'currency', 'group_id', 'product_line', 'value', 'date'`<br>\n",
    "1. Determine the following positional statistics: mean, standard deviation, percentiles: 0, 10%, 20%, 30%, 40%, 50%, 60%, 70%, 80%, 90%, 100%.<br>Do the exercise **in two versions**: using dedicated functions and `describe`.\n",
    "1. Do you agree with this way of generating these values? Why?\n"
   ]
  },
  {
   "cell_type": "code",
   "execution_count": 1,
   "metadata": {
    "scrolled": true
   },
   "outputs": [
    {
     "data": {
      "text/html": [
       "<div>\n",
       "<style scoped>\n",
       "    .dataframe tbody tr th:only-of-type {\n",
       "        vertical-align: middle;\n",
       "    }\n",
       "\n",
       "    .dataframe tbody tr th {\n",
       "        vertical-align: top;\n",
       "    }\n",
       "\n",
       "    .dataframe thead th {\n",
       "        text-align: right;\n",
       "    }\n",
       "</style>\n",
       "<table border=\"1\" class=\"dataframe\">\n",
       "  <thead>\n",
       "    <tr style=\"text-align: right;\">\n",
       "      <th></th>\n",
       "      <th>Name</th>\n",
       "      <th>Goods types</th>\n",
       "      <th>Measurement unit</th>\n",
       "      <th>Group ID</th>\n",
       "      <th>Product types</th>\n",
       "      <th>Value</th>\n",
       "      <th>Date</th>\n",
       "    </tr>\n",
       "  </thead>\n",
       "  <tbody>\n",
       "    <tr>\n",
       "      <th>0</th>\n",
       "      <td>SUBCARPATHIA</td>\n",
       "      <td>NaN</td>\n",
       "      <td>PLN</td>\n",
       "      <td>2</td>\n",
       "      <td>pork ham cooked - per 1kg</td>\n",
       "      <td>21.37</td>\n",
       "      <td>2013-3</td>\n",
       "    </tr>\n",
       "    <tr>\n",
       "      <th>1</th>\n",
       "      <td>ŁÓDŹ</td>\n",
       "      <td>NaN</td>\n",
       "      <td>PLN</td>\n",
       "      <td>4</td>\n",
       "      <td>bread - per 1kg</td>\n",
       "      <td>NaN</td>\n",
       "      <td>2018-2</td>\n",
       "    </tr>\n",
       "    <tr>\n",
       "      <th>2</th>\n",
       "      <td>KUYAVIA-POMERANIA</td>\n",
       "      <td>NaN</td>\n",
       "      <td>PLN</td>\n",
       "      <td>2</td>\n",
       "      <td>barley groats sausage - per 1kg</td>\n",
       "      <td>3.55</td>\n",
       "      <td>2019-12</td>\n",
       "    </tr>\n",
       "    <tr>\n",
       "      <th>3</th>\n",
       "      <td>LOWER SILESIA</td>\n",
       "      <td>NaN</td>\n",
       "      <td>PLN</td>\n",
       "      <td>2</td>\n",
       "      <td>dressed chickens - per 1kg</td>\n",
       "      <td>6.14</td>\n",
       "      <td>2019-2</td>\n",
       "    </tr>\n",
       "    <tr>\n",
       "      <th>4</th>\n",
       "      <td>WARMIA-MASURIA</td>\n",
       "      <td>NaN</td>\n",
       "      <td>PLN</td>\n",
       "      <td>2</td>\n",
       "      <td>Italian head cheese - per 1kg</td>\n",
       "      <td>5.63</td>\n",
       "      <td>2002-3</td>\n",
       "    </tr>\n",
       "  </tbody>\n",
       "</table>\n",
       "</div>"
      ],
      "text/plain": [
       "                Name Goods types Measurement unit  Group ID  \\\n",
       "0       SUBCARPATHIA         NaN              PLN         2   \n",
       "1               ŁÓDŹ         NaN              PLN         4   \n",
       "2  KUYAVIA-POMERANIA         NaN              PLN         2   \n",
       "3      LOWER SILESIA         NaN              PLN         2   \n",
       "4     WARMIA-MASURIA         NaN              PLN         2   \n",
       "\n",
       "                     Product types  Value     Date  \n",
       "0        pork ham cooked - per 1kg  21.37   2013-3  \n",
       "1                  bread - per 1kg    NaN   2018-2  \n",
       "2  barley groats sausage - per 1kg   3.55  2019-12  \n",
       "3       dressed chickens - per 1kg   6.14   2019-2  \n",
       "4    Italian head cheese - per 1kg   5.63   2002-3  "
      ]
     },
     "execution_count": 1,
     "metadata": {},
     "output_type": "execute_result"
    }
   ],
   "source": [
    "import pandas as pd\n",
    "\n",
    "file_path = '../01_Data/product_prices.csv'\n",
    "data = pd.read_csv(file_path, sep=';', decimal='.')\n",
    "\n",
    "data.head()"
   ]
  },
  {
   "cell_type": "code",
   "execution_count": 2,
   "metadata": {
    "scrolled": true
   },
   "outputs": [
    {
     "data": {
      "text/plain": [
       "Index(['Name', 'Goods types', 'Measurement unit', 'Group ID', 'Product types',\n",
       "       'Value', 'Date'],\n",
       "      dtype='object')"
      ]
     },
     "execution_count": 2,
     "metadata": {},
     "output_type": "execute_result"
    }
   ],
   "source": [
    "data.columns"
   ]
  },
  {
   "cell_type": "code",
   "execution_count": 4,
   "metadata": {
    "scrolled": false
   },
   "outputs": [
    {
     "data": {
      "text/html": [
       "<div>\n",
       "<style scoped>\n",
       "    .dataframe tbody tr th:only-of-type {\n",
       "        vertical-align: middle;\n",
       "    }\n",
       "\n",
       "    .dataframe tbody tr th {\n",
       "        vertical-align: top;\n",
       "    }\n",
       "\n",
       "    .dataframe thead th {\n",
       "        text-align: right;\n",
       "    }\n",
       "</style>\n",
       "<table border=\"1\" class=\"dataframe\">\n",
       "  <thead>\n",
       "    <tr style=\"text-align: right;\">\n",
       "      <th></th>\n",
       "      <th>province</th>\n",
       "      <th>product_types</th>\n",
       "      <th>currency</th>\n",
       "      <th>group_id</th>\n",
       "      <th>product_line</th>\n",
       "      <th>value</th>\n",
       "      <th>date</th>\n",
       "    </tr>\n",
       "  </thead>\n",
       "  <tbody>\n",
       "    <tr>\n",
       "      <th>0</th>\n",
       "      <td>SUBCARPATHIA</td>\n",
       "      <td>NaN</td>\n",
       "      <td>PLN</td>\n",
       "      <td>2</td>\n",
       "      <td>pork ham cooked - per 1kg</td>\n",
       "      <td>21.37</td>\n",
       "      <td>2013-3</td>\n",
       "    </tr>\n",
       "    <tr>\n",
       "      <th>1</th>\n",
       "      <td>ŁÓDŹ</td>\n",
       "      <td>NaN</td>\n",
       "      <td>PLN</td>\n",
       "      <td>4</td>\n",
       "      <td>bread - per 1kg</td>\n",
       "      <td>NaN</td>\n",
       "      <td>2018-2</td>\n",
       "    </tr>\n",
       "    <tr>\n",
       "      <th>2</th>\n",
       "      <td>KUYAVIA-POMERANIA</td>\n",
       "      <td>NaN</td>\n",
       "      <td>PLN</td>\n",
       "      <td>2</td>\n",
       "      <td>barley groats sausage - per 1kg</td>\n",
       "      <td>3.55</td>\n",
       "      <td>2019-12</td>\n",
       "    </tr>\n",
       "    <tr>\n",
       "      <th>3</th>\n",
       "      <td>LOWER SILESIA</td>\n",
       "      <td>NaN</td>\n",
       "      <td>PLN</td>\n",
       "      <td>2</td>\n",
       "      <td>dressed chickens - per 1kg</td>\n",
       "      <td>6.14</td>\n",
       "      <td>2019-2</td>\n",
       "    </tr>\n",
       "    <tr>\n",
       "      <th>4</th>\n",
       "      <td>WARMIA-MASURIA</td>\n",
       "      <td>NaN</td>\n",
       "      <td>PLN</td>\n",
       "      <td>2</td>\n",
       "      <td>Italian head cheese - per 1kg</td>\n",
       "      <td>5.63</td>\n",
       "      <td>2002-3</td>\n",
       "    </tr>\n",
       "  </tbody>\n",
       "</table>\n",
       "</div>"
      ],
      "text/plain": [
       "            province product_types currency  group_id  \\\n",
       "0       SUBCARPATHIA           NaN      PLN         2   \n",
       "1               ŁÓDŹ           NaN      PLN         4   \n",
       "2  KUYAVIA-POMERANIA           NaN      PLN         2   \n",
       "3      LOWER SILESIA           NaN      PLN         2   \n",
       "4     WARMIA-MASURIA           NaN      PLN         2   \n",
       "\n",
       "                      product_line  value     date  \n",
       "0        pork ham cooked - per 1kg  21.37   2013-3  \n",
       "1                  bread - per 1kg    NaN   2018-2  \n",
       "2  barley groats sausage - per 1kg   3.55  2019-12  \n",
       "3       dressed chickens - per 1kg   6.14   2019-2  \n",
       "4    Italian head cheese - per 1kg   5.63   2002-3  "
      ]
     },
     "execution_count": 4,
     "metadata": {},
     "output_type": "execute_result"
    }
   ],
   "source": [
    "# Rename columns\n",
    "data.columns = ['province', 'product_types', 'currency', 'group_id', 'product_line', 'value', 'date']\n",
    "\n",
    "data.head()"
   ]
  },
  {
   "cell_type": "code",
   "execution_count": 13,
   "metadata": {},
   "outputs": [
    {
     "name": "stdout",
     "output_type": "stream",
     "text": [
      "mean_value: 6.615226740294512\n",
      "std_dev_value: 34.11285815820757\n",
      "percentils: \n",
      "0.0       0.00\n",
      "0.1       0.00\n",
      "0.2       0.00\n",
      "0.3       0.28\n",
      "0.4       1.55\n",
      "0.5       3.09\n",
      "0.6       5.75\n",
      "0.7       9.16\n",
      "0.8      12.73\n",
      "0.9      17.19\n",
      "1.0    3000.00\n",
      "Name: value, dtype: float64\n"
     ]
    }
   ],
   "source": [
    "# Calculate positional statistics using dedicated functions\n",
    "mean_value = data['value'].mean()\n",
    "std_dev_value = data['value'].std()\n",
    "\n",
    "percentiles = data['value'].quantile([0, 0.1, 0.2, 0.3, 0.4, 0.5, 0.6, 0.7, 0.8, 0.9, 1])\n",
    "\n",
    "\n",
    "print(f\"mean_value: {mean_value}\")\n",
    "print(f\"std_dev_value: {std_dev_value}\")\n",
    "print(f\"percentils: \\n{percentiles}\")"
   ]
  },
  {
   "cell_type": "code",
   "execution_count": 8,
   "metadata": {
    "scrolled": true
   },
   "outputs": [
    {
     "data": {
      "text/plain": [
       "count    137088.000000\n",
       "mean          6.615227\n",
       "std          34.112858\n",
       "min           0.000000\n",
       "0%            0.000000\n",
       "10%           0.000000\n",
       "20%           0.000000\n",
       "30%           0.280000\n",
       "40%           1.550000\n",
       "50%           3.090000\n",
       "60%           5.750000\n",
       "70%           9.160000\n",
       "80%          12.730000\n",
       "90%          17.190000\n",
       "max        3000.000000\n",
       "Name: value, dtype: float64"
      ]
     },
     "execution_count": 8,
     "metadata": {},
     "output_type": "execute_result"
    }
   ],
   "source": [
    "# Calculate positional statistics using describe method\n",
    "\n",
    "describe_stats = data['value'].describe(percentiles=[0, 0.1, 0.2, 0.3, 0.4, 0.5, 0.6, 0.7, 0.8, 0.9])\n",
    "\n",
    "describe_stats"
   ]
  },
  {
   "cell_type": "code",
   "execution_count": null,
   "metadata": {},
   "outputs": [],
   "source": [
    "# Both methods are valid and their use depends on the context and specific requirements of the analysis. \n",
    "\n",
    "# The choice between them depends on the specific needs and preferences:\n",
    "\n",
    "    # Dedicated Functions: \n",
    "        # Allow for more control and flexibility. \n",
    "        # You can calculate specific statistics and are not limited to the set of statistics provided by describe. \n",
    "        # This approach is useful when you need specific metrics or when working with large datasets where calculating only the necessary statistics can save computation time.\n",
    "    \n",
    "    # describe Method: \n",
    "        # Offers a quick and easy way to get a summary of the data. \n",
    "        # It's convenient for an initial exploratory analysis as it provides a range of common statistics without the need for writing multiple lines of code.\n"
   ]
  },
  {
   "cell_type": "markdown",
   "metadata": {},
   "source": [
    "## Comment regarding the correctness of the exercise\n",
    "Summarizing a dataset in this way is not entirely correct because all groups of products (preserves, meat, oat and other products) were treated as comparable. Moreover, because the data is formatted as a time series, all dates were treated the same.\n",
    "\n",
    "This is commonly known as comparing oranges to apples. These statistics should at least be performed separately for each of the groups, and ideally sub-divided by quarter of the year."
   ]
  }
 ],
 "metadata": {
  "kernelspec": {
   "display_name": "Python 3 (ipykernel)",
   "language": "python",
   "name": "python3"
  },
  "language_info": {
   "codemirror_mode": {
    "name": "ipython",
    "version": 3
   },
   "file_extension": ".py",
   "mimetype": "text/x-python",
   "name": "python",
   "nbconvert_exporter": "python",
   "pygments_lexer": "ipython3",
   "version": "3.11.5"
  }
 },
 "nbformat": 4,
 "nbformat_minor": 2
}

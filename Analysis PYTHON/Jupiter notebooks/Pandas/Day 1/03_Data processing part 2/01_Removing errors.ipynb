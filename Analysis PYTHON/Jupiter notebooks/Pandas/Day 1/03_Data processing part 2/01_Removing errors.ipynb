{
 "cells": [
  {
   "cell_type": "markdown",
   "id": "younger-religion",
   "metadata": {},
   "source": [
    "# Removing errors\n",
    "Using the solutions from the previous class and the **product_prices_renamed.csv** file, modify `loc` so that it corrects the errors present in the dataset:\n",
    "\n",
    "1. In the **date** column, data from 1888 appeared - '1888-0', change the value to 1999-1,\n",
    "1. In the **date** column, data from 2099 appeared - '2099-13', change the value to 2019-1,\n",
    "1. There is a spelling error in the **product_types** column - correct it. Number of pieces should be '10pcs.`. Check whether the task was done correctly.\n",
    "1. Use `loc` to convert the values given in `EUR` to `PLN` with 4.15 exchange rate. \n",
    "1. Filter from the set those rows where the price for the product is 3000.\n",
    "\n",
    "Hint: Instead of writing `loc` twice, first query the data for rows where **currency** = `EUR` and save it to a variable.\n",
    "\n",
    "> Remember that `loc` modifies data irrevocably."
   ]
  },
  {
   "cell_type": "code",
   "execution_count": 2,
   "id": "conventional-destiny",
   "metadata": {},
   "outputs": [],
   "source": [
    "import pandas as pd"
   ]
  },
  {
   "cell_type": "code",
   "execution_count": 3,
   "id": "44a8f958",
   "metadata": {},
   "outputs": [
    {
     "data": {
      "text/html": [
       "<div>\n",
       "<style scoped>\n",
       "    .dataframe tbody tr th:only-of-type {\n",
       "        vertical-align: middle;\n",
       "    }\n",
       "\n",
       "    .dataframe tbody tr th {\n",
       "        vertical-align: top;\n",
       "    }\n",
       "\n",
       "    .dataframe thead th {\n",
       "        text-align: right;\n",
       "    }\n",
       "</style>\n",
       "<table border=\"1\" class=\"dataframe\">\n",
       "  <thead>\n",
       "    <tr style=\"text-align: right;\">\n",
       "      <th></th>\n",
       "      <th>province</th>\n",
       "      <th>product_types</th>\n",
       "      <th>currency</th>\n",
       "      <th>product_group_id</th>\n",
       "      <th>product_line</th>\n",
       "      <th>value</th>\n",
       "      <th>date</th>\n",
       "    </tr>\n",
       "  </thead>\n",
       "  <tbody>\n",
       "    <tr>\n",
       "      <th>0</th>\n",
       "      <td>SUBCARPATHIA</td>\n",
       "      <td>NaN</td>\n",
       "      <td>PLN</td>\n",
       "      <td>2</td>\n",
       "      <td>pork ham cooked - per 1kg</td>\n",
       "      <td>21.37</td>\n",
       "      <td>2013-3</td>\n",
       "    </tr>\n",
       "    <tr>\n",
       "      <th>1</th>\n",
       "      <td>ŁÓDŹ</td>\n",
       "      <td>NaN</td>\n",
       "      <td>PLN</td>\n",
       "      <td>4</td>\n",
       "      <td>bread - per 1kg</td>\n",
       "      <td>NaN</td>\n",
       "      <td>2018-2</td>\n",
       "    </tr>\n",
       "    <tr>\n",
       "      <th>2</th>\n",
       "      <td>KUYAVIA-POMERANIA</td>\n",
       "      <td>NaN</td>\n",
       "      <td>PLN</td>\n",
       "      <td>2</td>\n",
       "      <td>barley groats sausage - per 1kg</td>\n",
       "      <td>3.55</td>\n",
       "      <td>2019-12</td>\n",
       "    </tr>\n",
       "    <tr>\n",
       "      <th>3</th>\n",
       "      <td>LOWER SILESIA</td>\n",
       "      <td>NaN</td>\n",
       "      <td>PLN</td>\n",
       "      <td>2</td>\n",
       "      <td>dressed chickens - per 1kg</td>\n",
       "      <td>6.14</td>\n",
       "      <td>2019-2</td>\n",
       "    </tr>\n",
       "    <tr>\n",
       "      <th>4</th>\n",
       "      <td>WARMIA-MASURIA</td>\n",
       "      <td>NaN</td>\n",
       "      <td>PLN</td>\n",
       "      <td>2</td>\n",
       "      <td>Italian head cheese - per 1kg</td>\n",
       "      <td>5.63</td>\n",
       "      <td>2002-3</td>\n",
       "    </tr>\n",
       "  </tbody>\n",
       "</table>\n",
       "</div>"
      ],
      "text/plain": [
       "            province product_types currency  product_group_id  \\\n",
       "0       SUBCARPATHIA           NaN      PLN                 2   \n",
       "1               ŁÓDŹ           NaN      PLN                 4   \n",
       "2  KUYAVIA-POMERANIA           NaN      PLN                 2   \n",
       "3      LOWER SILESIA           NaN      PLN                 2   \n",
       "4     WARMIA-MASURIA           NaN      PLN                 2   \n",
       "\n",
       "                      product_line  value     date  \n",
       "0        pork ham cooked - per 1kg  21.37   2013-3  \n",
       "1                  bread - per 1kg    NaN   2018-2  \n",
       "2  barley groats sausage - per 1kg   3.55  2019-12  \n",
       "3       dressed chickens - per 1kg   6.14   2019-2  \n",
       "4    Italian head cheese - per 1kg   5.63   2002-3  "
      ]
     },
     "execution_count": 3,
     "metadata": {},
     "output_type": "execute_result"
    }
   ],
   "source": [
    "df = pd.read_csv('../../01_Data/product_prices_renamed.csv', sep=';', decimal='.')\n",
    "df.head()"
   ]
  },
  {
   "cell_type": "code",
   "execution_count": 4,
   "id": "7d221380",
   "metadata": {},
   "outputs": [],
   "source": [
    "df.loc[df['date'] == '1888-0', 'date'] = '1999-1'\n",
    "df.loc[df['date'] == '2099-13', 'date'] = '2019-01'"
   ]
  },
  {
   "cell_type": "code",
   "execution_count": 6,
   "id": "dd13469b",
   "metadata": {
    "scrolled": true
   },
   "outputs": [
    {
     "data": {
      "text/plain": [
       "array([nan, 'whole pickled cucumbers 0.9l - per 1pc.',\n",
       "       'fresh chicken eggs - per 10pcs.',\n",
       "       '30% tomato concentrate - per 1kg',\n",
       "       'frozen carrot and pea mix - per 1kg',\n",
       "       'beet sugar white, bagged - per 1kg',\n",
       "       'apple juice, boxed - per 1l', 'white table salt bagged - per 1kg',\n",
       "       'natural chocolate plain - per 1kg'], dtype=object)"
      ]
     },
     "execution_count": 6,
     "metadata": {},
     "output_type": "execute_result"
    }
   ],
   "source": [
    "df.loc[df['product_types'] == 'fresh chichen egges - per 666pcs.', 'product_types'] = 'fresh chicken eggs - per 10pcs.'\n",
    "\n",
    "df['product_types'] = df['product_types'].str.replace('per 666pcs.', 'per 10pcs.')\n",
    "\n",
    "df['product_types'].unique()"
   ]
  },
  {
   "cell_type": "code",
   "execution_count": 7,
   "id": "ca651313",
   "metadata": {},
   "outputs": [],
   "source": [
    "exchange_rate = 4.15\n",
    "eur_condition = df['currency'] == 'EUR'\n",
    "\n",
    "df.loc[eur_condition, 'value'] = df['value'] * exchange_rate\n",
    "# df.loc[eur_condition, 'value'] = df['value'].apply(lambda x: x * exchange_rate)\n",
    "\n",
    "df.loc[eur_condition, 'currency'] = 'PLN'"
   ]
  },
  {
   "cell_type": "code",
   "execution_count": 11,
   "id": "68080cb0",
   "metadata": {},
   "outputs": [],
   "source": [
    "df = df[df['value'] != 3000]"
   ]
  },
  {
   "cell_type": "markdown",
   "id": "d7e3f575",
   "metadata": {},
   "source": [
    "---"
   ]
  },
  {
   "cell_type": "code",
   "execution_count": 12,
   "id": "34e78496",
   "metadata": {},
   "outputs": [
    {
     "data": {
      "text/plain": [
       "(0, 0, 0, 0, 0)"
      ]
     },
     "execution_count": 12,
     "metadata": {},
     "output_type": "execute_result"
    }
   ],
   "source": [
    "# Performing a check for all the DataFrame edits made\n",
    "\n",
    "# Checking if the date '1888-0' has been changed to '1999-1'\n",
    "check_date_1888 = df[df['date'].astype(str) == '1888-0']\n",
    "\n",
    "# Checking if the date '2099-13' has been changed to '2019-1'\n",
    "check_date_2099 = df[df['date'].astype(str) == '2099-13']\n",
    "\n",
    "# Checking if the product_types 'fresh chichen egges - per 666pcs.' has been changed to 'fresh chicken eggs - per 10pcs.'\n",
    "check_product_types = df[df['product_types'] == 'fresh chichen egges - per 666pcs.']\n",
    "\n",
    "# Checking if the values in EUR have been converted (Note: Since all EUR rows were converted to PLN, we expect no rows with EUR)\n",
    "check_currency_conversion = df[df['currency'] == 'EUR']\n",
    "\n",
    "# Checking if values equal to 3000 have been removed\n",
    "check_value_3000 = df[df['value'] == 3000]\n",
    "\n",
    "len(check_date_1888), len(check_date_2099), len(check_product_types), len(check_currency_conversion), len(check_value_3000)\n"
   ]
  },
  {
   "cell_type": "code",
   "execution_count": 13,
   "id": "9892e2c3",
   "metadata": {},
   "outputs": [],
   "source": [
    "df.to_csv('../../01_Data/product_prices_renamed_almost_cleaned.csv', index=False)"
   ]
  },
  {
   "cell_type": "code",
   "execution_count": null,
   "id": "212feaec",
   "metadata": {},
   "outputs": [],
   "source": []
  }
 ],
 "metadata": {
  "kernelspec": {
   "display_name": "Python 3 (ipykernel)",
   "language": "python",
   "name": "python3"
  },
  "language_info": {
   "codemirror_mode": {
    "name": "ipython",
    "version": 3
   },
   "file_extension": ".py",
   "mimetype": "text/x-python",
   "name": "python",
   "nbconvert_exporter": "python",
   "pygments_lexer": "ipython3",
   "version": "3.11.5"
  }
 },
 "nbformat": 4,
 "nbformat_minor": 5
}

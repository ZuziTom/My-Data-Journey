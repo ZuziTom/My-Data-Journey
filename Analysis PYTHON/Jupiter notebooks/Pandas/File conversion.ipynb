{
 "cells": [
  {
   "cell_type": "markdown",
   "id": "welsh-flower",
   "metadata": {},
   "source": [
    "# File conversion\n",
    "\n",
    "Using `openpyxl` convert the **product_prices_cleaned.csv** file to an Excel file."
   ]
  },
  {
   "cell_type": "code",
   "execution_count": null,
   "id": "composed-coast",
   "metadata": {},
   "outputs": [],
   "source": [
    "import pandas as pd\n",
    "import openpyxl\n",
    "from openpyxl.utils.dataframe import dataframe_to_rows\n"
   ]
  },
  {
   "cell_type": "code",
   "execution_count": null,
   "id": "5dc0e283",
   "metadata": {},
   "outputs": [],
   "source": [
    "df = pd.read_csv('../../01_Data/product_prices_cleaned.csv', sep=',')\n",
    "df.head()"
   ]
  },
  {
   "cell_type": "code",
   "execution_count": null,
   "id": "e66c6970",
   "metadata": {},
   "outputs": [],
   "source": [
    "wb = openpyxl.Workbook()\n",
    "ws = wb.active\n",
    " \n",
    "for i in dataframe_to_rows(df, index=False, header=True):\n",
    "    ws.append(i)  # save data\n",
    " \n",
    "wb.save('../../01_Data/product_prices_cleaned.xlsx')"
   ]
  },
  {
   "cell_type": "markdown",
   "id": "b3b717d3",
   "metadata": {},
   "source": [
    "# Save the DataFrame to an Excel file using openpyxl as the engine"
   ]
  },
  {
   "cell_type": "code",
   "execution_count": 1,
   "id": "c2817fde",
   "metadata": {},
   "outputs": [],
   "source": [
    "import pandas as pd\n",
    "import openpyxl\n",
    "from openpyxl.utils.dataframe import dataframe_to_rows"
   ]
  },
  {
   "cell_type": "code",
   "execution_count": 2,
   "id": "7177ccbe",
   "metadata": {},
   "outputs": [
    {
     "data": {
      "text/html": [
       "<div>\n",
       "<style scoped>\n",
       "    .dataframe tbody tr th:only-of-type {\n",
       "        vertical-align: middle;\n",
       "    }\n",
       "\n",
       "    .dataframe tbody tr th {\n",
       "        vertical-align: top;\n",
       "    }\n",
       "\n",
       "    .dataframe thead th {\n",
       "        text-align: right;\n",
       "    }\n",
       "</style>\n",
       "<table border=\"1\" class=\"dataframe\">\n",
       "  <thead>\n",
       "    <tr style=\"text-align: right;\">\n",
       "      <th></th>\n",
       "      <th>province</th>\n",
       "      <th>product_types</th>\n",
       "      <th>currency</th>\n",
       "      <th>product_group_id</th>\n",
       "      <th>product_line</th>\n",
       "      <th>value</th>\n",
       "      <th>date</th>\n",
       "      <th>product2</th>\n",
       "      <th>product</th>\n",
       "      <th>month</th>\n",
       "      <th>quarter</th>\n",
       "      <th>year</th>\n",
       "    </tr>\n",
       "  </thead>\n",
       "  <tbody>\n",
       "    <tr>\n",
       "      <th>0</th>\n",
       "      <td>SUBCARPATHIA</td>\n",
       "      <td>NaN</td>\n",
       "      <td>PLN</td>\n",
       "      <td>2.0</td>\n",
       "      <td>pork ham cooked - per 1kg</td>\n",
       "      <td>21.37</td>\n",
       "      <td>2013-03-01</td>\n",
       "      <td>pork ham cooked - per 1kg</td>\n",
       "      <td>pork ham cooked - per 1kg</td>\n",
       "      <td>3.0</td>\n",
       "      <td>1.0</td>\n",
       "      <td>2013.0</td>\n",
       "    </tr>\n",
       "    <tr>\n",
       "      <th>1</th>\n",
       "      <td>ŁÓDŹ</td>\n",
       "      <td>NaN</td>\n",
       "      <td>PLN</td>\n",
       "      <td>4.0</td>\n",
       "      <td>bread - per 1kg</td>\n",
       "      <td>NaN</td>\n",
       "      <td>2018-02-01</td>\n",
       "      <td>bread - per 1kg</td>\n",
       "      <td>bread - per 1kg</td>\n",
       "      <td>2.0</td>\n",
       "      <td>1.0</td>\n",
       "      <td>2018.0</td>\n",
       "    </tr>\n",
       "    <tr>\n",
       "      <th>2</th>\n",
       "      <td>KUYAVIA-POMERANIA</td>\n",
       "      <td>NaN</td>\n",
       "      <td>PLN</td>\n",
       "      <td>2.0</td>\n",
       "      <td>barley groats sausage - per 1kg</td>\n",
       "      <td>3.55</td>\n",
       "      <td>2019-12-01</td>\n",
       "      <td>barley groats sausage - per 1kg</td>\n",
       "      <td>barley groats sausage - per 1kg</td>\n",
       "      <td>12.0</td>\n",
       "      <td>4.0</td>\n",
       "      <td>2019.0</td>\n",
       "    </tr>\n",
       "    <tr>\n",
       "      <th>3</th>\n",
       "      <td>LOWER SILESIA</td>\n",
       "      <td>NaN</td>\n",
       "      <td>PLN</td>\n",
       "      <td>2.0</td>\n",
       "      <td>dressed chickens - per 1kg</td>\n",
       "      <td>6.14</td>\n",
       "      <td>2019-02-01</td>\n",
       "      <td>dressed chickens - per 1kg</td>\n",
       "      <td>dressed chickens - per 1kg</td>\n",
       "      <td>2.0</td>\n",
       "      <td>1.0</td>\n",
       "      <td>2019.0</td>\n",
       "    </tr>\n",
       "    <tr>\n",
       "      <th>4</th>\n",
       "      <td>WARMIA-MASURIA</td>\n",
       "      <td>NaN</td>\n",
       "      <td>PLN</td>\n",
       "      <td>2.0</td>\n",
       "      <td>Italian head cheese - per 1kg</td>\n",
       "      <td>5.63</td>\n",
       "      <td>2002-03-01</td>\n",
       "      <td>Italian head cheese - per 1kg</td>\n",
       "      <td>Italian head cheese - per 1kg</td>\n",
       "      <td>3.0</td>\n",
       "      <td>1.0</td>\n",
       "      <td>2002.0</td>\n",
       "    </tr>\n",
       "  </tbody>\n",
       "</table>\n",
       "</div>"
      ],
      "text/plain": [
       "            province product_types currency  product_group_id  \\\n",
       "0       SUBCARPATHIA           NaN      PLN               2.0   \n",
       "1               ŁÓDŹ           NaN      PLN               4.0   \n",
       "2  KUYAVIA-POMERANIA           NaN      PLN               2.0   \n",
       "3      LOWER SILESIA           NaN      PLN               2.0   \n",
       "4     WARMIA-MASURIA           NaN      PLN               2.0   \n",
       "\n",
       "                      product_line  value        date  \\\n",
       "0        pork ham cooked - per 1kg  21.37  2013-03-01   \n",
       "1                  bread - per 1kg    NaN  2018-02-01   \n",
       "2  barley groats sausage - per 1kg   3.55  2019-12-01   \n",
       "3       dressed chickens - per 1kg   6.14  2019-02-01   \n",
       "4    Italian head cheese - per 1kg   5.63  2002-03-01   \n",
       "\n",
       "                          product2                          product  month  \\\n",
       "0        pork ham cooked - per 1kg        pork ham cooked - per 1kg    3.0   \n",
       "1                  bread - per 1kg                  bread - per 1kg    2.0   \n",
       "2  barley groats sausage - per 1kg  barley groats sausage - per 1kg   12.0   \n",
       "3       dressed chickens - per 1kg       dressed chickens - per 1kg    2.0   \n",
       "4    Italian head cheese - per 1kg    Italian head cheese - per 1kg    3.0   \n",
       "\n",
       "   quarter    year  \n",
       "0      1.0  2013.0  \n",
       "1      1.0  2018.0  \n",
       "2      4.0  2019.0  \n",
       "3      1.0  2019.0  \n",
       "4      1.0  2002.0  "
      ]
     },
     "execution_count": 2,
     "metadata": {},
     "output_type": "execute_result"
    }
   ],
   "source": [
    "df = pd.read_csv('../../01_Data/product_prices_cleaned.csv', sep=',')\n",
    "df.head()"
   ]
  },
  {
   "cell_type": "code",
   "execution_count": 3,
   "id": "336d30c7",
   "metadata": {},
   "outputs": [],
   "source": [
    "df.to_excel('../../01_Data/product_prices_cleaned_3test.xlsx', index=False, engine='openpyxl')"
   ]
  }
 ],
 "metadata": {
  "kernelspec": {
   "display_name": "Python 3",
   "language": "python",
   "name": "python3"
  },
  "language_info": {
   "codemirror_mode": {
    "name": "ipython",
    "version": 3
   },
   "file_extension": ".py",
   "mimetype": "text/x-python",
   "name": "python",
   "nbconvert_exporter": "python",
   "pygments_lexer": "ipython3",
   "version": "3.11.5"
  }
 },
 "nbformat": 4,
 "nbformat_minor": 5
}

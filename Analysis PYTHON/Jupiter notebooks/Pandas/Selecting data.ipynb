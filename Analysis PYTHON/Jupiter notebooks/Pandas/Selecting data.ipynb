{
 "cells": [
  {
   "cell_type": "markdown",
   "id": "faced-sacrifice",
   "metadata": {},
   "source": [
    "## Selection of data for analysis\n",
    "\n",
    "Answer the following questions:\n",
    "\n",
    "1. What was the average price of a carrot and pea mix per 1 kg in Poland in 2015?\n",
    "2. What was the average price of apple juice in 2016-2018 in the Masovia province?\n",
    "3. What was the average price of tomato paste in Lower Silesia Province in 2003-2015? Compared with other products does it seem reasonable to you?<br>\n",
    "\n",
    "Suggest what can be done with values equal to 0. How does this affect the results of point 3?\n",
    "\n",
    "> All the product groups needed for this task are in the **product_types** column."
   ]
  },
  {
   "cell_type": "code",
   "execution_count": 10,
   "id": "promising-decline",
   "metadata": {},
   "outputs": [
    {
     "data": {
      "text/html": [
       "<div>\n",
       "<style scoped>\n",
       "    .dataframe tbody tr th:only-of-type {\n",
       "        vertical-align: middle;\n",
       "    }\n",
       "\n",
       "    .dataframe tbody tr th {\n",
       "        vertical-align: top;\n",
       "    }\n",
       "\n",
       "    .dataframe thead th {\n",
       "        text-align: right;\n",
       "    }\n",
       "</style>\n",
       "<table border=\"1\" class=\"dataframe\">\n",
       "  <thead>\n",
       "    <tr style=\"text-align: right;\">\n",
       "      <th></th>\n",
       "      <th>province</th>\n",
       "      <th>product_types</th>\n",
       "      <th>currency</th>\n",
       "      <th>product_group_id</th>\n",
       "      <th>product_line</th>\n",
       "      <th>value</th>\n",
       "      <th>date</th>\n",
       "    </tr>\n",
       "  </thead>\n",
       "  <tbody>\n",
       "    <tr>\n",
       "      <th>0</th>\n",
       "      <td>SUBCARPATHIA</td>\n",
       "      <td>NaN</td>\n",
       "      <td>PLN</td>\n",
       "      <td>2</td>\n",
       "      <td>pork ham cooked - per 1kg</td>\n",
       "      <td>21.37</td>\n",
       "      <td>2013-3</td>\n",
       "    </tr>\n",
       "    <tr>\n",
       "      <th>1</th>\n",
       "      <td>ŁÓDŹ</td>\n",
       "      <td>NaN</td>\n",
       "      <td>PLN</td>\n",
       "      <td>4</td>\n",
       "      <td>bread - per 1kg</td>\n",
       "      <td>NaN</td>\n",
       "      <td>2018-2</td>\n",
       "    </tr>\n",
       "    <tr>\n",
       "      <th>2</th>\n",
       "      <td>KUYAVIA-POMERANIA</td>\n",
       "      <td>NaN</td>\n",
       "      <td>PLN</td>\n",
       "      <td>2</td>\n",
       "      <td>barley groats sausage - per 1kg</td>\n",
       "      <td>3.55</td>\n",
       "      <td>2019-12</td>\n",
       "    </tr>\n",
       "    <tr>\n",
       "      <th>3</th>\n",
       "      <td>LOWER SILESIA</td>\n",
       "      <td>NaN</td>\n",
       "      <td>PLN</td>\n",
       "      <td>2</td>\n",
       "      <td>dressed chickens - per 1kg</td>\n",
       "      <td>6.14</td>\n",
       "      <td>2019-2</td>\n",
       "    </tr>\n",
       "    <tr>\n",
       "      <th>4</th>\n",
       "      <td>WARMIA-MASURIA</td>\n",
       "      <td>NaN</td>\n",
       "      <td>PLN</td>\n",
       "      <td>2</td>\n",
       "      <td>Italian head cheese - per 1kg</td>\n",
       "      <td>5.63</td>\n",
       "      <td>2002-3</td>\n",
       "    </tr>\n",
       "  </tbody>\n",
       "</table>\n",
       "</div>"
      ],
      "text/plain": [
       "            province product_types currency  product_group_id  \\\n",
       "0       SUBCARPATHIA           NaN      PLN                 2   \n",
       "1               ŁÓDŹ           NaN      PLN                 4   \n",
       "2  KUYAVIA-POMERANIA           NaN      PLN                 2   \n",
       "3      LOWER SILESIA           NaN      PLN                 2   \n",
       "4     WARMIA-MASURIA           NaN      PLN                 2   \n",
       "\n",
       "                      product_line  value     date  \n",
       "0        pork ham cooked - per 1kg  21.37   2013-3  \n",
       "1                  bread - per 1kg    NaN   2018-2  \n",
       "2  barley groats sausage - per 1kg   3.55  2019-12  \n",
       "3       dressed chickens - per 1kg   6.14   2019-2  \n",
       "4    Italian head cheese - per 1kg   5.63   2002-3  "
      ]
     },
     "execution_count": 10,
     "metadata": {},
     "output_type": "execute_result"
    }
   ],
   "source": [
    "import pandas as pd\n",
    "df = pd.read_csv(\n",
    "                    '../../01_Data/product_prices_renamed.csv', \n",
    "                    sep=';',\n",
    "                    decimal=','\n",
    ")\n",
    "\n",
    "df['value'] = pd.to_numeric(df['value'], errors='coerce')\n",
    "\n",
    "df.head()"
   ]
  },
  {
   "cell_type": "code",
   "execution_count": 11,
   "id": "cf56086e",
   "metadata": {},
   "outputs": [
    {
     "data": {
      "text/plain": [
       "4284"
      ]
     },
     "execution_count": 11,
     "metadata": {},
     "output_type": "execute_result"
    }
   ],
   "source": [
    "df.query('product_types == \"frozen carrot and pea mix - per 1kg\"').shape[0]"
   ]
  },
  {
   "cell_type": "code",
   "execution_count": 12,
   "id": "9080b674",
   "metadata": {},
   "outputs": [
    {
     "name": "stdout",
     "output_type": "stream",
     "text": [
      "0.84\n"
     ]
    }
   ],
   "source": [
    "carrot_pea_2015 = df[\"value\"][(df[\"product_types\"] == \"frozen carrot and pea mix - per 1kg\") &\n",
    "                 (df[\"date\"] >= \"2015-1\") & (df[\"date\"] <= \"2015-12\") &\n",
    "                 (df[\"province\"] == \"POLAND\")].mean().round(2)\n",
    "\n",
    "print(carrot_pea_2015)"
   ]
  },
  {
   "cell_type": "code",
   "execution_count": 13,
   "id": "77ce2684",
   "metadata": {},
   "outputs": [
    {
     "name": "stdout",
     "output_type": "stream",
     "text": [
      "3.02\n"
     ]
    }
   ],
   "source": [
    "\n",
    "apple_juice_masovia = df[\"value\"][(df[\"product_types\"] == \"apple juice, boxed - per 1l\") &\n",
    "                 (df[\"date\"] >= \"2016-1\") & (df[\"date\"] <= \"2018-12\") &\n",
    "                 (df[\"province\"] == \"MASOVIA\")].mean()\n",
    "\n",
    "print(apple_juice_masovia)"
   ]
  },
  {
   "cell_type": "code",
   "execution_count": 18,
   "id": "0dd44c89",
   "metadata": {},
   "outputs": [
    {
     "name": "stdout",
     "output_type": "stream",
     "text": [
      "3.02\n"
     ]
    }
   ],
   "source": [
    "\n",
    "print(df[\"value\"][(df[\"product_types\"] == \"apple juice, boxed - per 1l\") &\n",
    "                 (df[\"date\"] >= \"2016-1\") & (df[\"date\"] <= \"2018-12\") &\n",
    "                 (df[\"province\"] == \"MASOVIA\")].mean())"
   ]
  },
  {
   "cell_type": "code",
   "execution_count": 14,
   "id": "e31c8e12",
   "metadata": {},
   "outputs": [
    {
     "name": "stdout",
     "output_type": "stream",
     "text": [
      "20.48574324324324\n"
     ]
    }
   ],
   "source": [
    "print(df[\"value\"][(df[\"product_types\"] == \"30% tomato concentrate - per 1kg\") &\n",
    "                 (df[\"date\"] >= \"2003-1\") & (df[\"date\"] <= \"2015-12\") &\n",
    "                 (df[\"province\"] == \"LOWER SILESIA\")].mean())"
   ]
  },
  {
   "cell_type": "code",
   "execution_count": 15,
   "id": "2c57e566",
   "metadata": {},
   "outputs": [
    {
     "name": "stdout",
     "output_type": "stream",
     "text": [
      "252.65750000000003\n"
     ]
    }
   ],
   "source": [
    "print(df[\"value\"][(df[\"product_types\"] == \"30% tomato concentrate - per 1kg\") &\n",
    "                 (df[\"date\"] >= \"2003-1\") & (df[\"date\"] <= \"2015-12\") &\n",
    "                 (df[\"province\"] == \"LOWER SILESIA\") &\n",
    "                 (df[\"value\"] != 0)].mean())"
   ]
  },
  {
   "cell_type": "code",
   "execution_count": 17,
   "id": "d8a33077",
   "metadata": {},
   "outputs": [
    {
     "name": "stdout",
     "output_type": "stream",
     "text": [
      "12\n"
     ]
    }
   ],
   "source": [
    "print(df[\"value\"][(df[\"product_types\"] == \"30% tomato concentrate - per 1kg\") &\n",
    "                 (df[\"date\"] >= \"2003-1\") & (df[\"date\"] <= \"2015-12\") &\n",
    "                 (df[\"province\"] == \"LOWER SILESIA\") &\n",
    "                 (df[\"value\"] != 0)].shape[0])"
   ]
  }
 ],
 "metadata": {
  "kernelspec": {
   "display_name": "Python 3",
   "language": "python",
   "name": "python3"
  },
  "language_info": {
   "codemirror_mode": {
    "name": "ipython",
    "version": 3
   },
   "file_extension": ".py",
   "mimetype": "text/x-python",
   "name": "python",
   "nbconvert_exporter": "python",
   "pygments_lexer": "ipython3",
   "version": "3.11.5"
  }
 },
 "nbformat": 4,
 "nbformat_minor": 5
}

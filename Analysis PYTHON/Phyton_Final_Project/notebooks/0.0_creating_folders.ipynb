{
 "cells": [
  {
   "cell_type": "code",
   "execution_count": null,
   "metadata": {},
   "outputs": [],
   "source": [
    "import os\n",
    "\n",
    "def create_project_structure(base_path, project_name):\n",
    "    # Define folder structure\n",
    "    folder_structure = {\n",
    "        \"data\": [\"raw\", \"interim\", \"processed\"],\n",
    "        \"drivers\": [],\n",
    "        \"notebooks\": [],\n",
    "        \"venv\": []\n",
    "    }\n",
    "\n",
    "    # Create project folder\n",
    "    project_path = os.path.join(base_path, project_name)\n",
    "    os.makedirs(project_path, exist_ok=True)\n",
    "\n",
    "    # Create subfolders based on the defined structure\n",
    "    for folder, subfolders in folder_structure.items():\n",
    "        folder_path = os.path.join(project_path, folder)\n",
    "        os.makedirs(folder_path, exist_ok=True)\n",
    "\n",
    "        # Create subfolders inside each folder\n",
    "        for subfolder in subfolders:\n",
    "            subfolder_path = os.path.join(folder_path, subfolder)\n",
    "            os.makedirs(subfolder_path, exist_ok=True)\n",
    "\n",
    "# Example usage:\n",
    "base_path = \"C:\\\\Users\\\\...\"\n",
    "project_name = \"Phyton_Workshop\"\n",
    "create_project_structure(base_path, project_name)"
   ]
  },
  {
   "cell_type": "code",
   "execution_count": null,
   "metadata": {},
   "outputs": [],
   "source": [
    "import shutil\n",
    "import os\n",
    "\n",
    "def move_notebook_to_notebooks(notebook_path, notebooks_folder):\n",
    "    notebook_filename = os.path.basename(notebook_path)\n",
    "\n",
    "    # Move the notebook file to the \"notebooks\" subfolder\n",
    "    shutil.move(notebook_path, os.path.join(notebooks_folder, notebook_filename))\n",
    "    print(f\"Notebook '{notebook_filename}' moved to the 'notebooks' subfolder.\")\n",
    "\n",
    "# Example usage with specific paths\n",
    "notebook_path = \"...\\\\SESSION 6 WORKSHOP\\\\1.0_creating_folders.ipynb\"\n",
    "notebooks_folder = \"...\\\\SESSION 6 WORKSHOP\\\\Phyton_Workshop\\\\notebooks\"\n",
    "\n",
    "move_notebook_to_notebooks(notebook_path, notebooks_folder)"
   ]
  }
 ],
 "metadata": {
  "kernelspec": {
   "display_name": "base",
   "language": "python",
   "name": "python3"
  },
  "language_info": {
   "codemirror_mode": {
    "name": "ipython",
    "version": 3
   },
   "file_extension": ".py",
   "mimetype": "text/x-python",
   "name": "python",
   "nbconvert_exporter": "python",
   "pygments_lexer": "ipython3",
   "version": "3.11.5"
  }
 },
 "nbformat": 4,
 "nbformat_minor": 2
}

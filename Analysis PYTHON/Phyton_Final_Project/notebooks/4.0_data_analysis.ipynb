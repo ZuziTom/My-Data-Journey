{
 "cells": [
  {
   "cell_type": "markdown",
   "metadata": {},
   "source": [
    "# Data analysis\n",
    "Using the data prepared for analysis from the data/processed/ directory, answer the following questions before you give the HR team your recommendation:\n",
    "\n",
    "1. How many jobs for a particular position were found?\n",
    "2. What is the average salary for each job?\n",
    "3. Which city has the most job offers?\n",
    "4. Where is the highest rate offered?\n",
    "5. What is the difference between the offer for a regular and a senior?\n",
    "6. What is the lowest possible cost to hire a team consisting of a data analyst, data engineer and data scientist?\n",
    "7. Is it possible for the team to be formed in a single city? If so, where would it be cheapest?\n",
    "\n",
    "In addition, visualize subsections 1-5 using the chart types of your choice.\n",
    "\n",
    "Use the experience gained while working on the data from 'NoFluffJobs' to consider what simplifications have been made and how they potentially could influence the full picture of the analysis."
   ]
  },
  {
   "cell_type": "code",
   "execution_count": null,
   "metadata": {},
   "outputs": [],
   "source": [
    "import pandas as pd\n",
    "\n",
    "df = pd.read_csv(\n",
    "                    '...\\\\SESSION 6 WORKSHOP\\\\Phyton_Workshop\\\\data\\\\processed\\\\job_offers_2024_02_11.csv', \n",
    "                    sep=',',\n",
    "                    decimal=',',\n",
    "                    encoding='utf-8'\n",
    ")\n",
    "print(\"Step 0: Original Table - Shape:\", df.shape)\n",
    "df.head(2)"
   ]
  },
  {
   "cell_type": "code",
   "execution_count": null,
   "metadata": {},
   "outputs": [],
   "source": [
    "# Display df_final\n",
    "print(\"Final dataFrame:\" )\n",
    "print(df.to_string(index=False))"
   ]
  },
  {
   "cell_type": "markdown",
   "metadata": {},
   "source": [
    "# 1. How many jobs for a particular position"
   ]
  },
  {
   "cell_type": "code",
   "execution_count": null,
   "metadata": {},
   "outputs": [],
   "source": [
    "# Group by 'job' column and count the occurrences\n",
    "job_counts = df.groupby('job').size().reset_index(name='count')\n",
    "\n",
    "# Display the resulting DataFrame with counts for each job\n",
    "job_counts"
   ]
  },
  {
   "cell_type": "markdown",
   "metadata": {},
   "source": [
    "# 2. Average salary for each job"
   ]
  },
  {
   "cell_type": "code",
   "execution_count": null,
   "metadata": {},
   "outputs": [],
   "source": [
    "# Convert 'salary_avg' column to numeric\n",
    "df['salary_avg'] = pd.to_numeric(df['salary_avg'], errors='coerce')\n",
    "\n",
    "# Group by the 'job' variable and calculate the rounded average salary\n",
    "average_salary_per_job = df.groupby('job')['salary_avg'].mean().round(2)\n",
    "\n",
    "# Display the result\n",
    "print(average_salary_per_job)"
   ]
  },
  {
   "cell_type": "markdown",
   "metadata": {},
   "source": [
    "# 3. Which city has the most job offers + own calculations"
   ]
  },
  {
   "cell_type": "code",
   "execution_count": null,
   "metadata": {},
   "outputs": [],
   "source": [
    "# Group by 'location_city' and count the number of job offers in each city\n",
    "job_offers_per_city = df.groupby('location_city')['job'].count()\n",
    "\n",
    "# Find the city with the most job offers\n",
    "city_with_most_job_offers = job_offers_per_city.idxmax()\n",
    "number_of_job_offers_in_most_city = job_offers_per_city.max()\n",
    "\n",
    "# Display the result\n",
    "print(f\"The city with the most job offers is {city_with_most_job_offers} with {number_of_job_offers_in_most_city} job offers.\")\n"
   ]
  },
  {
   "cell_type": "markdown",
   "metadata": {},
   "source": [
    "3.a Which city has the most jobs per particular job category"
   ]
  },
  {
   "cell_type": "code",
   "execution_count": null,
   "metadata": {},
   "outputs": [],
   "source": [
    "# Group by both 'location_city' and 'job', then count the number of jobs for each combination\n",
    "jobs_per_city_per_job = df.groupby(['location_city', 'job'])['job'].count()\n",
    "\n",
    "# Find the city with the most jobs for each job title\n",
    "most_jobs_per_job_in_city = jobs_per_city_per_job.groupby('job').idxmax()\n",
    "most_jobs_count_per_job_in_city = jobs_per_city_per_job.groupby('job').max()\n",
    "\n",
    "# Display the result\n",
    "for job, (city, count) in most_jobs_per_job_in_city.items():\n",
    "    print(f\"For job title '{job}', the city with the most jobs is '{city}' with {most_jobs_count_per_job_in_city[job]} jobs.\")"
   ]
  },
  {
   "cell_type": "markdown",
   "metadata": {},
   "source": [
    "3.b Counting type of location for each job category (specific location/remote)"
   ]
  },
  {
   "cell_type": "code",
   "execution_count": null,
   "metadata": {},
   "outputs": [],
   "source": [
    "# Group by 'job' and 'location_remote', then count the number of jobs for each combination\n",
    "jobs_count_per_location = df.groupby(['job', 'location_remote'])['job'].count()\n",
    "\n",
    "# Display the result\n",
    "for (job, location_remote), count in jobs_count_per_location.items():\n",
    "    cities = df.loc[(df['job'] == job) & (df['location_remote'] == location_remote), 'location_city'].unique()\n",
    "    \n",
    "    if location_remote:\n",
    "        print(f\"For job title '{job}', there are {count} remote job(s).\")\n",
    "    else:\n",
    "        print(f\"For job title '{job}', there are {count} job(s) available in specific cities: {', '.join(cities)}\")"
   ]
  },
  {
   "cell_type": "code",
   "execution_count": null,
   "metadata": {},
   "outputs": [],
   "source": [
    "# Group by 'job' and 'location_remote', then count the number of jobs for each combination\n",
    "jobs_count_per_location = df.groupby(['job', 'location_remote'])['job'].count()\n",
    "\n",
    "# Display the result\n",
    "for (job, location_remote), count in jobs_count_per_location.items():\n",
    "    if not location_remote:  # Exclude remote jobs\n",
    "        specific_city_data = df.loc[(df['job'] == job) & (df['location_remote'] == location_remote), 'location_city']\n",
    "        \n",
    "        # Extract unique cities and convert to strings\n",
    "        cities = specific_city_data.unique()\n",
    "        cities = [str(city) for city in cities]\n",
    "        \n",
    "        # Count the occurrences of each city for the particular job\n",
    "        city_occurrences = specific_city_data.value_counts()\n",
    "        \n",
    "        print(f\"For job title '{job}', there are {count} job(s) available in specific cities: {', '.join(cities)}\")\n",
    "        \n",
    "        # Display information about city occurrences\n",
    "        print(f\"City occurrences for job title '{job}':\")\n",
    "        for city, occurrences in city_occurrences.items():\n",
    "            print(f\"- {city}: {occurrences} times\")\n",
    "        print()"
   ]
  },
  {
   "cell_type": "markdown",
   "metadata": {},
   "source": [
    "# 4. Where is the highest rate offered? - counted from salary_avg"
   ]
  },
  {
   "cell_type": "code",
   "execution_count": null,
   "metadata": {},
   "outputs": [],
   "source": [
    "# Convert 'salary_avg' column to numeric\n",
    "df['salary_avg'] = pd.to_numeric(df['salary_avg'], errors='coerce')\n",
    "\n",
    "# Group by 'location_city' and calculate the average salary for each city\n",
    "average_salary_per_city = df.groupby('location_city')['salary_avg'].mean()\n",
    "\n",
    "# Find the city with the highest average salary\n",
    "city_with_highest_salary = average_salary_per_city.idxmax()\n",
    "highest_salary = average_salary_per_city.max()\n",
    "\n",
    "# Display the result\n",
    "print(f\"The city with the highest average salary across all jobs is '{city_with_highest_salary}' with a salary of {highest_salary:.2f} PLN.\")"
   ]
  },
  {
   "cell_type": "markdown",
   "metadata": {},
   "source": [
    "Calculation of highest rate per particular job name"
   ]
  },
  {
   "cell_type": "code",
   "execution_count": null,
   "metadata": {},
   "outputs": [],
   "source": [
    "# Convert 'salary_avg' column to numeric\n",
    "df['salary_avg'] = pd.to_numeric(df['salary_avg'], errors='coerce')\n",
    "\n",
    "# Group by 'job' and 'location_city', then calculate the average salary for each combination\n",
    "average_salary_per_city_per_job = df.groupby(['job', 'location_city'])['salary_avg'].mean()\n",
    "\n",
    "# Find the city with the highest average salary for each job\n",
    "city_with_highest_salary_per_job = average_salary_per_city_per_job.groupby('job').idxmax()\n",
    "highest_salary_per_job = average_salary_per_city_per_job.groupby('job').max()\n",
    "\n",
    "# Display the result\n",
    "for job, city_index in city_with_highest_salary_per_job.items():\n",
    "    city = city_index[1]\n",
    "    print(f\"For job name '{job}', the city with the highest average salary is '{city}' with a salary of {highest_salary_per_job[job]:.2f} PLN\")"
   ]
  },
  {
   "cell_type": "markdown",
   "metadata": {},
   "source": [
    "# 5. What is the difference between the offer for a regular and a senior?\n",
    " Grouped by both 'job' and 'is_senior' columns and calculated the average salary for each combination. The output shows the average salary for regular and senior positions for each job title."
   ]
  },
  {
   "cell_type": "code",
   "execution_count": null,
   "metadata": {},
   "outputs": [],
   "source": [
    "import pandas as pd\n",
    "\n",
    "# Convert 'salary_avg' column to numeric\n",
    "df['salary_avg'] = pd.to_numeric(df['salary_avg'], errors='coerce')\n",
    "\n",
    "# Separate data for regular and senior positions\n",
    "regular_data = df[df['is_senior'] == 0]\n",
    "senior_data = df[df['is_senior'] == 1]\n",
    "\n",
    "# Calculate overall average salary for regular and senior positions\n",
    "overall_avg_salary_regular = regular_data['salary_avg'].mean()\n",
    "overall_avg_salary_senior = senior_data['salary_avg'].mean()\n",
    "\n",
    "# Display the result\n",
    "print(f\"Overall average salary for Regular positions: {overall_avg_salary_regular:.2f} PLN.\")\n",
    "print(f\"Overall average salary for Senior positions: {overall_avg_salary_senior:.2f} PLN.\")\n",
    "\n",
    "# Calculate and display the difference\n",
    "difference = overall_avg_salary_senior - overall_avg_salary_regular\n",
    "print(f\"Difference in average salary (Senior - Regular): {difference:.2f} PLN.\")\n"
   ]
  },
  {
   "cell_type": "markdown",
   "metadata": {},
   "source": [
    "# ... and further calculation for particular job name"
   ]
  },
  {
   "cell_type": "code",
   "execution_count": null,
   "metadata": {},
   "outputs": [],
   "source": [
    "# Convert 'salary_avg' column to numeric\n",
    "df['salary_avg'] = pd.to_numeric(df['salary_avg'], errors='coerce')\n",
    "\n",
    "# Calculate average salary for regular and senior positions\n",
    "average_salary_per_seniority = df.groupby(['job', 'is_senior'])['salary_avg'].mean()\n",
    "\n",
    "# Display the result\n",
    "for job in df['job'].unique():\n",
    "    avg_salary_regular = average_salary_per_seniority.get((job, 0), 0)\n",
    "    avg_salary_senior = average_salary_per_seniority.get((job, 1), 0)\n",
    "\n",
    "    print(f\"For job title '{job}':\")\n",
    "    print(f\"  Average salary for Regular: {avg_salary_regular:.2f} PLN\")\n",
    "    print(f\"  Average salary for Senior: {avg_salary_senior:.2f} PLN\")\n",
    "    print()"
   ]
  },
  {
   "cell_type": "markdown",
   "metadata": {},
   "source": [
    "# 6. What is the lowest possible cost to hire a team consisting of a data analyst, data engineer and data scientist?"
   ]
  },
  {
   "cell_type": "code",
   "execution_count": null,
   "metadata": {},
   "outputs": [],
   "source": [
    "# Convert 'salary_avg' column to numeric\n",
    "df['salary_avg'] = pd.to_numeric(df['salary_avg'], errors='coerce')\n",
    "\n",
    "# Filter data for each role\n",
    "data_analyst_data = df[df['job'] == 'data analyst']\n",
    "data_engineer_data = df[df['job'] == 'data engineer']\n",
    "data_scientist_data = df[df['job'] == 'data scientist']\n",
    "\n",
    "# Calculate the lowest possible cost for each role\n",
    "lowest_cost_data_analyst = data_analyst_data['salary_avg'].min()\n",
    "lowest_cost_data_engineer = data_engineer_data['salary_avg'].min()\n",
    "lowest_cost_data_scientist = data_scientist_data['salary_avg'].min()\n",
    "\n",
    "# Sum the lowest costs for each role to get the total cost\n",
    "total_lowest_cost = lowest_cost_data_analyst + lowest_cost_data_engineer + lowest_cost_data_scientist\n",
    "\n",
    "# Display the result\n",
    "print(f\"The lowest possible cost to hire a team is: {total_lowest_cost:.2f} PLN.\")"
   ]
  },
  {
   "cell_type": "markdown",
   "metadata": {},
   "source": [
    "# 7. Is it possible for the team to be formed in a single city? If so, where would it be cheapest?"
   ]
  },
  {
   "cell_type": "code",
   "execution_count": null,
   "metadata": {},
   "outputs": [],
   "source": [
    "# Convert 'salary_avg' column to numeric\n",
    "df['salary_avg'] = pd.to_numeric(df['salary_avg'], errors='coerce')\n",
    "\n",
    "# Filter data for each role\n",
    "data_analyst_data = df[df['job'] == 'data analyst']\n",
    "data_engineer_data = df[df['job'] == 'data engineer']\n",
    "data_scientist_data = df[df['job'] == 'data scientist']\n",
    "\n",
    "# Find the city with the lowest salary for each role\n",
    "city_lowest_cost_data_analyst = data_analyst_data.loc[data_analyst_data['salary_avg'].idxmin(), 'location_city']\n",
    "city_lowest_cost_data_engineer = data_engineer_data.loc[data_engineer_data['salary_avg'].idxmin(), 'location_city']\n",
    "city_lowest_cost_data_scientist = data_scientist_data.loc[data_scientist_data['salary_avg'].idxmin(), 'location_city']\n",
    "\n",
    "# Display the result\n",
    "print(f\"The city with the lowest salary for a Data Analyst is: {city_lowest_cost_data_analyst}\")\n",
    "print(f\"The city with the lowest salary for a Data Engineer is: {city_lowest_cost_data_engineer}\")\n",
    "print(f\"The city with the lowest salary for a Data Scientist is: {city_lowest_cost_data_scientist}\")\n"
   ]
  },
  {
   "cell_type": "markdown",
   "metadata": {},
   "source": [
    "# move ntb to ntbs folder"
   ]
  },
  {
   "cell_type": "code",
   "execution_count": null,
   "metadata": {},
   "outputs": [],
   "source": [
    "import shutil\n",
    "import os\n",
    "\n",
    "def move_notebook_to_notebooks(notebook_path, notebooks_folder):\n",
    "    notebook_filename = os.path.basename(notebook_path)\n",
    "\n",
    "    # Move the notebook file to the \"notebooks\" subfolder\n",
    "    shutil.move(notebook_path, os.path.join(notebooks_folder, notebook_filename))\n",
    "    print(f\"Notebook '{notebook_filename}' moved to the 'notebooks' subfolder.\")\n",
    "\n",
    "# Example usage with specific paths\n",
    "notebook_path = \"\\\\SESSION 6 WORKSHOP\\\\WEBscraping\\\\4.0_data_analysis.ipynb\"\n",
    "notebooks_folder = \"\\\\SESSION 6 WORKSHOP\\\\Phyton_Workshop\\\\notebooks\"\n",
    "\n",
    "move_notebook_to_notebooks(notebook_path, notebooks_folder)"
   ]
  }
 ],
 "metadata": {
  "kernelspec": {
   "display_name": "base",
   "language": "python",
   "name": "python3"
  },
  "language_info": {
   "codemirror_mode": {
    "name": "ipython",
    "version": 3
   },
   "file_extension": ".py",
   "mimetype": "text/x-python",
   "name": "python",
   "nbconvert_exporter": "python",
   "pygments_lexer": "ipython3",
   "version": "undefined.undefined.undefined"
  }
 },
 "nbformat": 4,
 "nbformat_minor": 2
}

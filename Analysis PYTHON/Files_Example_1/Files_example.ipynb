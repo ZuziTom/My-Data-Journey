{
 "cells": [
  {
   "cell_type": "markdown",
   "metadata": {},
   "source": [
    "# Exercise 1\n",
    "\n",
    "Open the `poem.txt` file and display its content prefixing each line with the string`\"line <LINE NUMBER>: \"`.\n",
    "### Hint:\n",
    "\n",
    "Use a `for` loop to read a file line by line, apart from this create a variable to store the line number.\n",
    "\n",
    "You can insert the line number into the string using `.format(...)` method of f-string syntax.\n"
   ]
  },
  {
   "cell_type": "code",
   "execution_count": 2,
   "metadata": {},
   "outputs": [
    {
     "data": {
      "text/plain": [
       "['Faster than fairies, faster than witches,\\n',\n",
       " 'Bridges and houses, hedges and ditches;\\n',\n",
       " 'And charging along like troops in a battle,\\n',\n",
       " 'All through the meadows the horses and cattle:\\n',\n",
       " 'All of the sights of the hill and the plain\\n',\n",
       " 'Fly as thick as driving rain;\\n',\n",
       " 'And ever again in the wink of an eye,\\n',\n",
       " 'Painted stations whistle by.\\n',\n",
       " 'Here is a child who clambers and scrambles,\\n',\n",
       " 'All by himself and gathering brambles;\\n',\n",
       " 'Here is a tramp who stands and gazes;\\n',\n",
       " 'And there is the green for stringing the daisies!\\n',\n",
       " 'Here is a cart run away in the road\\n',\n",
       " 'Lumping along with man and load;\\n',\n",
       " 'And here is a mill and there is a river,\\n',\n",
       " 'Each a glimpse and gone forever!\\n',\n",
       " '\\n',\n",
       " 'Robert Louis Stevenson - From A Child’s Garden of Verses (1885)\\n',\n",
       " 'https://www.gutenberg.org/files/19722/19722-h/19722-h.htm#FROM_A_RAILWAY_CARRIAGE\\n']"
      ]
     },
     "execution_count": 2,
     "metadata": {},
     "output_type": "execute_result"
    }
   ],
   "source": [
    "# Write exercise solution here\n",
    "\n",
    "with open(\"poem.txt\", \"r\") as soubor:\n",
    "    lines = soubor.readlines()\n",
    "lines"
   ]
  },
  {
   "cell_type": "code",
   "execution_count": 2,
   "metadata": {},
   "outputs": [
    {
     "data": {
      "text/plain": [
       "'Faster than fairies, faster than witches,\\n'"
      ]
     },
     "execution_count": 2,
     "metadata": {},
     "output_type": "execute_result"
    }
   ],
   "source": [
    "with open(\"poem.txt\", \"r\") as soubor:\n",
    "    lines = soubor.readline()\n",
    "lines"
   ]
  },
  {
   "cell_type": "code",
   "execution_count": 12,
   "metadata": {},
   "outputs": [
    {
     "name": "stdout",
     "output_type": "stream",
     "text": [
      "Line nbr 1: Faster than fairies, faster than witches,\n",
      "Line nbr 2: Bridges and houses, hedges and ditches;\n",
      "Line nbr 3: And charging along like troops in a battle,\n",
      "Line nbr 4: All through the meadows the horses and cattle:\n",
      "Line nbr 5: All of the sights of the hill and the plain\n",
      "Line nbr 6: Fly as thick as driving rain;\n",
      "Line nbr 7: And ever again in the wink of an eye,\n",
      "Line nbr 8: Painted stations whistle by.\n",
      "Line nbr 9: Here is a child who clambers and scrambles,\n",
      "Line nbr 10: All by himself and gathering brambles;\n",
      "Line nbr 11: Here is a tramp who stands and gazes;\n",
      "Line nbr 12: And there is the green for stringing the daisies!\n",
      "Line nbr 13: Here is a cart run away in the road\n",
      "Line nbr 14: Lumping along with man and load;\n",
      "Line nbr 15: And here is a mill and there is a river,\n",
      "Line nbr 16: Each a glimpse and gone forever!\n",
      "Line nbr 17: \n",
      "Line nbr 18: Robert Louis Stevenson - From A Childâ€™s Garden of Verses (1885)\n",
      "Line nbr 19: https://www.gutenberg.org/files/19722/19722-h/19722-h.htm#FROM_A_RAILWAY_CARRIAGE\n"
     ]
    }
   ],
   "source": [
    "# enumerate - vie priradit poradie prvku automaticky\n",
    "\n",
    "cesta = \"poem.txt.\"\n",
    "\n",
    "with open(cesta, \"r\") as soubor:\n",
    "    lines = soubor.readlines()\n",
    "   \n",
    "    for number_line, lines in enumerate(lines, start=1):\n",
    "        print(f\"Line nbr {number_line}: {lines.strip()}\")"
   ]
  },
  {
   "cell_type": "code",
   "execution_count": 17,
   "metadata": {},
   "outputs": [
    {
     "name": "stdout",
     "output_type": "stream",
     "text": [
      "           *\n",
      "          ***\n",
      "         *****\n",
      "        *******\n",
      "       *********\n",
      "      ***********\n",
      "     *************\n",
      "    ***************\n",
      "   *****************\n",
      "  *******************\n",
      " *********************\n",
      "***********************\n"
     ]
    }
   ],
   "source": [
    "# Open the file in write mode\n",
    "with open('tree.txt', 'w') as file:\n",
    "    # Write a 12-line Christmas tree\n",
    "    for i in range(1, 13):\n",
    "        spaces = ' ' * (12 - i)\n",
    "        stars = '*' * (2 * i - 1)\n",
    "        line = spaces + stars + '\\n'\n",
    "        print(line, end=\"\")"
   ]
  },
  {
   "cell_type": "code",
   "execution_count": null,
   "metadata": {},
   "outputs": [],
   "source": []
  },
  {
   "cell_type": "code",
   "execution_count": null,
   "metadata": {},
   "outputs": [],
   "source": [
    "with open('new_file.txt', 'w') as my_text_file:\n",
    "    my_text_file.write('Line1\\n')\n",
    "    my_text_file.write('Line2\\n')\n",
    "    my_text_file.writelines(['Line3\\n', 'Line4\\n', 'Line5'])"
   ]
  }
 ],
 "metadata": {
  "kernelspec": {
   "display_name": "Python 3 (ipykernel)",
   "language": "python",
   "name": "python3"
  },
  "language_info": {
   "codemirror_mode": {
    "name": "ipython",
    "version": 3
   },
   "file_extension": ".py",
   "mimetype": "text/x-python",
   "name": "python",
   "nbconvert_exporter": "python",
   "pygments_lexer": "ipython3",
   "version": "3.11.5"
  }
 },
 "nbformat": 4,
 "nbformat_minor": 4
}

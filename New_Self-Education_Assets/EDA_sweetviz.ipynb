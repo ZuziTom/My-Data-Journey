{
 "cells": [
  {
   "cell_type": "code",
   "execution_count": 6,
   "metadata": {},
   "outputs": [
    {
     "data": {
      "application/vnd.jupyter.widget-view+json": {
       "model_id": "11ad922b9e2c415f988caa9f347a23f6",
       "version_major": 2,
       "version_minor": 0
      },
      "text/plain": [
       "                                             |          | [  0%]   00:00 -> (? left)"
      ]
     },
     "metadata": {},
     "output_type": "display_data"
    },
    {
     "name": "stdout",
     "output_type": "stream",
     "text": [
      "Report D:\\ZUZANA_DATA ANALYST\\Data analysis portfolio for GitHub\\Data\\card_frauds.html was generated! NOTEBOOK/COLAB USERS: the web browser MAY not pop up, regardless, the report IS saved in your notebook/colab files.\n"
     ]
    }
   ],
   "source": [
    "import sweetviz as sv\n",
    "import webbrowser\n",
    "import os\n",
    "import pandas as pd\n",
    "\n",
    "df = pd.read_csv('D:\\\\ZUZANA_DATA ANALYST\\\\Data analysis portfolio for GitHub\\\\Data\\\\card_frauds.csv')\n",
    "\n",
    "# Generate the Sweetviz report\n",
    "report = sv.analyze(df)\n",
    "\n",
    "# Define the output file path\n",
    "output_file = 'D:\\\\ZUZANA_DATA ANALYST\\\\Data analysis portfolio for GitHub\\\\Data\\\\card_frauds.html'\n",
    "\n",
    "# Show the report and save it as an HTML file\n",
    "report.show_html(output_file)\n",
    "\n",
    "# Open the HTML file automatically in the default web browser\n",
    "if os.path.exists(output_file):\n",
    "    webbrowser.open('file://' + os.path.realpath(output_file))\n",
    "else:\n",
    "    print(f\"Error: The file {output_file} does not exist.\")\n"
   ]
  }
 ],
 "metadata": {
  "kernelspec": {
   "display_name": "base",
   "language": "python",
   "name": "python3"
  },
  "language_info": {
   "codemirror_mode": {
    "name": "ipython",
    "version": 3
   },
   "file_extension": ".py",
   "mimetype": "text/x-python",
   "name": "python",
   "nbconvert_exporter": "python",
   "pygments_lexer": "ipython3",
   "version": "3.11.5"
  }
 },
 "nbformat": 4,
 "nbformat_minor": 2
}
